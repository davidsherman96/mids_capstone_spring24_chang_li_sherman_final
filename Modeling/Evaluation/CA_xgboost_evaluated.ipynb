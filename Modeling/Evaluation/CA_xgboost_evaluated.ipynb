{
 "cells": [
  {
   "cell_type": "code",
   "execution_count": 206,
   "metadata": {
    "id": "oeCE85RZaBN0"
   },
   "outputs": [],
   "source": [
    "# Load packages\n",
    "\n",
    "import pandas as pd\n",
    "import numpy as np\n",
    "import matplotlib.pyplot as plt\n",
    "import seaborn as sns\n",
    "import plotly.express as px\n",
    "import datetime\n",
    "from sklearn import metrics\n",
    "from sklearn.metrics import accuracy_score, precision_score, recall_score, f1_score\n",
    "from sklearn.metrics import classification_report\n",
    "from sklearn.metrics import confusion_matrix\n",
    "from sklearn.preprocessing import LabelEncoder,MinMaxScaler, StandardScaler\n",
    "\n",
    "import tensorflow as tf\n",
    "from xgboost import XGBRegressor"
   ]
  },
  {
   "cell_type": "code",
   "execution_count": 207,
   "metadata": {
    "id": "4dmgFLz8_ySQ"
   },
   "outputs": [],
   "source": [
    "# Set random seed for TensorFlow\n",
    "tf.random.set_seed(123)\n",
    "\n",
    "# Set random seed for Python\n",
    "np.random.seed(123)\n",
    "\n",
    "tf.keras.utils.set_random_seed(1)\n",
    "\n",
    "tf.config.experimental.enable_op_determinism()"
   ]
  },
  {
   "cell_type": "code",
   "execution_count": 209,
   "metadata": {
    "id": "_1Ua7mbsbUOr"
   },
   "outputs": [],
   "source": [
    "# Load data\n",
    "data_all_county = pd.read_csv('data/CA_data_lat_log_weekly.csv')\n",
    "\n",
    "# Extract month from the date as a feature\n",
    "data_all_county['date'] = pd.to_datetime(data_all_county['date'])\n",
    "data_all_county['month'] = data_all_county['date'].dt.month"
   ]
  },
  {
   "cell_type": "markdown",
   "metadata": {
    "id": "JkZqApXYXb-9"
   },
   "source": [
    "# Processing Functions"
   ]
  },
  {
   "cell_type": "code",
   "execution_count": 125,
   "metadata": {
    "id": "fIDCIpwSXXKt"
   },
   "outputs": [],
   "source": [
    "def ts_multi_data_prep(dataset, target, start, end, window, step_out):\n",
    "    X = []\n",
    "    y = []\n",
    "    start = start + window\n",
    "    if end is None:\n",
    "        end = len(dataset) - step_out\n",
    "        #end = len(dataset)\n",
    "    for i in range(start, end):\n",
    "        indices = range(i-window, i)\n",
    "        X.append(dataset[indices])\n",
    "\n",
    "        indicey = range(i, i+step_out) #revise the window definition\n",
    "        y.append(target[indicey])\n",
    "    return np.array(X), np.array(y)"
   ]
  },
  {
   "cell_type": "code",
   "execution_count": 126,
   "metadata": {
    "id": "vp6wtluEXfZb"
   },
   "outputs": [],
   "source": [
    "def timeseries_evaluation_metrics_func(y_true, y_pred):\n",
    "    def mean_absolute_percentage_error(y_true, y_pred):\n",
    "        y_true, y_pred = np.array(y_true), np.array(y_pred)\n",
    "        return np.mean(np.abs((y_true - y_pred) / y_true)) * 100\n",
    "\n",
    "    print('Evaluation metric results:-')\n",
    "    mse = metrics.mean_squared_error(y_true.flatten(), y_pred.flatten())\n",
    "    mae = metrics.mean_absolute_error(y_true.flatten(), y_pred.flatten())\n",
    "    rmse = np.sqrt(mse)\n",
    "    #mape = mean_absolute_percentage_error(y_true.flatten(), y_pred.flatten())\n",
    "    r2 = metrics.r2_score(y_true.flatten(), y_pred.flatten())\n",
    "    print(f'MSE is : {mse}')\n",
    "    print(f'MAE is : {mae}')\n",
    "    print(f'RMSE is : {rmse}')\n",
    "    #print(f'MAPE is : {mape}')\n",
    "    print(f'R2 is : {r2}\\n')"
   ]
  },
  {
   "cell_type": "code",
   "execution_count": 127,
   "metadata": {
    "id": "nHk_Sjmc7msB"
   },
   "outputs": [],
   "source": [
    "def timeseries_evaluation_metrics_binary(y_true, y_pred):\n",
    "    print('Evaluation metric results:-')\n",
    "    accuracy = accuracy_score(y_true.flatten(), y_pred.flatten())\n",
    "    precision = precision_score(y_true.flatten(), y_pred.flatten(), average='macro')\n",
    "    recall = recall_score(y_true.flatten(), y_pred.flatten(), average='macro')\n",
    "    f1 = f1_score(y_true.flatten(), y_pred.flatten(), average='macro')\n",
    "\n",
    "    print(f'Accuracy: {accuracy}')\n",
    "    print(f'Precision: {precision}')\n",
    "    print(f'Recall: {recall}')\n",
    "    print(f'F1-score: {f1}\\n')"
   ]
  },
  {
   "cell_type": "code",
   "execution_count": 131,
   "metadata": {
    "id": "swPddKW7dyDg"
   },
   "outputs": [],
   "source": [
    "def transform_county_data(x_data_array, y_data_array):\n",
    "    # Lists to store x_train_c and y_train_c arrays\n",
    "    x_c_list = []\n",
    "    y_c_list = []\n",
    "    # Divide the arrays into 'unique_fips_count' number of subarrays\n",
    "    x_subarrays = np.array_split(x_data_array, unique_fips_count, axis=0)\n",
    "    y_subarrays = np.array_split(y_data_array, unique_fips_count, axis=0)\n",
    "\n",
    "    # Combine x_subarrays and y_subarrays into tuples\n",
    "    data_tuples = [(x_subarray, y_subarray) for x_subarray, y_subarray in zip(x_subarrays, y_subarrays)]\n",
    "\n",
    "    # Print or use the data tuples as needed\n",
    "    for idx, data_tuple in enumerate(data_tuples):\n",
    "        x_window_c, y_window_c = ts_multi_data_prep(data_tuple[0],data_tuple[1], 0, None, hist_window, step_out)\n",
    "        # Append x_window_c and y_window_c arrays to lists\n",
    "        x_c_list.append(x_window_c)\n",
    "        y_c_list.append(y_window_c)\n",
    "\n",
    "    # Stack arrays in lists to create x_train_c and y_train_c\n",
    "    x_all_county = np.vstack(x_c_list)\n",
    "    y_all_county = np.vstack(y_c_list)\n",
    "\n",
    "    return x_all_county, y_all_county"
   ]
  },
  {
   "cell_type": "markdown",
   "metadata": {},
   "source": [
    "# Data Processing"
   ]
  },
  {
   "cell_type": "code",
   "execution_count": 128,
   "metadata": {
    "id": "BJyFdGZFeeVi"
   },
   "outputs": [],
   "source": [
    "hist_window = 30\n",
    "step_out = 12\n",
    "x_train_c, y_train_c, x_vali_c, y_vali_c, x_test_c, y_test_c = [], [], [], [], [], []\n",
    "unique_fips = data_all_county['fips'].unique()\n",
    "unique_fips_count = data_all_county['fips'].nunique()\n",
    "for fips in unique_fips:\n",
    "    # Extract dataframe for the current FIPS value\n",
    "    data_county = data_all_county[data_all_county['fips'] == fips]\n",
    "\n",
    "    X_data = data_county[['lat','lon','PRECTOT', 'PS', 'QV2M', 'T2M', 'T2MDEW', 'T2MWET',\n",
    "       'T2M_MAX', 'T2M_MIN', 'T2M_RANGE', 'TS', 'WS10M', 'WS10M_MAX',\n",
    "       'WS10M_MIN', 'WS10M_RANGE', 'WS50M', 'WS50M_MAX', 'WS50M_MIN',\n",
    "       'WS50M_RANGE', 'score', 'month']]\n",
    "    Y_data = data_county[['score']]\n",
    "    #train_val_test split 70%-10%-20%\n",
    "    n = len(X_data)\n",
    "\n",
    "    x_train_county = X_data[0:int(n*0.7)]\n",
    "    y_train_county = Y_data[0:int(n*0.7)]\n",
    "    x_vali_county = X_data[int(n*0.7):int(n*0.8)]\n",
    "    y_vali_county = Y_data[int(n*0.7):int(n*0.8)]\n",
    "    x_test_county = X_data[int(n*0.8):]\n",
    "    y_test_county = Y_data[int(n*0.8):]\n",
    "\n",
    "\n",
    "    if fips == 6001:\n",
    "        x_train_c, y_train_c, x_vali_c, y_vali_c, x_test_c, y_test_c = x_train_county, y_train_county, x_vali_county, y_vali_county, x_test_county, y_test_county\n",
    "\n",
    "    else:\n",
    "        x_train_c = np.concatenate((x_train_c, x_train_county), axis=0)\n",
    "        y_train_c = np.concatenate((y_train_c, y_train_county), axis=0)\n",
    "        x_vali_c = np.concatenate((x_vali_c, x_vali_county), axis=0)\n",
    "        y_vali_c = np.concatenate((y_vali_c, y_vali_county), axis=0)\n",
    "        x_test_c = np.concatenate((x_test_c, x_test_county), axis=0)\n",
    "        y_test_c = np.concatenate((y_test_c, y_test_county), axis=0)\n"
   ]
  },
  {
   "cell_type": "code",
   "execution_count": 129,
   "metadata": {
    "id": "MjYfAZXoYPE7"
   },
   "outputs": [],
   "source": [
    "X_scaler_train = MinMaxScaler()\n",
    "Y_scaler_train = MinMaxScaler()\n",
    "X_scaler_test = MinMaxScaler()\n",
    "Y_scaler_test = MinMaxScaler()\n",
    "X_scaler_vali = MinMaxScaler()\n",
    "Y_scaler_vali = MinMaxScaler()\n",
    "x_train_data = X_scaler_train.fit_transform(x_train_c)\n",
    "y_train_data = Y_scaler_train.fit_transform(y_train_c)\n",
    "x_vali_data = X_scaler_vali.fit_transform(x_vali_c)\n",
    "y_vali_data = Y_scaler_vali.fit_transform(y_vali_c)\n",
    "x_test_data = X_scaler_test.fit_transform(x_test_c)\n",
    "y_test_data = Y_scaler_test.fit_transform(y_test_c)"
   ]
  },
  {
   "cell_type": "code",
   "execution_count": 130,
   "metadata": {
    "colab": {
     "base_uri": "https://localhost:8080/"
    },
    "executionInfo": {
     "elapsed": 2,
     "status": "ok",
     "timestamp": 1711040275584,
     "user": {
      "displayName": "Angela Chang",
      "userId": "18143705945247269874"
     },
     "user_tz": 420
    },
    "id": "G3k9VE_AYtbb",
    "outputId": "3fe100f3-b026-4820-9d48-451a3cdf65b2"
   },
   "outputs": [
    {
     "data": {
      "text/plain": [
       "(44486, 22)"
      ]
     },
     "execution_count": 130,
     "metadata": {},
     "output_type": "execute_result"
    }
   ],
   "source": [
    "x_train_data.shape"
   ]
  },
  {
   "cell_type": "code",
   "execution_count": 132,
   "metadata": {
    "id": "NOygAYEWhEHl"
   },
   "outputs": [],
   "source": [
    "x_train, y_train = transform_county_data(x_train_data, y_train_data)\n",
    "x_vali, y_vali = transform_county_data(x_vali_data, y_vali_data)\n",
    "x_test, y_test = transform_county_data(x_test_data, y_test_data)"
   ]
  },
  {
   "cell_type": "code",
   "execution_count": 133,
   "metadata": {
    "colab": {
     "base_uri": "https://localhost:8080/"
    },
    "executionInfo": {
     "elapsed": 5,
     "status": "ok",
     "timestamp": 1711040277250,
     "user": {
      "displayName": "Angela Chang",
      "userId": "18143705945247269874"
     },
     "user_tz": 420
    },
    "id": "TboDAisnwNr4",
    "outputId": "4c0cd190-de60-4bee-f6df-79332bf0ecfd"
   },
   "outputs": [
    {
     "name": "stdout",
     "output_type": "stream",
     "text": [
      "Multiple window of past history\n",
      "\n",
      "[[5.29947117e-01 2.39715878e-01 2.92802021e-03 9.25820402e-01\n",
      "  2.91703421e-01 3.93943140e-01 5.81672307e-01 5.74511770e-01\n",
      "  3.60592630e-01 4.43743965e-01 3.41569163e-01 4.16622459e-01\n",
      "  1.76152575e-01 2.16563083e-01 1.30602590e-01 2.49950070e-01\n",
      "  2.20314920e-01 2.82671804e-01 1.43181818e-01 3.46506550e-01\n",
      "  1.21580000e-01 0.00000000e+00]\n",
      " [5.29947117e-01 2.39715878e-01 2.85802090e-02 9.19918596e-01\n",
      "  2.93541115e-01 4.06153001e-01 5.68814845e-01 5.62069488e-01\n",
      "  3.85812222e-01 4.46299767e-01 3.92053216e-01 4.21354682e-01\n",
      "  2.18351104e-01 2.93598508e-01 1.89077025e-01 3.03175554e-01\n",
      "  2.74006195e-01 3.01805130e-01 2.41711230e-01 2.49606987e-01\n",
      "  1.00720000e-01 0.00000000e+00]\n",
      " [5.29947117e-01 2.39715878e-01 1.04589224e-01 9.03841262e-01\n",
      "  3.81064393e-01 4.46916632e-01 6.60853074e-01 6.54908788e-01\n",
      "  3.91114563e-01 5.04884421e-01 2.81166479e-01 4.50917509e-01\n",
      "  1.99579516e-01 3.13486638e-01 1.20683931e-01 4.17415618e-01\n",
      "  2.65358802e-01 3.64192969e-01 1.63368984e-01 4.55021834e-01\n",
      "  0.00000000e+00 0.00000000e+00]\n",
      " [5.29947117e-01 2.39715878e-01 2.91094721e-01 8.97532434e-01\n",
      "  4.36538273e-01 4.54964977e-01 7.07969209e-01 7.02785557e-01\n",
      "  3.85062396e-01 5.27545862e-01 2.20526222e-01 4.63649297e-01\n",
      "  1.78705511e-01 2.55189559e-01 1.37450199e-01 3.03974436e-01\n",
      "  2.45224574e-01 2.77208910e-01 1.91711230e-01 2.74061135e-01\n",
      "  0.00000000e+00 0.00000000e+00]\n",
      " [5.29947117e-01 2.39715878e-01 3.11411596e-02 9.10455355e-01\n",
      "  3.43134372e-01 4.27496223e-01 6.29727418e-01 6.23268488e-01\n",
      "  3.91891168e-01 4.72823309e-01 3.50002970e-01 4.39198476e-01\n",
      "  1.63387896e-01 1.90428838e-01 1.42264276e-01 1.93728780e-01\n",
      "  2.11280330e-01 2.44484324e-01 1.81684492e-01 2.33013100e-01\n",
      "  0.00000000e+00 9.09090909e-02]\n",
      " [5.29947117e-01 2.39715878e-01 3.20972478e-02 9.05011447e-01\n",
      "  4.01450554e-01 4.60870760e-01 6.81380387e-01 6.75762622e-01\n",
      "  4.47779980e-01 5.03322542e-01 4.10168082e-01 4.61479106e-01\n",
      "  1.77504130e-01 2.61404599e-01 1.20683931e-01 3.33732774e-01\n",
      "  2.32318018e-01 3.10355748e-01 1.62299465e-01 3.67510917e-01\n",
      "  0.00000000e+00 9.09090909e-02]\n",
      " [5.29947117e-01 2.39715878e-01 3.23157823e-01 8.83439328e-01\n",
      "  4.24777026e-01 4.50789727e-01 6.97296493e-01 6.91961244e-01\n",
      "  3.66691661e-01 5.08064974e-01 2.20526222e-01 4.60683369e-01\n",
      "  3.53957051e-01 4.47731510e-01 2.26095618e-01 5.06690633e-01\n",
      "  4.42178627e-01 4.98047081e-01 3.10828877e-01 4.84017467e-01\n",
      "  0.00000000e+00 9.09090909e-02]\n",
      " [5.29947117e-01 2.39715878e-01 1.56457010e-01 8.87102518e-01\n",
      "  3.57835931e-01 4.34061255e-01 6.42333866e-01 6.36060858e-01\n",
      "  3.83375288e-01 4.85545522e-01 3.04448536e-01 4.45347351e-01\n",
      "  2.68208440e-01 3.22933499e-01 2.13147410e-01 3.21749551e-01\n",
      "  3.40733092e-01 3.71476829e-01 2.82486631e-01 3.11266376e-01\n",
      "  0.00000000e+00 9.09090909e-02]\n",
      " [5.29947117e-01 2.39715878e-01 1.23950010e-01 8.95548207e-01\n",
      "  3.50191120e-01 4.15519846e-01 6.36012049e-01 6.29740368e-01\n",
      "  3.49284987e-01 4.69245187e-01 2.63051613e-01 4.37004172e-01\n",
      "  2.87130200e-01 3.14605345e-01 2.46347942e-01 2.68024765e-01\n",
      "  3.69385648e-01 4.00084451e-01 3.57620321e-01 2.60786026e-01\n",
      "  0.00000000e+00 9.09090909e-02]\n",
      " [5.29947117e-01 2.39715878e-01 9.47551731e-02 8.79877894e-01\n",
      "  3.46858767e-01 4.14888065e-01 6.32813953e-01 6.26296268e-01\n",
      "  3.62969311e-01 4.61208610e-01 3.10209657e-01 4.40066553e-01\n",
      "  2.02582970e-01 2.29086389e-01 1.79614874e-01 2.11304174e-01\n",
      "  2.58389262e-01 2.91248812e-01 2.06550802e-01 2.77903930e-01\n",
      "  0.00000000e+00 1.81818182e-01]\n",
      " [5.29947117e-01 2.39715878e-01 3.16192037e-02 9.10964131e-01\n",
      "  3.90277369e-01 4.48372476e-01 6.72232345e-01 6.66452199e-01\n",
      "  4.18135076e-01 4.85005964e-01 3.82847301e-01 4.63480504e-01\n",
      "  1.96576062e-01 2.45494096e-01 1.85590969e-01 2.30277611e-01\n",
      "  2.59808983e-01 2.87342975e-01 2.11898396e-01 2.64628821e-01\n",
      "  0.00000000e+00 1.81818182e-01]\n",
      " [5.29947117e-01 2.39715878e-01 6.82920167e-04 9.02213177e-01\n",
      "  3.48916985e-01 4.67435792e-01 6.33037076e-01 6.26674741e-01\n",
      "  4.68052059e-01 4.67484523e-01 5.30082556e-01 4.78478937e-01\n",
      "  3.52755669e-01 4.12802983e-01 2.93160691e-01 3.69482724e-01\n",
      "  4.63861642e-01 4.42943101e-01 4.12165775e-01 2.60436681e-01\n",
      "  0.00000000e+00 1.81818182e-01]\n",
      " [5.29947117e-01 2.39715878e-01 1.36584033e-04 8.96413126e-01\n",
      "  3.53621484e-01 4.47795632e-01 6.41329813e-01 6.35038983e-01\n",
      "  4.39478335e-01 4.66263418e-01 4.69264121e-01 4.74717272e-01\n",
      "  2.52139961e-01 2.71597265e-01 2.47177955e-01 1.98522069e-01\n",
      "  3.08595767e-01 3.03599704e-01 2.68315508e-01 2.17467249e-01\n",
      "  0.00000000e+00 1.81818182e-01]\n",
      " [5.29947117e-01 2.39715878e-01 0.00000000e+00 9.00839481e-01\n",
      "  4.07331177e-01 5.12017580e-01 6.82310067e-01 6.76784498e-01\n",
      "  5.32778105e-01 4.99602431e-01 6.06580745e-01 5.21786309e-01\n",
      "  2.49286680e-01 2.88750777e-01 2.35391766e-01 2.39664470e-01\n",
      "  3.33376355e-01 3.62609522e-01 2.69919786e-01 3.13013100e-01\n",
      "  0.00000000e+00 2.72727273e-01]\n",
      " [5.29947117e-01 2.39715878e-01 8.19504200e-04 9.00585093e-01\n",
      "  4.17818289e-01 4.95261640e-01 6.94135584e-01 6.88782076e-01\n",
      "  5.11809758e-01 5.08093372e-01 5.42317515e-01 5.22871404e-01\n",
      "  2.66106022e-01 3.03915475e-01 2.45019920e-01 2.52646295e-01\n",
      "  3.02787816e-01 3.20384250e-01 2.64973262e-01 2.49781659e-01\n",
      "  0.00000000e+00 2.72727273e-01]\n",
      " [5.29947117e-01 2.39715878e-01 1.05886772e-01 8.84151615e-01\n",
      "  4.20954621e-01 4.98173328e-01 6.93986836e-01 6.88592839e-01\n",
      "  4.53269777e-01 5.47935480e-01 3.29274811e-01 5.17807625e-01\n",
      "  2.49436852e-01 3.47669360e-01 1.61022576e-01 4.23806671e-01\n",
      "  3.06917914e-01 3.62081706e-01 2.16978610e-01 3.81135371e-01\n",
      "  0.00000000e+00 2.72727273e-01]\n",
      " [5.29947117e-01 2.39715878e-01 1.57071638e-03 9.02365810e-01\n",
      "  3.92335588e-01 5.00343359e-01 6.72864527e-01 6.67171297e-01\n",
      "  4.97670184e-01 4.98892486e-01 5.30141949e-01 5.24221745e-01\n",
      "  3.02447815e-01 3.34120572e-01 2.47841965e-01 2.97183942e-01\n",
      "  3.51961797e-01 3.53742215e-01 3.29010695e-01 2.21659389e-01\n",
      "  0.00000000e+00 2.72727273e-01]\n",
      " [5.29947117e-01 2.39715878e-01 1.36584033e-04 8.98651743e-01\n",
      "  3.94491816e-01 5.16961956e-01 6.72157971e-01 6.66490046e-01\n",
      "  5.35107921e-01 5.07213040e-01 5.95771218e-01 5.40859878e-01\n",
      "  3.35185463e-01 3.77625855e-01 2.98306773e-01 3.06770521e-01\n",
      "  3.90165204e-01 3.80555262e-01 3.56016043e-01 2.30218341e-01\n",
      "  0.00000000e+00 3.63636364e-01]\n",
      " [5.29947117e-01 2.39715878e-01 4.78044117e-02 8.90918341e-01\n",
      "  4.44281094e-01 5.17264112e-01 7.11762300e-01 7.06797366e-01\n",
      "  5.01579990e-01 5.39245755e-01 4.54297084e-01 5.43247088e-01\n",
      "  3.41642889e-01 3.93412057e-01 2.87018592e-01 3.45915718e-01\n",
      "  3.76742385e-01 3.52264330e-01 3.48529412e-01 1.93711790e-01\n",
      "  0.00000000e+00 3.63636364e-01]\n",
      " [5.29947117e-01 2.39715878e-01 3.89264495e-02 8.93513101e-01\n",
      "  3.65774772e-01 4.88449389e-01 6.46907887e-01 6.40905306e-01\n",
      "  4.65481228e-01 5.05168399e-01 4.45566312e-01 5.16336717e-01\n",
      "  3.26325274e-01 4.06090740e-01 2.70086321e-01 3.86458957e-01\n",
      "  3.83970057e-01 3.83933284e-01 3.59625668e-01 2.31441048e-01\n",
      "  0.00000000e+00 3.63636364e-01]\n",
      " [5.29947117e-01 2.39715878e-01 1.70730042e-04 8.88069194e-01\n",
      "  5.40331275e-01 6.54910040e-01 7.77769514e-01 7.73900537e-01\n",
      "  7.00310642e-01 6.22082126e-01 7.21743779e-01 6.60630320e-01\n",
      "  2.20303349e-01 2.64512119e-01 1.79614874e-01 2.67825045e-01\n",
      "  2.50774393e-01 2.84176079e-01 2.01069519e-01 2.73537118e-01\n",
      "  0.00000000e+00 3.63636364e-01]\n",
      " [5.29947117e-01 2.39715878e-01 3.41460083e-05 8.80946324e-01\n",
      "  4.53102029e-01 5.84590029e-01 7.14997583e-01 7.10090076e-01\n",
      "  6.13518290e-01 5.75339354e-01 6.27130724e-01 6.13947096e-01\n",
      "  4.25138910e-01 4.56929770e-01 3.97244356e-01 3.15558218e-01\n",
      "  4.24496644e-01 4.14968859e-01 4.23395722e-01 1.99126638e-01\n",
      "  0.00000000e+00 3.63636364e-01]\n",
      " [5.29947117e-01 2.39715878e-01 6.82920167e-05 8.90663953e-01\n",
      "  3.88905224e-01 5.77750309e-01 6.66356774e-01 6.60812959e-01\n",
      "  6.21766376e-01 5.48645425e-01 7.01193799e-01 6.09076222e-01\n",
      "  3.56660159e-01 4.21131137e-01 3.05444887e-01 3.67884961e-01\n",
      "  3.74032008e-01 3.62503959e-01 3.47058824e-01 2.12227074e-01\n",
      "  0.00000000e+00 4.54545455e-01]\n",
      " [5.29947117e-01 2.39715878e-01 1.90193266e-02 8.87509540e-01\n",
      "  4.55748309e-01 5.97527812e-01 7.18865048e-01 7.14026190e-01\n",
      "  6.17133523e-01 5.79144658e-01 6.27308903e-01 6.23761183e-01\n",
      "  4.08920258e-01 4.57054071e-01 3.80644090e-01 3.35729978e-01\n",
      "  4.28884874e-01 4.10746332e-01 4.13368984e-01 2.05240175e-01\n",
      "  0.00000000e+00 4.54545455e-01]\n",
      " [5.29947117e-01 2.39715878e-01 3.41460083e-05 8.69346222e-01\n",
      "  5.03087327e-01 6.95289109e-01 7.52593805e-01 7.48277950e-01\n",
      "  7.66563119e-01 6.41108650e-01 8.29066936e-01 7.16163102e-01\n",
      "  3.05000751e-01 3.55251709e-01 2.23273572e-01 3.60894747e-01\n",
      "  2.90526588e-01 3.39702312e-01 2.14304813e-01 3.47772926e-01\n",
      "  0.00000000e+00 4.54545455e-01]\n",
      " [5.29947117e-01 2.39715878e-01 6.82920167e-05 8.80997202e-01\n",
      "  4.65451338e-01 6.58151353e-01 7.27046224e-01 7.22276890e-01\n",
      "  7.25938621e-01 6.11631737e-01 8.00617687e-01 6.87564804e-01\n",
      "  3.58912750e-01 4.07085146e-01 3.29349270e-01 3.17355702e-01\n",
      "  3.30665978e-01 3.28301488e-01 3.10160428e-01 2.03318777e-01\n",
      "  0.00000000e+00 4.54545455e-01]\n",
      " [5.29947117e-01 2.39715878e-01 1.02438025e-04 8.82930552e-01\n",
      "  4.34382044e-01 5.99011125e-01 7.04362054e-01 6.99303611e-01\n",
      "  6.31514113e-01 5.97404441e-01 6.20953852e-01 6.38687275e-01\n",
      "  4.22285628e-01 4.66128030e-01 3.79814077e-01 3.51308169e-01\n",
      "  3.93391843e-01 3.84777790e-01 3.58957219e-01 2.33711790e-01\n",
      "  0.00000000e+00 5.45454545e-01]\n",
      " [5.29947117e-01 2.39715878e-01 1.02438025e-04 8.85423556e-01\n",
      "  4.29481525e-01 6.02719407e-01 7.01163958e-01 6.96010900e-01\n",
      "  6.34861550e-01 5.83177145e-01 6.58133872e-01 6.40085843e-01\n",
      "  3.86544526e-01 4.22249845e-01 3.51593625e-01 3.14359896e-01\n",
      "  3.71063500e-01 3.50364193e-01 3.71390374e-01 1.60174672e-01\n",
      "  0.00000000e+00 5.45454545e-01]\n",
      " [5.29947117e-01 2.39715878e-01 2.04876050e-04 8.97685067e-01\n",
      "  4.50651769e-01 6.15327565e-01 7.17266000e-01 7.12512300e-01\n",
      "  6.57490225e-01 5.97546430e-01 6.78208707e-01 6.53516915e-01\n",
      "  3.77834510e-01 4.17899316e-01 3.46945551e-01 3.13760735e-01\n",
      "  3.57124419e-01 3.46458355e-01 3.55080214e-01 1.75371179e-01\n",
      "  0.00000000e+00 5.45454545e-01]\n",
      " [5.29947117e-01 2.39715878e-01 3.41460083e-04 8.87255151e-01\n",
      "  4.20268548e-01 6.48866914e-01 6.89524376e-01 6.84353947e-01\n",
      "  7.24412190e-01 5.93229965e-01 8.35659559e-01 6.80692532e-01\n",
      "  3.51253942e-01 3.86948415e-01 3.19223108e-01 2.96984222e-01\n",
      "  3.31440372e-01 3.18589676e-01 2.79411765e-01 2.27947598e-01\n",
      "  0.00000000e+00 5.45454545e-01]]\n",
      "\n",
      " Target\n",
      "\n",
      "[[0.]\n",
      " [0.]\n",
      " [0.]\n",
      " [0.]\n",
      " [0.]\n",
      " [0.]\n",
      " [0.]\n",
      " [0.]\n",
      " [0.]\n",
      " [0.]\n",
      " [0.]\n",
      " [0.]]\n"
     ]
    }
   ],
   "source": [
    "print ('Multiple window of past history\\n')\n",
    "print(x_train[0])\n",
    "print ('\\n Target\\n')\n",
    "print (y_train[0])"
   ]
  },
  {
   "cell_type": "code",
   "execution_count": 134,
   "metadata": {
    "colab": {
     "base_uri": "https://localhost:8080/"
    },
    "executionInfo": {
     "elapsed": 4,
     "status": "ok",
     "timestamp": 1711040277250,
     "user": {
      "displayName": "Angela Chang",
      "userId": "18143705945247269874"
     },
     "user_tz": 420
    },
    "id": "dgce4-kJFca9",
    "outputId": "639c9b4e-1bb3-42c6-9ad7-6de4a811244e"
   },
   "outputs": [
    {
     "name": "stdout",
     "output_type": "stream",
     "text": [
      "(42050, 30, 22)\n",
      "(42050, 12, 1)\n",
      "(3886, 30, 22)\n",
      "(3886, 12, 1)\n",
      "(10324, 30, 22)\n",
      "(10324, 12, 1)\n"
     ]
    }
   ],
   "source": [
    "print(x_train.shape)\n",
    "print(y_train.shape)\n",
    "print(x_vali.shape)\n",
    "print(y_vali.shape)\n",
    "print(x_test.shape)\n",
    "print(y_test.shape)"
   ]
  },
  {
   "cell_type": "code",
   "execution_count": 135,
   "metadata": {
    "id": "i-cWA8JVdbQw"
   },
   "outputs": [],
   "source": [
    "# Convert all the 3D arrays to 2D for XGBoost\n",
    "train_len = len(x_train)\n",
    "num_features = X_data.shape[1]\n",
    "vali_len = len(x_vali)\n",
    "test_len = len(x_test)\n",
    "\n",
    "# Reshape the labels into a simple 2D array\n",
    "y_train = y_train.reshape(train_len, step_out)\n",
    "y_vali = y_vali.reshape(vali_len, step_out)\n",
    "y_test = y_test.reshape(test_len, step_out)\n",
    "\n",
    "# Reshape the x data into a 2D array of (num windows, window size x features size)\n",
    "x_train = x_train.reshape(train_len, hist_window * num_features)\n",
    "x_vali = x_vali.reshape(vali_len, hist_window * num_features)\n",
    "x_test = x_test.reshape(test_len, hist_window * num_features)"
   ]
  },
  {
   "cell_type": "code",
   "execution_count": 136,
   "metadata": {
    "colab": {
     "base_uri": "https://localhost:8080/"
    },
    "executionInfo": {
     "elapsed": 2,
     "status": "ok",
     "timestamp": 1711040277250,
     "user": {
      "displayName": "Angela Chang",
      "userId": "18143705945247269874"
     },
     "user_tz": 420
    },
    "id": "sn5ZE9aUNRuU",
    "outputId": "de49549e-94e6-4934-a622-e18cf46a8ec3"
   },
   "outputs": [
    {
     "name": "stdout",
     "output_type": "stream",
     "text": [
      "(42050, 660)\n",
      "(42050, 12)\n",
      "(3886, 660)\n",
      "(3886, 12)\n",
      "(10324, 660)\n",
      "(10324, 12)\n"
     ]
    }
   ],
   "source": [
    "print(x_train.shape)\n",
    "print(y_train.shape)\n",
    "print(x_vali.shape)\n",
    "print(y_vali.shape)\n",
    "print(x_test.shape)\n",
    "print(y_test.shape)"
   ]
  },
  {
   "cell_type": "markdown",
   "metadata": {
    "id": "Qnwy7t1IFca9"
   },
   "source": [
    "# Model"
   ]
  },
  {
   "cell_type": "code",
   "execution_count": 137,
   "metadata": {
    "id": "veU5JaH9Fca9"
   },
   "outputs": [],
   "source": [
    "# xgboost parameters - https://xgboost.readthedocs.io/en/stable/parameter.html#parameters-for-tree-booster\n",
    "\n",
    "learning_rate = 0.15 # tutorial suggests learning rate of 0.1 or lower\n",
    "max_depth = 3 # tutorial suggests 2 to 8, default is 6\n",
    "subsample = 1 # range 0-1, percent of training to randomly sample during boosting"
   ]
  },
  {
   "cell_type": "code",
   "execution_count": 138,
   "metadata": {
    "id": "0ZOcqnmaFca9"
   },
   "outputs": [],
   "source": [
    "def xgboost_forecast(x_train, y_train, x_test):\n",
    "    # fit the model\n",
    "    model = XGBRegressor(objective='reg:squarederror',\n",
    "                         n_estimators=100,\n",
    "                         max_depth = max_depth,\n",
    "                         learning_rate = learning_rate)\n",
    "    model.fit(x_train, y_train)\n",
    "\n",
    "    feature_imp = model.feature_importances_\n",
    "\n",
    "    # predict\n",
    "    yhat = model.predict(x_test)\n",
    "    return yhat, feature_imp"
   ]
  },
  {
   "cell_type": "code",
   "execution_count": 139,
   "metadata": {
    "colab": {
     "base_uri": "https://localhost:8080/"
    },
    "executionInfo": {
     "elapsed": 193743,
     "status": "ok",
     "timestamp": 1711040470991,
     "user": {
      "displayName": "Angela Chang",
      "userId": "18143705945247269874"
     },
     "user_tz": 420
    },
    "id": "yK1ZTFLgFca9",
    "outputId": "ea43a5f1-44eb-45d7-a255-90f671aeaad7"
   },
   "outputs": [],
   "source": [
    "y_vali_pred, vali_feature_imp = xgboost_forecast(x_train, y_train, x_vali)"
   ]
  },
  {
   "cell_type": "code",
   "execution_count": 140,
   "metadata": {
    "colab": {
     "base_uri": "https://localhost:8080/"
    },
    "executionInfo": {
     "elapsed": 174432,
     "status": "ok",
     "timestamp": 1711040645416,
     "user": {
      "displayName": "Angela Chang",
      "userId": "18143705945247269874"
     },
     "user_tz": 420
    },
    "id": "FZbDYyiEFca-",
    "outputId": "b6d2c922-1411-4fd2-bb0f-4941c5bf8c78"
   },
   "outputs": [],
   "source": [
    "y_test_pred, feature_imp = xgboost_forecast(x_train, y_train, x_test)"
   ]
  },
  {
   "cell_type": "markdown",
   "metadata": {
    "id": "7afF1_qrFca-"
   },
   "source": [
    "# Model Evaluation"
   ]
  },
  {
   "cell_type": "markdown",
   "metadata": {
    "id": "Zw_m_JNOFca-"
   },
   "source": [
    "## Validation Dataset"
   ]
  },
  {
   "cell_type": "code",
   "execution_count": 24,
   "metadata": {
    "id": "3q6vftT0Fca-"
   },
   "outputs": [],
   "source": [
    "# Apply inverse transform\n",
    "y_vali_pred_Inverse = Y_scaler_vali.inverse_transform(y_vali_pred)\n",
    "y_vali_pred_Inverse_ordinal = np.round(y_vali_pred_Inverse).astype(int)\n",
    "y_vali_Inverse = Y_scaler_vali.inverse_transform(y_vali)\n",
    "y_vali_Inverse_ordinal = np.round(y_vali_Inverse).astype(int)"
   ]
  },
  {
   "cell_type": "code",
   "execution_count": 25,
   "metadata": {
    "colab": {
     "base_uri": "https://localhost:8080/"
    },
    "executionInfo": {
     "elapsed": 4,
     "status": "ok",
     "timestamp": 1711040645416,
     "user": {
      "displayName": "Angela Chang",
      "userId": "18143705945247269874"
     },
     "user_tz": 420
    },
    "id": "dIwng2wgFca-",
    "outputId": "d6d6e05b-b4bd-46e0-e26f-dcd25c1bd540"
   },
   "outputs": [
    {
     "name": "stdout",
     "output_type": "stream",
     "text": [
      "Evaluation metric results:-\n",
      "MSE is : 0.5329970226716245\n",
      "MAE is : 0.49377111263381646\n",
      "RMSE is : 0.7300664508602107\n",
      "R2 is : 0.6402766053442356\n",
      "\n"
     ]
    }
   ],
   "source": [
    "# Direct actual vs. predicted score comparison\n",
    "timeseries_evaluation_metrics_func(y_vali_Inverse,y_vali_pred_Inverse)\n"
   ]
  },
  {
   "cell_type": "code",
   "execution_count": 26,
   "metadata": {
    "colab": {
     "base_uri": "https://localhost:8080/"
    },
    "executionInfo": {
     "elapsed": 3,
     "status": "ok",
     "timestamp": 1711040645416,
     "user": {
      "displayName": "Angela Chang",
      "userId": "18143705945247269874"
     },
     "user_tz": 420
    },
    "id": "jas6R9ylFca-",
    "outputId": "60e1045f-ecdc-4751-c50a-25beb0ba740f"
   },
   "outputs": [
    {
     "name": "stdout",
     "output_type": "stream",
     "text": [
      "Evaluation metric results:-\n",
      "MSE is : 0.6667738891748156\n",
      "MAE is : 0.4766040487219077\n",
      "RMSE is : 0.8165622383963244\n",
      "R2 is : 0.5857460617357714\n",
      "\n"
     ]
    }
   ],
   "source": [
    "# Actual vs. predicted score comparison if scores were integers 0-5\n",
    "timeseries_evaluation_metrics_func(y_vali_Inverse_ordinal,y_vali_pred_Inverse_ordinal)\n"
   ]
  },
  {
   "cell_type": "code",
   "execution_count": 27,
   "metadata": {
    "colab": {
     "base_uri": "https://localhost:8080/",
     "height": 470
    },
    "executionInfo": {
     "elapsed": 471,
     "status": "ok",
     "timestamp": 1711040645885,
     "user": {
      "displayName": "Angela Chang",
      "userId": "18143705945247269874"
     },
     "user_tz": 420
    },
    "id": "oukJ5iXkFca-",
    "outputId": "5354ea2b-d30d-4716-a00e-d8fede5e703e"
   },
   "outputs": [
    {
     "data": {
      "text/plain": [
       "Text(0.5, 1.0, 'Distribution of Actual Validation Drought Scores')"
      ]
     },
     "execution_count": 27,
     "metadata": {},
     "output_type": "execute_result"
    },
    {
     "data": {
      "image/png": "[encoded data removed]",
      "text/plain": [
       "<Figure size 640x480 with 1 Axes>"
      ]
     },
     "metadata": {},
     "output_type": "display_data"
    }
   ],
   "source": [
    "plt.hist(y_vali_Inverse)\n",
    "plt.title('Distribution of Actual Validation Drought Scores')"
   ]
  },
  {
   "cell_type": "code",
   "execution_count": 28,
   "metadata": {
    "colab": {
     "base_uri": "https://localhost:8080/",
     "height": 470
    },
    "executionInfo": {
     "elapsed": 236,
     "status": "ok",
     "timestamp": 1711040646292,
     "user": {
      "displayName": "Angela Chang",
      "userId": "18143705945247269874"
     },
     "user_tz": 420
    },
    "id": "AlKQ5j7GFca-",
    "outputId": "d4f58f87-cd07-40bc-c83d-8100cf343b88"
   },
   "outputs": [
    {
     "data": {
      "text/plain": [
       "Text(0.5, 1.0, 'Distribution of Predicted Validation Drought Scores')"
      ]
     },
     "execution_count": 28,
     "metadata": {},
     "output_type": "execute_result"
    },
    {
     "data": {
      "image/png": "[encoded data removed]",
      "text/plain": [
       "<Figure size 640x480 with 1 Axes>"
      ]
     },
     "metadata": {},
     "output_type": "display_data"
    }
   ],
   "source": [
    "plt.hist(y_vali_pred_Inverse)\n",
    "plt.title('Distribution of Predicted Validation Drought Scores')"
   ]
  },
  {
   "cell_type": "markdown",
   "metadata": {
    "id": "YKg68CB0Fca-"
   },
   "source": [
    "## Test Dataset"
   ]
  },
  {
   "cell_type": "code",
   "execution_count": 141,
   "metadata": {
    "id": "9YOMP6wqDtx7"
   },
   "outputs": [],
   "source": [
    "# Apply inverse transform\n",
    "y_test_pred_Inverse = Y_scaler_test.inverse_transform(y_test_pred)\n",
    "y_test_pred_Inverse_ordinal = np.round(y_test_pred_Inverse).astype(int)\n",
    "y_test_Inverse = Y_scaler_test.inverse_transform(y_test)\n",
    "y_test_Inverse_ordinal = np.round(y_test_Inverse).astype(int)"
   ]
  },
  {
   "cell_type": "code",
   "execution_count": 142,
   "metadata": {
    "colab": {
     "base_uri": "https://localhost:8080/"
    },
    "executionInfo": {
     "elapsed": 4,
     "status": "ok",
     "timestamp": 1711040646292,
     "user": {
      "displayName": "Angela Chang",
      "userId": "18143705945247269874"
     },
     "user_tz": 420
    },
    "id": "EZrpgKKBFca-",
    "outputId": "11ff7b07-41cf-44ff-9b46-8b04cc196338"
   },
   "outputs": [
    {
     "name": "stdout",
     "output_type": "stream",
     "text": [
      "Evaluation metric results:-\n",
      "MSE is : 0.29648042698318855\n",
      "MAE is : 0.34998273420429293\n",
      "RMSE is : 0.5445001625189735\n",
      "R2 is : 0.725223714634252\n",
      "\n"
     ]
    }
   ],
   "source": [
    "# Direct actual vs. predicted score comparison\n",
    "timeseries_evaluation_metrics_func(y_test_Inverse,y_test_pred_Inverse)"
   ]
  },
  {
   "cell_type": "code",
   "execution_count": 143,
   "metadata": {
    "colab": {
     "base_uri": "https://localhost:8080/"
    },
    "executionInfo": {
     "elapsed": 1116,
     "status": "ok",
     "timestamp": 1711040647406,
     "user": {
      "displayName": "Angela Chang",
      "userId": "18143705945247269874"
     },
     "user_tz": 420
    },
    "id": "TYZa9TIiFca-",
    "outputId": "3668adbf-1b90-4652-9ca3-0084005e9eca"
   },
   "outputs": [
    {
     "name": "stdout",
     "output_type": "stream",
     "text": [
      "Evaluation metric results:-\n",
      "MSE is : 0.38493639416246933\n",
      "MAE is : 0.3115798140255715\n",
      "RMSE is : 0.6204324251378786\n",
      "R2 is : 0.6650983070604055\n",
      "\n"
     ]
    }
   ],
   "source": [
    "# Actual vs. predicted score comparison if scores were integers 0-5\n",
    "timeseries_evaluation_metrics_func(y_test_Inverse_ordinal,y_test_pred_Inverse_ordinal)"
   ]
  },
  {
   "cell_type": "code",
   "execution_count": 144,
   "metadata": {
    "colab": {
     "base_uri": "https://localhost:8080/",
     "height": 470
    },
    "executionInfo": {
     "elapsed": 7,
     "status": "ok",
     "timestamp": 1711040647406,
     "user": {
      "displayName": "Angela Chang",
      "userId": "18143705945247269874"
     },
     "user_tz": 420
    },
    "id": "1TZul4jrFca-",
    "outputId": "6c5c3c4b-3f85-434e-c0d4-706f60829475"
   },
   "outputs": [
    {
     "data": {
      "text/plain": [
       "Text(0.5, 1.0, 'Distribution of Actual Test Drought Scores')"
      ]
     },
     "execution_count": 144,
     "metadata": {},
     "output_type": "execute_result"
    },
    {
     "data": {
      "image/png": "[encoded data removed]",
      "text/plain": [
       "<Figure size 640x480 with 1 Axes>"
      ]
     },
     "metadata": {},
     "output_type": "display_data"
    }
   ],
   "source": [
    "plt.hist(y_test_Inverse)\n",
    "plt.title('Distribution of Actual Test Drought Scores')"
   ]
  },
  {
   "cell_type": "code",
   "execution_count": 145,
   "metadata": {
    "colab": {
     "base_uri": "https://localhost:8080/",
     "height": 470
    },
    "executionInfo": {
     "elapsed": 5,
     "status": "ok",
     "timestamp": 1711040647406,
     "user": {
      "displayName": "Angela Chang",
      "userId": "18143705945247269874"
     },
     "user_tz": 420
    },
    "id": "lwOMZaYrFca-",
    "outputId": "6bd2164c-e862-484c-b7ad-7df1357656cc"
   },
   "outputs": [
    {
     "data": {
      "text/plain": [
       "Text(0.5, 1.0, 'Distribution of Predicted Test Drought Scores')"
      ]
     },
     "execution_count": 145,
     "metadata": {},
     "output_type": "execute_result"
    },
    {
     "data": {
      "image/png": "[encoded data removed]",
      "text/plain": [
       "<Figure size 640x480 with 1 Axes>"
      ]
     },
     "metadata": {},
     "output_type": "display_data"
    }
   ],
   "source": [
    "plt.hist(y_test_pred_Inverse)\n",
    "plt.title('Distribution of Predicted Test Drought Scores')"
   ]
  },
  {
   "cell_type": "markdown",
   "metadata": {},
   "source": [
    "## Test - Multiclass Classification Evaluation"
   ]
  },
  {
   "cell_type": "code",
   "execution_count": 204,
   "metadata": {},
   "outputs": [],
   "source": [
    "def multiclass_eval_results(actual, preds):\n",
    "    '''Takes the ordinal/integer form of the actual and predicted scores and \n",
    "    returns a df with the accuracy for each score, overprediction percent, and undeprediction percent\n",
    "    and prints classification report'''\n",
    "\n",
    "    # Create dictionary to set up df\n",
    "    df_dict = {'true_score': actual.flatten(),\n",
    "                'pred_score': preds.flatten()}\n",
    "\n",
    "    mc_df = pd.DataFrame(data = df_dict)\n",
    "    \n",
    "    # create cols for calculating accuracy, overprediction, and underprediction by score\n",
    "    mc_df['accurate_count'] = np.where(mc_df['true_score'] == mc_df['pred_score'], 1, 0)\n",
    "    mc_df['overpred_count'] = np.where(mc_df['pred_score'] > mc_df['true_score'], 1, 0)\n",
    "    mc_df['underpred_count'] = np.where(mc_df['pred_score'] < mc_df['true_score'], 1, 0)\n",
    "\n",
    "    # groupby to aggregate\n",
    "    df = mc_df.groupby('true_score').sum('accurate_count')\n",
    "\n",
    "    # get subtotal columns\n",
    "    df['actual_totals'] = mc_df['true_score'].value_counts()\n",
    "    df['incorrect_total'] = df['overpred_count'] + df['underpred_count']\n",
    "\n",
    "    # calculate percents\n",
    "    df['accuracy_rate'] = df['accurate_count'] / df['actual_totals']\n",
    "    df['overpred_perc'] = df['overpred_count'] / df['incorrect_total']\n",
    "    df['underpred_perc'] = df['underpred_count'] / df['incorrect_total']\n",
    "\n",
    "    # rearrange order of columns\n",
    "    df_cols = list(df.columns)\n",
    "    df_cols = [\n",
    "        'accuracy_rate', 'overpred_perc', 'underpred_perc',\n",
    "        'actual_totals','pred_score',\n",
    "        'accurate_count','overpred_count','underpred_count','incorrect_total']\n",
    "    df = df[df_cols]\n",
    "\n",
    "    # rename for more accurate col name\n",
    "    df.rename(columns = {'pred_score': 'pred_totals'}, inplace = True)\n",
    "    \n",
    "    print('Overall Accuracy Rate:', round(accuracy_score(actual.flatten(), preds.flatten()), 4))\n",
    "    print()\n",
    "    print('Classification Report')\n",
    "    print(classification_report(actual.flatten(), \n",
    "                                preds.flatten(),\n",
    "                                labels = [0,1,2,3,4,5],\n",
    "                                target_names = ['None - 0', 'Dry - 1', 'Moderate - 2',\n",
    "                                       'Severe - 3', 'Extreme - 4', 'Exceptional - 5']))\n",
    "\n",
    "    return df"
   ]
  },
  {
   "cell_type": "code",
   "execution_count": 205,
   "metadata": {},
   "outputs": [
    {
     "name": "stdout",
     "output_type": "stream",
     "text": [
      "Overall Accuracy Rate: 0.7231\n",
      "\n",
      "Classification Report\n",
      "                 precision    recall  f1-score   support\n",
      "\n",
      "       None - 0       0.84      0.83      0.83     62868\n",
      "        Dry - 1       0.53      0.63      0.58     27792\n",
      "   Moderate - 2       0.64      0.61      0.62     20118\n",
      "     Severe - 3       0.78      0.66      0.71     11363\n",
      "    Extreme - 4       0.68      0.23      0.34      1747\n",
      "Exceptional - 5       0.00      0.00      0.00         0\n",
      "\n",
      "      micro avg       0.72      0.72      0.72    123888\n",
      "      macro avg       0.58      0.49      0.51    123888\n",
      "   weighted avg       0.73      0.72      0.72    123888\n",
      "\n"
     ]
    },
    {
     "name": "stderr",
     "output_type": "stream",
     "text": [
      "/Users/angelachang/anaconda3/envs/tf/lib/python3.9/site-packages/sklearn/metrics/_classification.py:1344: UndefinedMetricWarning: Recall and F-score are ill-defined and being set to 0.0 in labels with no true samples. Use `zero_division` parameter to control this behavior.\n",
      "  _warn_prf(average, modifier, msg_start, len(result))\n",
      "/Users/angelachang/anaconda3/envs/tf/lib/python3.9/site-packages/sklearn/metrics/_classification.py:1344: UndefinedMetricWarning: Recall and F-score are ill-defined and being set to 0.0 in labels with no true samples. Use `zero_division` parameter to control this behavior.\n",
      "  _warn_prf(average, modifier, msg_start, len(result))\n",
      "/Users/angelachang/anaconda3/envs/tf/lib/python3.9/site-packages/sklearn/metrics/_classification.py:1344: UndefinedMetricWarning: Recall and F-score are ill-defined and being set to 0.0 in labels with no true samples. Use `zero_division` parameter to control this behavior.\n",
      "  _warn_prf(average, modifier, msg_start, len(result))\n"
     ]
    },
    {
     "data": {
      "text/html": [
       "<div>\n",
       "<style scoped>\n",
       "    .dataframe tbody tr th:only-of-type {\n",
       "        vertical-align: middle;\n",
       "    }\n",
       "\n",
       "    .dataframe tbody tr th {\n",
       "        vertical-align: top;\n",
       "    }\n",
       "\n",
       "    .dataframe thead th {\n",
       "        text-align: right;\n",
       "    }\n",
       "</style>\n",
       "<table border=\"1\" class=\"dataframe\">\n",
       "  <thead>\n",
       "    <tr style=\"text-align: right;\">\n",
       "      <th></th>\n",
       "      <th>accuracy_rate</th>\n",
       "      <th>overpred_perc</th>\n",
       "      <th>underpred_perc</th>\n",
       "      <th>actual_totals</th>\n",
       "      <th>pred_totals</th>\n",
       "      <th>accurate_count</th>\n",
       "      <th>overpred_count</th>\n",
       "      <th>underpred_count</th>\n",
       "      <th>incorrect_total</th>\n",
       "    </tr>\n",
       "    <tr>\n",
       "      <th>true_score</th>\n",
       "      <th></th>\n",
       "      <th></th>\n",
       "      <th></th>\n",
       "      <th></th>\n",
       "      <th></th>\n",
       "      <th></th>\n",
       "      <th></th>\n",
       "      <th></th>\n",
       "      <th></th>\n",
       "    </tr>\n",
       "  </thead>\n",
       "  <tbody>\n",
       "    <tr>\n",
       "      <th>0</th>\n",
       "      <td>0.826160</td>\n",
       "      <td>0.999451</td>\n",
       "      <td>0.000549</td>\n",
       "      <td>62868</td>\n",
       "      <td>12150</td>\n",
       "      <td>51939</td>\n",
       "      <td>10923</td>\n",
       "      <td>6</td>\n",
       "      <td>10929</td>\n",
       "    </tr>\n",
       "    <tr>\n",
       "      <th>1</th>\n",
       "      <td>0.630577</td>\n",
       "      <td>0.256940</td>\n",
       "      <td>0.743060</td>\n",
       "      <td>27792</td>\n",
       "      <td>23019</td>\n",
       "      <td>17525</td>\n",
       "      <td>2638</td>\n",
       "      <td>7629</td>\n",
       "      <td>10267</td>\n",
       "    </tr>\n",
       "    <tr>\n",
       "      <th>2</th>\n",
       "      <td>0.610001</td>\n",
       "      <td>0.106551</td>\n",
       "      <td>0.893449</td>\n",
       "      <td>20118</td>\n",
       "      <td>32174</td>\n",
       "      <td>12272</td>\n",
       "      <td>836</td>\n",
       "      <td>7010</td>\n",
       "      <td>7846</td>\n",
       "    </tr>\n",
       "    <tr>\n",
       "      <th>3</th>\n",
       "      <td>0.655285</td>\n",
       "      <td>0.027317</td>\n",
       "      <td>0.972683</td>\n",
       "      <td>11363</td>\n",
       "      <td>29725</td>\n",
       "      <td>7446</td>\n",
       "      <td>107</td>\n",
       "      <td>3810</td>\n",
       "      <td>3917</td>\n",
       "    </tr>\n",
       "    <tr>\n",
       "      <th>4</th>\n",
       "      <td>0.228964</td>\n",
       "      <td>0.000000</td>\n",
       "      <td>1.000000</td>\n",
       "      <td>1747</td>\n",
       "      <td>5410</td>\n",
       "      <td>400</td>\n",
       "      <td>0</td>\n",
       "      <td>1347</td>\n",
       "      <td>1347</td>\n",
       "    </tr>\n",
       "  </tbody>\n",
       "</table>\n",
       "</div>"
      ],
      "text/plain": [
       "            accuracy_rate  overpred_perc  underpred_perc  actual_totals  \\\n",
       "true_score                                                                \n",
       "0                0.826160       0.999451        0.000549          62868   \n",
       "1                0.630577       0.256940        0.743060          27792   \n",
       "2                0.610001       0.106551        0.893449          20118   \n",
       "3                0.655285       0.027317        0.972683          11363   \n",
       "4                0.228964       0.000000        1.000000           1747   \n",
       "\n",
       "            pred_totals  accurate_count  overpred_count  underpred_count  \\\n",
       "true_score                                                                 \n",
       "0                 12150           51939           10923                6   \n",
       "1                 23019           17525            2638             7629   \n",
       "2                 32174           12272             836             7010   \n",
       "3                 29725            7446             107             3810   \n",
       "4                  5410             400               0             1347   \n",
       "\n",
       "            incorrect_total  \n",
       "true_score                   \n",
       "0                     10929  \n",
       "1                     10267  \n",
       "2                      7846  \n",
       "3                      3917  \n",
       "4                      1347  "
      ]
     },
     "execution_count": 205,
     "metadata": {},
     "output_type": "execute_result"
    }
   ],
   "source": [
    "mc_results_df = multiclass_eval_results(y_test_Inverse_ordinal.flatten(), y_test_pred_Inverse_ordinal.flatten())\n",
    "\n",
    "mc_results_df"
   ]
  },
  {
   "cell_type": "markdown",
   "metadata": {
    "id": "9ALTIWwa7fgF"
   },
   "source": [
    "## Test - Binary Classification Evaluation"
   ]
  },
  {
   "cell_type": "code",
   "execution_count": 73,
   "metadata": {},
   "outputs": [],
   "source": [
    "def binary_class_eval(threshold, actual, preds):\n",
    "    y_test_Inverse_binary = np.where(actual >= threshold, 1, 0)\n",
    "    y_test_pred_Inverse_binary = np.where(preds >= threshold, 1, 0)\n",
    "    \n",
    "    timeseries_evaluation_metrics_binary(y_test_Inverse_binary,y_test_pred_Inverse_binary)\n",
    "\n",
    "    # Compute classification report\n",
    "    classification_metrics = classification_report(y_test_Inverse_binary.flatten(),y_test_pred_Inverse_binary.flatten())\n",
    "    #classification_metrics = classification_report(y_test_Inverse_ordinal.flatten(),y_test_pred_Inverse_ordinal.flatten())\n",
    "    # Print classification report\n",
    "    print()\n",
    "    print('Classification Report')\n",
    "    print(classification_metrics)\n",
    "\n",
    "    # Compute confusion matrix\n",
    "    conf_matrix = confusion_matrix(y_test_Inverse_binary.flatten(), y_test_pred_Inverse_binary.flatten())\n",
    "\n",
    "    # Print confusion matrix\n",
    "    print(\"Confusion Matrix:\")\n",
    "    print(conf_matrix)\n",
    "    # Plot confusion matrix\n",
    "    plt.figure(figsize=(8, 6))\n",
    "    sns.heatmap(conf_matrix, annot=True, fmt=\"d\", cmap=\"Blues\", cbar=False,\n",
    "                xticklabels=[\"Negative\", \"Positive\"], yticklabels=[\"Negative\", \"Positive\"])\n",
    "    plt.title(\"Confusion Matrix\")\n",
    "    plt.xlabel(\"Predicted Class\")\n",
    "    plt.ylabel(\"Actual Class\")\n",
    "    plt.show()"
   ]
  },
  {
   "cell_type": "markdown",
   "metadata": {
    "id": "jQ8wqjEj8rk0"
   },
   "source": [
    "### Using 0.5 as \"Any Drought\" Score\n",
    "\n",
    "A score of 1 is considered abnormally dry. A score of 0.5 would be rounded up to 1."
   ]
  },
  {
   "cell_type": "code",
   "execution_count": 75,
   "metadata": {},
   "outputs": [
    {
     "name": "stdout",
     "output_type": "stream",
     "text": [
      "Evaluation metric results:-\n",
      "Accuracy: 0.8341405140126565\n",
      "Precision: 0.8341956769665235\n",
      "Recall: 0.834256465264299\n",
      "F1-score: 0.8341372923834616\n",
      "\n",
      "\n",
      "Classification Report\n",
      "              precision    recall  f1-score   support\n",
      "\n",
      "           0       0.84      0.83      0.83     62856\n",
      "           1       0.82      0.84      0.83     61032\n",
      "\n",
      "    accuracy                           0.83    123888\n",
      "   macro avg       0.83      0.83      0.83    123888\n",
      "weighted avg       0.83      0.83      0.83    123888\n",
      "\n",
      "Confusion Matrix:\n",
      "[[51943 10913]\n",
      " [ 9635 51397]]\n"
     ]
    },
    {
     "data": {
      "image/png": "[encoded data removed]",
      "text/plain": [
       "<Figure size 800x600 with 1 Axes>"
      ]
     },
     "metadata": {},
     "output_type": "display_data"
    }
   ],
   "source": [
    "binary_class_eval(0.5, y_test_Inverse, y_test_pred_Inverse)"
   ]
  },
  {
   "cell_type": "markdown",
   "metadata": {
    "id": "B5z-H9_r778k"
   },
   "source": [
    "### Using 1.5 as \"Moderate\" Score\n",
    "\n",
    "A score of 2 is considered Moderate drought. A score of 1.5 would be rounded up to 2."
   ]
  },
  {
   "cell_type": "code",
   "execution_count": 76,
   "metadata": {
    "id": "NxacEGnh8Kr7",
    "scrolled": true
   },
   "outputs": [
    {
     "name": "stdout",
     "output_type": "stream",
     "text": [
      "Evaluation metric results:-\n",
      "Accuracy: 0.9077473201601447\n",
      "Precision: 0.8949776606065709\n",
      "Recall: 0.8642734130520877\n",
      "F1-score: 0.877896823013569\n",
      "\n",
      "\n",
      "Classification Report\n",
      "              precision    recall  f1-score   support\n",
      "\n",
      "           0       0.92      0.96      0.94     90660\n",
      "           1       0.87      0.77      0.82     33228\n",
      "\n",
      "    accuracy                           0.91    123888\n",
      "   macro avg       0.89      0.86      0.88    123888\n",
      "weighted avg       0.91      0.91      0.91    123888\n",
      "\n",
      "Confusion Matrix:\n",
      "[[86857  3803]\n",
      " [ 7626 25602]]\n"
     ]
    },
    {
     "data": {
      "image/png": "[encoded data removed]",
      "text/plain": [
       "<Figure size 800x600 with 1 Axes>"
      ]
     },
     "metadata": {},
     "output_type": "display_data"
    }
   ],
   "source": [
    "binary_class_eval(1.5, y_test_Inverse, y_test_pred_Inverse)"
   ]
  },
  {
   "cell_type": "markdown",
   "metadata": {
    "id": "e819Iqn67jVm"
   },
   "source": [
    "### Using 2.5 as \"Severe\" Drought Classification"
   ]
  },
  {
   "cell_type": "code",
   "execution_count": 77,
   "metadata": {
    "colab": {
     "base_uri": "https://localhost:8080/"
    },
    "executionInfo": {
     "elapsed": 5,
     "status": "ok",
     "timestamp": 1711040647407,
     "user": {
      "displayName": "Angela Chang",
      "userId": "18143705945247269874"
     },
     "user_tz": 420
    },
    "id": "1aWAH6oE7N1t",
    "outputId": "8db616c8-2028-4712-bed0-0ccf55c5ff11"
   },
   "outputs": [
    {
     "name": "stdout",
     "output_type": "stream",
     "text": [
      "Evaluation metric results:-\n",
      "Accuracy: 0.9590920831718972\n",
      "Precision: 0.9300147809942136\n",
      "Recall: 0.8425569964015276\n",
      "F1-score: 0.8798821947216257\n",
      "\n",
      "\n",
      "Classification Report\n",
      "              precision    recall  f1-score   support\n",
      "\n",
      "           0       0.96      0.99      0.98    110778\n",
      "           1       0.90      0.69      0.78     13110\n",
      "\n",
      "    accuracy                           0.96    123888\n",
      "   macro avg       0.93      0.84      0.88    123888\n",
      "weighted avg       0.96      0.96      0.96    123888\n",
      "\n",
      "Confusion Matrix:\n",
      "[[109712   1066]\n",
      " [  4002   9108]]\n"
     ]
    },
    {
     "data": {
      "image/png": "[encoded data removed]",
      "text/plain": [
       "<Figure size 800x600 with 1 Axes>"
      ]
     },
     "metadata": {},
     "output_type": "display_data"
    }
   ],
   "source": [
    "binary_class_eval(2.5, y_test_Inverse, y_test_pred_Inverse)"
   ]
  },
  {
   "cell_type": "markdown",
   "metadata": {
    "id": "ChFNFIu59Qy9"
   },
   "source": [
    "### Using Extreme Drought as Threshold - 3.5\n",
    "\n",
    "Extreme Drought is a score of 4. Scores at 3.5 or higher will round up to 4."
   ]
  },
  {
   "cell_type": "code",
   "execution_count": 78,
   "metadata": {
    "id": "ohruWfz99PN3"
   },
   "outputs": [
    {
     "name": "stdout",
     "output_type": "stream",
     "text": [
      "Evaluation metric results:-\n",
      "Accuracy: 0.9875694175384218\n",
      "Precision: 0.8318056195443455\n",
      "Recall: 0.6136918985975685\n",
      "F1-score: 0.6678028968646482\n",
      "\n",
      "\n",
      "Classification Report\n",
      "              precision    recall  f1-score   support\n",
      "\n",
      "           0       0.99      1.00      0.99    122141\n",
      "           1       0.67      0.23      0.34      1747\n",
      "\n",
      "    accuracy                           0.99    123888\n",
      "   macro avg       0.83      0.61      0.67    123888\n",
      "weighted avg       0.98      0.99      0.98    123888\n",
      "\n",
      "Confusion Matrix:\n",
      "[[121948    193]\n",
      " [  1347    400]]\n"
     ]
    },
    {
     "data": {
      "image/png": "[encoded data removed]",
      "text/plain": [
       "<Figure size 800x600 with 1 Axes>"
      ]
     },
     "metadata": {},
     "output_type": "display_data"
    }
   ],
   "source": [
    "binary_class_eval(3.5, y_test_Inverse, y_test_pred_Inverse)"
   ]
  },
  {
   "cell_type": "markdown",
   "metadata": {
    "id": "kAcJkkagZX7H"
   },
   "source": [
    "# Feature Importance"
   ]
  },
  {
   "cell_type": "code",
   "execution_count": 40,
   "metadata": {
    "id": "1wlafNQHZcGA"
   },
   "outputs": [
    {
     "data": {
      "text/plain": [
       "array([7.68324942e-04, 1.09661242e-03, 9.71708854e-04, 7.78724963e-04,\n",
       "       1.00703468e-03, 8.24191666e-04, 6.79822522e-04, 6.66238833e-04,\n",
       "       2.07605748e-03, 2.43513868e-03, 1.04707759e-03, 3.78950872e-03,\n",
       "       1.27698993e-04, 3.10336909e-04, 1.34096842e-03, 1.56755370e-04,\n",
       "       0.00000000e+00, 3.02991510e-04, 5.32730250e-04, 2.14393192e-04,\n",
       "       2.38704332e-03, 3.76697117e-03, 0.00000000e+00, 0.00000000e+00,\n",
       "       1.38736912e-03, 8.33220383e-06, 9.42753803e-04, 1.52325293e-03,\n",
       "       1.45178661e-03, 0.00000000e+00, 6.96968171e-04, 8.92800395e-04,\n",
       "       1.33959379e-03, 3.22380831e-04, 2.35875297e-04, 4.15371702e-04,\n",
       "       1.99406364e-04, 2.91670061e-04, 5.84796770e-04, 3.22948210e-04,\n",
       "       4.31271968e-04, 9.34607306e-05, 1.92971132e-03, 6.01396896e-03,\n",
       "       0.00000000e+00, 0.00000000e+00, 2.16708239e-03, 1.20553793e-03,\n",
       "       9.79864970e-04, 1.73317397e-03, 1.48393039e-03, 8.92307653e-05,\n",
       "       1.60452130e-03, 0.00000000e+00, 5.33143117e-04, 7.42520788e-04,\n",
       "       1.46585761e-03, 7.55812158e-04, 0.00000000e+00, 1.17066062e-04,\n",
       "       8.48090975e-04, 3.66476423e-04, 3.04756395e-04, 4.99161193e-04,\n",
       "       2.66758865e-03, 4.76418715e-03, 0.00000000e+00, 0.00000000e+00,\n",
       "       1.13595673e-03, 1.32723826e-05, 3.27916117e-03, 8.80125677e-04,\n",
       "       0.00000000e+00, 0.00000000e+00, 4.91526851e-04, 4.38792456e-04,\n",
       "       5.18294284e-04, 6.28275913e-04, 5.65990224e-04, 2.85485730e-04,\n",
       "       0.00000000e+00, 1.96847599e-04, 0.00000000e+00, 2.50267098e-04,\n",
       "       0.00000000e+00, 4.86725708e-04, 1.75287481e-03, 7.15986826e-03,\n",
       "       0.00000000e+00, 0.00000000e+00, 1.94259465e-03, 0.00000000e+00,\n",
       "       2.19602883e-03, 8.28585820e-04, 1.83172012e-03, 1.96184078e-03,\n",
       "       1.52385072e-03, 5.11629798e-04, 1.44678273e-03, 2.36449670e-03,\n",
       "       4.34117421e-04, 3.88157030e-04, 2.97872175e-04, 1.10668270e-03,\n",
       "       3.54844960e-04, 1.19421900e-04, 6.35871082e-04, 2.42772076e-04,\n",
       "       3.68483504e-03, 4.02138382e-03, 0.00000000e+00, 0.00000000e+00,\n",
       "       1.88959599e-03, 9.23257903e-05, 3.16206482e-03, 1.87836972e-03,\n",
       "       1.70042028e-03, 3.33062583e-03, 1.16080523e-03, 1.04863045e-03,\n",
       "       1.07085553e-03, 1.33769377e-03, 0.00000000e+00, 0.00000000e+00,\n",
       "       1.54517533e-04, 4.45444981e-04, 4.68236423e-04, 5.60561020e-04,\n",
       "       1.67602149e-04, 6.17682585e-04, 2.08151294e-03, 4.55691200e-03,\n",
       "       0.00000000e+00, 0.00000000e+00, 1.91190187e-03, 5.11625585e-05,\n",
       "       2.59702769e-03, 2.48903263e-04, 3.47159570e-03, 2.44014920e-03,\n",
       "       5.28317818e-04, 6.79900695e-04, 1.02851284e-03, 0.00000000e+00,\n",
       "       0.00000000e+00, 4.26145532e-04, 1.00916674e-04, 2.08284269e-04,\n",
       "       0.00000000e+00, 4.80264105e-04, 0.00000000e+00, 1.69117193e-04,\n",
       "       2.64033489e-03, 5.77121601e-03, 0.00000000e+00, 0.00000000e+00,\n",
       "       1.31196040e-03, 0.00000000e+00, 2.20640795e-03, 9.63891915e-04,\n",
       "       1.43024640e-03, 1.48810225e-03, 9.39767633e-04, 7.28493382e-04,\n",
       "       1.42535649e-03, 8.70731543e-04, 9.30143229e-04, 5.06876910e-04,\n",
       "       5.22443333e-05, 2.38052671e-04, 0.00000000e+00, 1.18607364e-03,\n",
       "       0.00000000e+00, 0.00000000e+00, 2.00901483e-03, 5.82897943e-03,\n",
       "       0.00000000e+00, 0.00000000e+00, 1.49469578e-03, 3.01044458e-03,\n",
       "       8.64778704e-04, 5.34356805e-04, 1.07138080e-03, 4.10803477e-04,\n",
       "       1.16259791e-03, 1.45563576e-03, 9.94656235e-04, 1.45434018e-03,\n",
       "       7.91178434e-04, 7.23532925e-04, 0.00000000e+00, 0.00000000e+00,\n",
       "       1.52023000e-04, 1.02478301e-03, 8.73056706e-05, 1.87891605e-03,\n",
       "       1.52735284e-03, 5.33908885e-03, 0.00000000e+00, 0.00000000e+00,\n",
       "       1.14458101e-03, 0.00000000e+00, 7.44244491e-04, 4.68753889e-04,\n",
       "       9.56575328e-04, 0.00000000e+00, 1.12972700e-03, 6.43289182e-04,\n",
       "       7.00241013e-04, 1.06795726e-03, 8.06251250e-04, 2.07631165e-04,\n",
       "       0.00000000e+00, 0.00000000e+00, 0.00000000e+00, 2.97611434e-04,\n",
       "       1.24886821e-04, 7.62019845e-05, 1.42444007e-03, 3.72590078e-03,\n",
       "       0.00000000e+00, 0.00000000e+00, 1.39441190e-03, 0.00000000e+00,\n",
       "       1.75506389e-03, 8.61320004e-04, 8.12936283e-04, 0.00000000e+00,\n",
       "       7.93583342e-04, 7.79047376e-04, 1.43860222e-03, 1.03535654e-03,\n",
       "       0.00000000e+00, 7.42124976e-04, 0.00000000e+00, 0.00000000e+00,\n",
       "       5.89966192e-04, 6.49705471e-04, 3.24541208e-04, 0.00000000e+00,\n",
       "       1.74241990e-03, 3.31646204e-03, 0.00000000e+00, 0.00000000e+00,\n",
       "       1.33572344e-03, 0.00000000e+00, 8.16684624e-04, 0.00000000e+00,\n",
       "       1.20793709e-04, 0.00000000e+00, 1.65258977e-03, 7.34625559e-04,\n",
       "       1.44621416e-03, 1.23236957e-03, 3.16322054e-04, 1.54125548e-04,\n",
       "       7.80704286e-05, 1.87696005e-05, 0.00000000e+00, 1.52785995e-03,\n",
       "       0.00000000e+00, 0.00000000e+00, 2.24519242e-03, 5.78688039e-03,\n",
       "       0.00000000e+00, 0.00000000e+00, 1.31289975e-03, 0.00000000e+00,\n",
       "       1.46337668e-03, 9.64187668e-04, 1.18521380e-03, 0.00000000e+00,\n",
       "       9.96986171e-04, 1.12877844e-03, 1.27221085e-03, 4.76097222e-04,\n",
       "       8.69033043e-04, 1.05887244e-03, 1.32154251e-04, 0.00000000e+00,\n",
       "       3.23146844e-04, 9.69178800e-04, 7.67705715e-05, 7.07953004e-05,\n",
       "       2.54675001e-03, 6.13202201e-03, 0.00000000e+00, 0.00000000e+00,\n",
       "       9.44062660e-04, 0.00000000e+00, 1.12418085e-03, 7.96753156e-04,\n",
       "       1.49960443e-03, 1.40349951e-03, 9.21453349e-04, 5.92091237e-04,\n",
       "       1.86054385e-03, 6.11314899e-04, 7.33138237e-04, 1.50027080e-03,\n",
       "       2.56354542e-04, 9.28375230e-04, 5.50589408e-04, 0.00000000e+00,\n",
       "       1.20583118e-03, 0.00000000e+00, 3.13101406e-03, 2.23783823e-03,\n",
       "       0.00000000e+00, 0.00000000e+00, 7.83311611e-04, 8.51357298e-04,\n",
       "       1.16137869e-03, 3.31365108e-03, 1.52411789e-03, 3.15237994e-04,\n",
       "       8.56839528e-04, 1.06105686e-03, 6.63001847e-04, 2.03661807e-03,\n",
       "       1.28530839e-03, 1.14749803e-03, 0.00000000e+00, 1.08744731e-04,\n",
       "       5.90427953e-04, 0.00000000e+00, 0.00000000e+00, 4.89281141e-04,\n",
       "       2.50436086e-03, 3.52779403e-03, 0.00000000e+00, 0.00000000e+00,\n",
       "       8.99854349e-04, 2.06311321e-04, 8.51391698e-04, 1.10486383e-03,\n",
       "       1.56559236e-03, 0.00000000e+00, 1.25232385e-03, 9.81500605e-04,\n",
       "       4.70317755e-04, 2.61493959e-03, 1.39035145e-03, 0.00000000e+00,\n",
       "       0.00000000e+00, 1.68065031e-04, 8.59313528e-04, 7.24211393e-04,\n",
       "       0.00000000e+00, 1.14445027e-03, 3.95775214e-03, 2.10502441e-03,\n",
       "       0.00000000e+00, 0.00000000e+00, 1.20803283e-03, 2.02321587e-03,\n",
       "       1.84905599e-03, 2.16444675e-03, 1.57339661e-03, 1.29267818e-03,\n",
       "       1.12889637e-03, 3.11947311e-03, 4.38299088e-04, 2.62258854e-03,\n",
       "       0.00000000e+00, 0.00000000e+00, 0.00000000e+00, 0.00000000e+00,\n",
       "       7.97801884e-04, 8.72410135e-04, 0.00000000e+00, 3.52106108e-05,\n",
       "       4.65818914e-03, 3.68279056e-03, 0.00000000e+00, 0.00000000e+00,\n",
       "       1.30211865e-03, 0.00000000e+00, 6.45572436e-04, 7.49778526e-04,\n",
       "       4.69601306e-04, 1.26537774e-03, 1.56611018e-03, 9.97433555e-04,\n",
       "       1.43782597e-03, 2.46841135e-03, 6.27547386e-04, 7.51447107e-04,\n",
       "       0.00000000e+00, 8.58488725e-04, 4.32705972e-04, 0.00000000e+00,\n",
       "       4.81801282e-04, 7.87860656e-04, 4.73676156e-03, 4.50087106e-03,\n",
       "       0.00000000e+00, 0.00000000e+00, 8.44308408e-04, 1.87799265e-03,\n",
       "       7.86213321e-04, 1.59396161e-03, 1.49853341e-03, 1.52520742e-03,\n",
       "       2.93692551e-03, 1.02796522e-03, 1.76223752e-03, 1.51897715e-02,\n",
       "       3.62061808e-04, 5.08438272e-04, 0.00000000e+00, 6.41151681e-04,\n",
       "       3.41591280e-04, 4.79756825e-04, 1.54724636e-04, 5.30641351e-04,\n",
       "       3.46805668e-03, 2.86640227e-03, 0.00000000e+00, 0.00000000e+00,\n",
       "       6.87725435e-04, 1.06466189e-03, 9.04782384e-04, 9.09081602e-04,\n",
       "       1.02685927e-03, 1.28312060e-03, 9.59537749e-04, 2.60401773e-03,\n",
       "       9.35862772e-04, 1.73884805e-03, 6.83087201e-05, 0.00000000e+00,\n",
       "       8.11241698e-05, 0.00000000e+00, 3.84499173e-04, 2.47979886e-03,\n",
       "       4.83304437e-04, 2.98478699e-04, 3.01345531e-03, 8.80945660e-03,\n",
       "       0.00000000e+00, 0.00000000e+00, 1.16401701e-03, 2.65067234e-03,\n",
       "       1.29737158e-03, 1.82529504e-03, 9.56021075e-04, 1.58257049e-03,\n",
       "       1.47658144e-03, 2.68265069e-03, 1.46188447e-03, 3.65121593e-03,\n",
       "       7.40422809e-04, 1.89072176e-04, 8.72306002e-04, 5.55879786e-04,\n",
       "       2.83254514e-04, 1.11122720e-03, 3.17138096e-04, 0.00000000e+00,\n",
       "       2.81216484e-03, 6.42059930e-03, 0.00000000e+00, 0.00000000e+00,\n",
       "       1.15152285e-03, 2.66272039e-03, 1.46853714e-03, 1.54357636e-03,\n",
       "       3.87674168e-04, 3.23108654e-03, 1.96034508e-03, 2.31833546e-03,\n",
       "       1.40042824e-03, 1.27329014e-03, 1.81507482e-03, 3.10325937e-04,\n",
       "       0.00000000e+00, 1.40219287e-04, 3.29770206e-04, 0.00000000e+00,\n",
       "       5.36646170e-04, 0.00000000e+00, 2.36791139e-03, 9.36474651e-03,\n",
       "       0.00000000e+00, 0.00000000e+00, 1.37942843e-03, 1.70343526e-04,\n",
       "       1.52005593e-03, 1.63414818e-03, 8.54521524e-04, 2.26566638e-03,\n",
       "       2.13479996e-03, 1.17800536e-03, 7.52461900e-04, 7.71649473e-04,\n",
       "       7.35098438e-04, 8.61467561e-04, 1.37395749e-03, 6.47739682e-04,\n",
       "       6.39075064e-04, 0.00000000e+00, 5.21029811e-04, 0.00000000e+00,\n",
       "       2.82189529e-03, 1.18961707e-02, 0.00000000e+00, 0.00000000e+00,\n",
       "       1.54208054e-03, 0.00000000e+00, 1.00379321e-03, 1.00484921e-03,\n",
       "       8.56456463e-04, 2.66611169e-04, 8.10447324e-04, 1.02701108e-03,\n",
       "       1.66192278e-03, 1.84531859e-03, 0.00000000e+00, 5.48671465e-04,\n",
       "       2.54999177e-04, 1.45917095e-03, 4.64346173e-04, 4.75553024e-05,\n",
       "       0.00000000e+00, 7.59135757e-04, 2.58158823e-03, 1.15498584e-02,\n",
       "       0.00000000e+00, 0.00000000e+00, 1.43030542e-03, 0.00000000e+00,\n",
       "       8.56865430e-04, 1.20830303e-03, 6.03434804e-04, 2.37006112e-04,\n",
       "       1.07369071e-03, 9.75758303e-04, 2.05166521e-03, 3.35166045e-03,\n",
       "       5.93050558e-04, 1.05634704e-03, 7.30574713e-04, 2.69598444e-04,\n",
       "       7.26226717e-04, 8.61051012e-05, 2.90055556e-04, 0.00000000e+00,\n",
       "       3.12821125e-03, 1.09461350e-02, 0.00000000e+00, 0.00000000e+00,\n",
       "       1.90024846e-03, 1.40860514e-03, 1.39257184e-03, 4.27567982e-04,\n",
       "       8.78406790e-05, 2.38150079e-03, 6.48759014e-04, 4.38212795e-04,\n",
       "       6.34523050e-04, 1.66148983e-03, 1.91320002e-03, 2.63344147e-03,\n",
       "       4.40813514e-04, 5.04642772e-03, 1.17736857e-03, 0.00000000e+00,\n",
       "       1.86934249e-05, 0.00000000e+00, 2.48291600e-03, 2.69577559e-02,\n",
       "       0.00000000e+00, 0.00000000e+00, 2.89308489e-03, 2.03597150e-03,\n",
       "       1.83533318e-03, 2.21240611e-04, 3.23349552e-04, 7.13137735e-04,\n",
       "       6.48553483e-04, 1.07482029e-03, 1.01236755e-03, 1.44816865e-03,\n",
       "       5.53273538e-04, 3.36969882e-04, 1.95269613e-03, 1.35974769e-04,\n",
       "       1.17541908e-03, 2.45332485e-03, 4.39025025e-04, 1.38484305e-04,\n",
       "       2.81154481e-03, 2.15285085e-02, 0.00000000e+00, 0.00000000e+00,\n",
       "       4.01145313e-03, 1.65136741e-03, 2.06160685e-03, 9.29662201e-04,\n",
       "       9.96502466e-04, 2.46840576e-03, 8.78668157e-04, 2.71403301e-03,\n",
       "       1.19053479e-03, 1.85122620e-03, 5.09574136e-04, 6.43937383e-04,\n",
       "       1.07890744e-04, 1.88618223e-03, 0.00000000e+00, 9.40528815e-04,\n",
       "       1.97105095e-04, 3.87119129e-04, 3.58167011e-03, 6.63120579e-03,\n",
       "       0.00000000e+00, 0.00000000e+00, 4.63447813e-03, 0.00000000e+00,\n",
       "       2.14218185e-03, 4.40881529e-04, 9.08459129e-04, 4.58195544e-04,\n",
       "       9.31004062e-04, 1.42152829e-03, 2.41700001e-03, 1.59536197e-03,\n",
       "       1.02708396e-03, 1.30354485e-03, 9.83819991e-05, 5.74151659e-03,\n",
       "       1.74073875e-03, 3.70119902e-04, 1.40258926e-04, 3.79134115e-04,\n",
       "       3.15575604e-03, 5.52126439e-03, 0.00000000e+00, 0.00000000e+00,\n",
       "       5.79709234e-03, 0.00000000e+00, 3.33106285e-03, 2.47909967e-03,\n",
       "       9.80139128e-04, 1.45227328e-04, 1.96485408e-03, 1.88875059e-03,\n",
       "       5.64236566e-03, 1.72124163e-03, 1.24053261e-03, 9.37513309e-04,\n",
       "       0.00000000e+00, 1.82869655e-04, 2.21940456e-04, 7.25525548e-04,\n",
       "       0.00000000e+00, 6.34248485e-04, 1.93134561e-01, 7.82774575e-03],\n",
       "      dtype=float32)"
      ]
     },
     "execution_count": 40,
     "metadata": {},
     "output_type": "execute_result"
    }
   ],
   "source": [
    "feature_imp"
   ]
  },
  {
   "cell_type": "code",
   "execution_count": 41,
   "metadata": {
    "id": "_A8XUNHxZgyi"
   },
   "outputs": [
    {
     "data": {
      "text/plain": [
       "(660,)"
      ]
     },
     "execution_count": 41,
     "metadata": {},
     "output_type": "execute_result"
    }
   ],
   "source": [
    "feature_imp.shape"
   ]
  },
  {
   "cell_type": "code",
   "execution_count": 42,
   "metadata": {
    "id": "N78hflx3dhZD"
   },
   "outputs": [
    {
     "data": {
      "text/plain": [
       "30.0"
      ]
     },
     "execution_count": 42,
     "metadata": {},
     "output_type": "execute_result"
    }
   ],
   "source": [
    "630 / 21"
   ]
  },
  {
   "cell_type": "code",
   "execution_count": 43,
   "metadata": {
    "id": "2dsL_ERJdyey"
   },
   "outputs": [
    {
     "data": {
      "text/plain": [
       "30.0"
      ]
     },
     "execution_count": 43,
     "metadata": {},
     "output_type": "execute_result"
    }
   ],
   "source": [
    "feature_imp.shape[0] / num_features"
   ]
  },
  {
   "cell_type": "code",
   "execution_count": 44,
   "metadata": {
    "id": "EiPBjNfxZhiO"
   },
   "outputs": [],
   "source": [
    "def get_features_sum(num_windows, num_features, features_ar):\n",
    "    # Reshape the features to aggregate the feature importances\n",
    "    features_ar = np.reshape(features_ar, [num_windows, num_features])\n",
    "\n",
    "    feature_df = pd.DataFrame(data = features_ar,\n",
    "                      columns = ['lat','lon','PRECTOT', 'PS', 'QV2M', 'T2M', 'T2MDEW', 'T2MWET',\n",
    "       'T2M_MAX', 'T2M_MIN', 'T2M_RANGE', 'TS', 'WS10M', 'WS10M_MAX',\n",
    "       'WS10M_MIN', 'WS10M_RANGE', 'WS50M', 'WS50M_MAX', 'WS50M_MIN',\n",
    "       'WS50M_RANGE', 'score', 'month'])\n",
    "\n",
    "    print(feature_df.sum())"
   ]
  },
  {
   "cell_type": "code",
   "execution_count": 45,
   "metadata": {
    "id": "YXO4JH44Zjri"
   },
   "outputs": [
    {
     "name": "stdout",
     "output_type": "stream",
     "text": [
      "lat            0.000768\n",
      "lon            0.001097\n",
      "PRECTOT        0.051974\n",
      "PS             0.021763\n",
      "QV2M           0.046246\n",
      "T2M            0.034056\n",
      "T2MDEW         0.032309\n",
      "T2MWET         0.031222\n",
      "T2M_MAX        0.036907\n",
      "T2M_MIN        0.037579\n",
      "T2M_RANGE      0.040055\n",
      "TS             0.061775\n",
      "WS10M          0.020136\n",
      "WS10M_MAX      0.018703\n",
      "WS10M_MIN      0.008525\n",
      "WS10M_RANGE    0.021550\n",
      "WS50M          0.014036\n",
      "WS50M_MAX      0.018349\n",
      "WS50M_MIN      0.007471\n",
      "WS50M_RANGE    0.009933\n",
      "score          0.272987\n",
      "month          0.212558\n",
      "dtype: float32\n"
     ]
    }
   ],
   "source": [
    "get_features_sum(int(feature_imp.shape[0] / num_features), num_features, feature_imp)\n"
   ]
  }
 ],
 "metadata": {
  "accelerator": "GPU",
  "colab": {
   "gpuType": "T4",
   "provenance": []
  },
  "kernelspec": {
   "display_name": "Python 3 (ipykernel)",
   "language": "python",
   "name": "python3"
  },
  "language_info": {
   "codemirror_mode": {
    "name": "ipython",
    "version": 3
   },
   "file_extension": ".py",
   "mimetype": "text/x-python",
   "name": "python",
   "nbconvert_exporter": "python",
   "pygments_lexer": "ipython3",
   "version": "3.9.16"
  }
 },
 "nbformat": 4,
 "nbformat_minor": 1
}
