{
  "nbformat": 4,
  "nbformat_minor": 0,
  "metadata": {
    "colab": {
      "provenance": [],
      "gpuType": "T4"
    },
    "kernelspec": {
      "name": "python3",
      "display_name": "Python 3"
    },
    "language_info": {
      "name": "python"
    },
    "accelerator": "GPU"
  },
  "cells": [
    {
      "cell_type": "code",
      "metadata": {
        "id": "oeCE85RZaBN0"
      },
      "source": [
        "import pandas as pd\n",
        "import numpy as np\n",
        "import matplotlib.pyplot as plt\n",
        "import plotly.express as px\n",
        "import seaborn as sns\n",
        "from sklearn import metrics\n",
        "from sklearn.metrics import accuracy_score, precision_score, recall_score, f1_score\n",
        "from sklearn.metrics import classification_report\n",
        "from sklearn.preprocessing import LabelEncoder,MinMaxScaler, StandardScaler\n",
        "\n",
        "import tensorflow as tf"
      ],
      "execution_count": 2,
      "outputs": []
    },
    {
      "cell_type": "code",
      "source": [
        "# Set random seed for TensorFlow\n",
        "tf.random.set_seed(123)\n",
        "\n",
        "# Set random seed for Python\n",
        "np.random.seed(123)"
      ],
      "metadata": {
        "id": "4dmgFLz8_ySQ"
      },
      "execution_count": 3,
      "outputs": []
    },
    {
      "cell_type": "code",
      "source": [
        "tf.keras.utils.set_random_seed(1)\n",
        "\n",
        "tf.config.experimental.enable_op_determinism()"
      ],
      "metadata": {
        "id": "VHbe-92aulGr"
      },
      "execution_count": 4,
      "outputs": []
    },
    {
      "cell_type": "code",
      "source": [
        "from google.colab import drive\n",
        "drive.mount('/content/drive')\n"
      ],
      "metadata": {
        "colab": {
          "base_uri": "https://localhost:8080/"
        },
        "id": "XfUWkEhXh31i",
        "outputId": "e8b317d1-bbdb-4949-b363-c441598517b3"
      },
      "execution_count": 5,
      "outputs": [
        {
          "output_type": "stream",
          "name": "stdout",
          "text": [
            "Mounted at /content/drive\n"
          ]
        }
      ]
    },
    {
      "cell_type": "code",
      "metadata": {
        "id": "_1Ua7mbsbUOr"
      },
      "source": [
        "\n",
        "data_all_county = pd.read_csv('/content/drive/My Drive/time_series/CA_data_lat_log_weekly.csv')\n"
      ],
      "execution_count": 6,
      "outputs": []
    },
    {
      "cell_type": "code",
      "source": [
        "data_all_county['date'] = pd.to_datetime(data_all_county['date'])\n",
        "data_all_county['month'] = data_all_county['date'].dt.month"
      ],
      "metadata": {
        "id": "_DelmH4bH1zr"
      },
      "execution_count": 7,
      "outputs": []
    },
    {
      "cell_type": "markdown",
      "source": [
        "Define helper functions"
      ],
      "metadata": {
        "id": "JkZqApXYXb-9"
      }
    },
    {
      "cell_type": "code",
      "source": [
        "def ts_multi_data_prep(dataset, target, start, end, window, step_out):\n",
        "    X = []\n",
        "    y = []\n",
        "    start = start + window\n",
        "    if end is None:\n",
        "        end = len(dataset) - step_out\n",
        "        #end = len(dataset)\n",
        "    for i in range(start, end):\n",
        "        indices = range(i-window, i)\n",
        "        X.append(dataset[indices])\n",
        "\n",
        "        indicey = range(i, i+step_out) #revise the window definition\n",
        "        y.append(target[indicey])\n",
        "    return np.array(X), np.array(y)"
      ],
      "metadata": {
        "id": "fIDCIpwSXXKt"
      },
      "execution_count": 8,
      "outputs": []
    },
    {
      "cell_type": "code",
      "source": [
        "def timeseries_evaluation_metrics_func(y_true, y_pred):\n",
        "    def mean_absolute_percentage_error(y_true, y_pred):\n",
        "        y_true, y_pred = np.array(y_true), np.array(y_pred)\n",
        "        return np.mean(np.abs((y_true - y_pred) / y_true)) * 100\n",
        "\n",
        "    print('Evaluation metric results:-')\n",
        "    mse = metrics.mean_squared_error(y_true.flatten(), y_pred.flatten())\n",
        "    mae = metrics.mean_absolute_error(y_true.flatten(), y_pred.flatten())\n",
        "    rmse = np.sqrt(mse)\n",
        "    #mape = mean_absolute_percentage_error(y_true.flatten(), y_pred.flatten())\n",
        "    r2 = metrics.r2_score(y_true.flatten(), y_pred.flatten())\n",
        "    print(f'MSE is : {mse}')\n",
        "    print(f'MAE is : {mae}')\n",
        "    print(f'RMSE is : {rmse}')\n",
        "    #print(f'MAPE is : {mape}')\n",
        "    print(f'R2 is : {r2}\\n')"
      ],
      "metadata": {
        "id": "vp6wtluEXfZb"
      },
      "execution_count": 9,
      "outputs": []
    },
    {
      "cell_type": "code",
      "source": [
        "def single_evaluation_metrics_func(y_true, y_pred):\n",
        "    def mean_absolute_percentage_error(y_true, y_pred):\n",
        "        y_true, y_pred = np.array(y_true), np.array(y_pred)\n",
        "        return np.mean(np.abs((y_true - y_pred) / y_true)) * 100\n",
        "    print('Evaluation metric results:-')\n",
        "    print(f'MSE is : {metrics.mean_squared_error(y_true, y_pred)}')\n",
        "    print(f'MAE is : {metrics.mean_absolute_error(y_true, y_pred)}')\n",
        "    print(f'RMSE is : {np.sqrt(metrics.mean_squared_error(y_true, y_pred))}')\n",
        "    #print(f'MAPE is : {mean_absolute_percentage_error(y_true, y_pred)}')\n",
        "    print(f'R2 is : {metrics.r2_score(y_true, y_pred)}',end='\\n\\n')"
      ],
      "metadata": {
        "id": "pUCiqC7cXfMO"
      },
      "execution_count": 10,
      "outputs": []
    },
    {
      "cell_type": "code",
      "source": [
        "def timeseries_evaluation_metrics_binary(y_true, y_pred):\n",
        "    print('Evaluation metric results:-')\n",
        "    accuracy = accuracy_score(y_true.flatten(), y_pred.flatten())\n",
        "    precision = precision_score(y_true.flatten(), y_pred.flatten(), average='macro')\n",
        "    recall = recall_score(y_true.flatten(), y_pred.flatten(), average='macro')\n",
        "    f1 = f1_score(y_true.flatten(), y_pred.flatten(), average='macro')\n",
        "\n",
        "    print(f'Accuracy: {accuracy}')\n",
        "    print(f'Precision: {precision}')\n",
        "    print(f'Recall: {recall}')\n",
        "    print(f'F1-score: {f1}\\n')"
      ],
      "metadata": {
        "id": "nHk_Sjmc7msB"
      },
      "execution_count": 11,
      "outputs": []
    },
    {
      "cell_type": "code",
      "source": [
        "def process_county_level_func(data_county, step_out):\n",
        "\n",
        "    X_scaler_train = MinMaxScaler()\n",
        "    Y_scaler_train = MinMaxScaler()\n",
        "    X_scaler_test = MinMaxScaler()\n",
        "    Y_scaler_test = MinMaxScaler()\n",
        "    X_scaler_vali = MinMaxScaler()\n",
        "    Y_scaler_vali = MinMaxScaler()\n",
        "\n",
        "\n",
        "    X_data = data_county[['lat','lon','PRECTOT', 'PS', 'QV2M', 'T2M', 'T2MDEW', 'T2MWET',\n",
        "       'T2M_MAX', 'T2M_MIN', 'T2M_RANGE', 'TS', 'WS10M', 'WS10M_MAX',\n",
        "       'WS10M_MIN', 'WS10M_RANGE', 'WS50M', 'WS50M_MAX', 'WS50M_MIN',\n",
        "       'WS50M_RANGE', 'score','month']]\n",
        "    Y_data = data_county[['score']]\n",
        "\n",
        "\n",
        "    #train_val_test split 70%-10%-20%\n",
        "    n = len(X_data)\n",
        "    x_train_data = X_scaler_train.fit_transform(X_data[0:int(n*0.7)])\n",
        "    y_train_data = Y_scaler_train.fit_transform(Y_data[0:int(n*0.7)])\n",
        "    x_vali_data = X_scaler_vali.fit_transform(X_data[int(n*0.7):int(n*0.8)])\n",
        "    y_vali_data = Y_scaler_vali.fit_transform(Y_data[int(n*0.7):int(n*0.8)])\n",
        "    x_test_data = X_scaler_test.fit_transform(X_data[int(n*0.8):])\n",
        "    y_test_data = Y_scaler_test.fit_transform(Y_data[int(n*0.8):])\n",
        "    x_train_c, y_train_c = ts_multi_data_prep(x_train_data, y_train_data, 0, None, hist_window, step_out)\n",
        "    x_vali_c, y_vali_c = ts_multi_data_prep(x_vali_data, y_vali_data, 0, None, hist_window, step_out)\n",
        "    x_test_c, y_test_c = ts_multi_data_prep(x_test_data, y_test_data, 0, None, hist_window, step_out)\n",
        "    return x_train_c, y_train_c, x_vali_c, y_vali_c, x_test_c, y_test_c"
      ],
      "metadata": {
        "id": "tnEg3zV9XfCu"
      },
      "execution_count": 12,
      "outputs": []
    },
    {
      "cell_type": "code",
      "metadata": {
        "id": "BJyFdGZFeeVi"
      },
      "source": [
        "hist_window = 30\n",
        "step_out = 12\n",
        "x_train_c, y_train_c, x_vali_c, y_vali_c, x_test_c, y_test_c = [], [], [], [], [], []\n",
        "unique_fips = data_all_county['fips'].unique()\n",
        "unique_fips_count = data_all_county['fips'].nunique()\n",
        "for fips in unique_fips:\n",
        "    # Extract dataframe for the current FIPS value\n",
        "    data_county = data_all_county[data_all_county['fips'] == fips]\n",
        "\n",
        "    X_data = data_county[['lat','lon','PRECTOT', 'PS', 'QV2M', 'T2M', 'T2MDEW', 'T2MWET',\n",
        "       'T2M_MAX', 'T2M_MIN', 'T2M_RANGE', 'TS', 'WS10M', 'WS10M_MAX',\n",
        "       'WS10M_MIN', 'WS10M_RANGE', 'WS50M', 'WS50M_MAX', 'WS50M_MIN',\n",
        "       'WS50M_RANGE', 'score','month']]\n",
        "    Y_data = data_county[['score']]\n",
        "    #train_val_test split 70%-10%-20%\n",
        "    n = len(X_data)\n",
        "\n",
        "    x_train_county = X_data[0:int(n*0.7)]\n",
        "    y_train_county = Y_data[0:int(n*0.7)]\n",
        "    x_vali_county = X_data[int(n*0.7):int(n*0.8)]\n",
        "    y_vali_county = Y_data[int(n*0.7):int(n*0.8)]\n",
        "    x_test_county = X_data[int(n*0.8):]\n",
        "    y_test_county = Y_data[int(n*0.8):]\n",
        "\n",
        "\n",
        "    if fips == 6001:\n",
        "        x_train_c, y_train_c, x_vali_c, y_vali_c, x_test_c, y_test_c = x_train_county, y_train_county, x_vali_county, y_vali_county, x_test_county, y_test_county\n",
        "\n",
        "    else:\n",
        "        x_train_c = np.concatenate((x_train_c, x_train_county), axis=0)\n",
        "        y_train_c = np.concatenate((y_train_c, y_train_county), axis=0)\n",
        "        x_vali_c = np.concatenate((x_vali_c, x_vali_county), axis=0)\n",
        "        y_vali_c = np.concatenate((y_vali_c, y_vali_county), axis=0)\n",
        "        x_test_c = np.concatenate((x_test_c, x_test_county), axis=0)\n",
        "        y_test_c = np.concatenate((y_test_c, y_test_county), axis=0)\n"
      ],
      "execution_count": 13,
      "outputs": []
    },
    {
      "cell_type": "code",
      "source": [
        "x_train_c.shape"
      ],
      "metadata": {
        "colab": {
          "base_uri": "https://localhost:8080/"
        },
        "id": "_3FihSH-Z4jM",
        "outputId": "1e1fd600-44a1-4e1c-be50-e8d0c6971580"
      },
      "execution_count": 14,
      "outputs": [
        {
          "output_type": "execute_result",
          "data": {
            "text/plain": [
              "(44486, 22)"
            ]
          },
          "metadata": {},
          "execution_count": 14
        }
      ]
    },
    {
      "cell_type": "code",
      "source": [
        "x_vali_c.shape"
      ],
      "metadata": {
        "colab": {
          "base_uri": "https://localhost:8080/"
        },
        "id": "nHsEsXrqaxrU",
        "outputId": "9252a99b-d612-4591-c347-ee6103bfc48c"
      },
      "execution_count": 15,
      "outputs": [
        {
          "output_type": "execute_result",
          "data": {
            "text/plain": [
              "(6322, 22)"
            ]
          },
          "metadata": {},
          "execution_count": 15
        }
      ]
    },
    {
      "cell_type": "code",
      "source": [
        "X_scaler_train = MinMaxScaler()\n",
        "Y_scaler_train = MinMaxScaler()\n",
        "X_scaler_test = MinMaxScaler()\n",
        "Y_scaler_test = MinMaxScaler()\n",
        "X_scaler_vali = MinMaxScaler()\n",
        "Y_scaler_vali = MinMaxScaler()\n",
        "x_train_data = X_scaler_train.fit_transform(x_train_c)\n",
        "y_train_data = Y_scaler_train.fit_transform(y_train_c)\n",
        "x_vali_data = X_scaler_vali.fit_transform(x_vali_c)\n",
        "y_vali_data = Y_scaler_vali.fit_transform(y_vali_c)\n",
        "x_test_data = X_scaler_test.fit_transform(x_test_c)\n",
        "y_test_data = Y_scaler_test.fit_transform(y_test_c)"
      ],
      "metadata": {
        "id": "MjYfAZXoYPE7"
      },
      "execution_count": 16,
      "outputs": []
    },
    {
      "cell_type": "code",
      "source": [
        "x_train_data.shape"
      ],
      "metadata": {
        "colab": {
          "base_uri": "https://localhost:8080/"
        },
        "id": "G3k9VE_AYtbb",
        "outputId": "b5e90e8b-6502-4045-9536-9f75b6d71f96"
      },
      "execution_count": 17,
      "outputs": [
        {
          "output_type": "execute_result",
          "data": {
            "text/plain": [
              "(44486, 22)"
            ]
          },
          "metadata": {},
          "execution_count": 17
        }
      ]
    },
    {
      "cell_type": "code",
      "source": [
        "def transform_county_data(x_data_array, y_data_array):\n",
        "    # Lists to store x_train_c and y_train_c arrays\n",
        "    x_c_list = []\n",
        "    y_c_list = []\n",
        "    # Divide the arrays into 'unique_fips_count' number of subarrays\n",
        "    x_subarrays = np.array_split(x_data_array, unique_fips_count, axis=0)\n",
        "    y_subarrays = np.array_split(y_data_array, unique_fips_count, axis=0)\n",
        "\n",
        "    # Combine x_subarrays and y_subarrays into tuples\n",
        "    data_tuples = [(x_subarray, y_subarray) for x_subarray, y_subarray in zip(x_subarrays, y_subarrays)]\n",
        "\n",
        "    # Print or use the data tuples as needed\n",
        "    for idx, data_tuple in enumerate(data_tuples):\n",
        "        x_window_c, y_window_c = ts_multi_data_prep(data_tuple[0],data_tuple[1], 0, None, hist_window, step_out)\n",
        "        # Append x_window_c and y_window_c arrays to lists\n",
        "        x_c_list.append(x_window_c)\n",
        "        y_c_list.append(y_window_c)\n",
        "\n",
        "    # Stack arrays in lists to create x_train_c and y_train_c\n",
        "    x_all_county = np.vstack(x_c_list)\n",
        "    y_all_county = np.vstack(y_c_list)\n",
        "\n",
        "    return x_all_county, y_all_county"
      ],
      "metadata": {
        "id": "swPddKW7dyDg"
      },
      "execution_count": 18,
      "outputs": []
    },
    {
      "cell_type": "code",
      "source": [
        "x_train, y_train = transform_county_data(x_train_data, y_train_data)\n",
        "x_vali, y_vali = transform_county_data(x_vali_data, y_vali_data)\n",
        "x_test, y_test = transform_county_data(x_test_data, y_test_data)"
      ],
      "metadata": {
        "id": "NOygAYEWhEHl"
      },
      "execution_count": 19,
      "outputs": []
    },
    {
      "cell_type": "code",
      "metadata": {
        "id": "TboDAisnwNr4",
        "colab": {
          "base_uri": "https://localhost:8080/"
        },
        "outputId": "3277aeca-1c19-4e21-8482-b9e0d29bc003"
      },
      "source": [
        "print ('Multiple window of past history\\n')\n",
        "print(x_train[0])\n",
        "print ('\\n Target\\n')\n",
        "print (y_train[0])"
      ],
      "execution_count": 20,
      "outputs": [
        {
          "output_type": "stream",
          "name": "stdout",
          "text": [
            "Multiple window of past history\n",
            "\n",
            "[[5.29947117e-01 2.39715878e-01 2.92802021e-03 9.25820402e-01\n",
            "  2.91703421e-01 3.93943140e-01 5.81672307e-01 5.74511770e-01\n",
            "  3.60592630e-01 4.43743965e-01 3.41569163e-01 4.16622459e-01\n",
            "  1.76152575e-01 2.16563083e-01 1.30602590e-01 2.49950070e-01\n",
            "  2.20314920e-01 2.82671804e-01 1.43181818e-01 3.46506550e-01\n",
            "  1.21580000e-01 0.00000000e+00]\n",
            " [5.29947117e-01 2.39715878e-01 2.85802090e-02 9.19918596e-01\n",
            "  2.93541115e-01 4.06153001e-01 5.68814845e-01 5.62069488e-01\n",
            "  3.85812222e-01 4.46299767e-01 3.92053216e-01 4.21354682e-01\n",
            "  2.18351104e-01 2.93598508e-01 1.89077025e-01 3.03175554e-01\n",
            "  2.74006195e-01 3.01805130e-01 2.41711230e-01 2.49606987e-01\n",
            "  1.00720000e-01 0.00000000e+00]\n",
            " [5.29947117e-01 2.39715878e-01 1.04589224e-01 9.03841262e-01\n",
            "  3.81064393e-01 4.46916632e-01 6.60853074e-01 6.54908788e-01\n",
            "  3.91114563e-01 5.04884421e-01 2.81166479e-01 4.50917509e-01\n",
            "  1.99579516e-01 3.13486638e-01 1.20683931e-01 4.17415618e-01\n",
            "  2.65358802e-01 3.64192969e-01 1.63368984e-01 4.55021834e-01\n",
            "  0.00000000e+00 0.00000000e+00]\n",
            " [5.29947117e-01 2.39715878e-01 2.91094721e-01 8.97532434e-01\n",
            "  4.36538273e-01 4.54964977e-01 7.07969209e-01 7.02785557e-01\n",
            "  3.85062396e-01 5.27545862e-01 2.20526222e-01 4.63649297e-01\n",
            "  1.78705511e-01 2.55189559e-01 1.37450199e-01 3.03974436e-01\n",
            "  2.45224574e-01 2.77208910e-01 1.91711230e-01 2.74061135e-01\n",
            "  0.00000000e+00 0.00000000e+00]\n",
            " [5.29947117e-01 2.39715878e-01 3.11411596e-02 9.10455355e-01\n",
            "  3.43134372e-01 4.27496223e-01 6.29727418e-01 6.23268488e-01\n",
            "  3.91891168e-01 4.72823309e-01 3.50002970e-01 4.39198476e-01\n",
            "  1.63387896e-01 1.90428838e-01 1.42264276e-01 1.93728780e-01\n",
            "  2.11280330e-01 2.44484324e-01 1.81684492e-01 2.33013100e-01\n",
            "  0.00000000e+00 9.09090909e-02]\n",
            " [5.29947117e-01 2.39715878e-01 3.20972478e-02 9.05011447e-01\n",
            "  4.01450554e-01 4.60870760e-01 6.81380387e-01 6.75762622e-01\n",
            "  4.47779980e-01 5.03322542e-01 4.10168082e-01 4.61479106e-01\n",
            "  1.77504130e-01 2.61404599e-01 1.20683931e-01 3.33732774e-01\n",
            "  2.32318018e-01 3.10355748e-01 1.62299465e-01 3.67510917e-01\n",
            "  0.00000000e+00 9.09090909e-02]\n",
            " [5.29947117e-01 2.39715878e-01 3.23157823e-01 8.83439328e-01\n",
            "  4.24777026e-01 4.50789727e-01 6.97296493e-01 6.91961244e-01\n",
            "  3.66691661e-01 5.08064974e-01 2.20526222e-01 4.60683369e-01\n",
            "  3.53957051e-01 4.47731510e-01 2.26095618e-01 5.06690633e-01\n",
            "  4.42178627e-01 4.98047081e-01 3.10828877e-01 4.84017467e-01\n",
            "  0.00000000e+00 9.09090909e-02]\n",
            " [5.29947117e-01 2.39715878e-01 1.56457010e-01 8.87102518e-01\n",
            "  3.57835931e-01 4.34061255e-01 6.42333866e-01 6.36060858e-01\n",
            "  3.83375288e-01 4.85545522e-01 3.04448536e-01 4.45347351e-01\n",
            "  2.68208440e-01 3.22933499e-01 2.13147410e-01 3.21749551e-01\n",
            "  3.40733092e-01 3.71476829e-01 2.82486631e-01 3.11266376e-01\n",
            "  0.00000000e+00 9.09090909e-02]\n",
            " [5.29947117e-01 2.39715878e-01 1.23950010e-01 8.95548207e-01\n",
            "  3.50191120e-01 4.15519846e-01 6.36012049e-01 6.29740368e-01\n",
            "  3.49284987e-01 4.69245187e-01 2.63051613e-01 4.37004172e-01\n",
            "  2.87130200e-01 3.14605345e-01 2.46347942e-01 2.68024765e-01\n",
            "  3.69385648e-01 4.00084451e-01 3.57620321e-01 2.60786026e-01\n",
            "  0.00000000e+00 9.09090909e-02]\n",
            " [5.29947117e-01 2.39715878e-01 9.47551731e-02 8.79877894e-01\n",
            "  3.46858767e-01 4.14888065e-01 6.32813953e-01 6.26296268e-01\n",
            "  3.62969311e-01 4.61208610e-01 3.10209657e-01 4.40066553e-01\n",
            "  2.02582970e-01 2.29086389e-01 1.79614874e-01 2.11304174e-01\n",
            "  2.58389262e-01 2.91248812e-01 2.06550802e-01 2.77903930e-01\n",
            "  0.00000000e+00 1.81818182e-01]\n",
            " [5.29947117e-01 2.39715878e-01 3.16192037e-02 9.10964131e-01\n",
            "  3.90277369e-01 4.48372476e-01 6.72232345e-01 6.66452199e-01\n",
            "  4.18135076e-01 4.85005964e-01 3.82847301e-01 4.63480504e-01\n",
            "  1.96576062e-01 2.45494096e-01 1.85590969e-01 2.30277611e-01\n",
            "  2.59808983e-01 2.87342975e-01 2.11898396e-01 2.64628821e-01\n",
            "  0.00000000e+00 1.81818182e-01]\n",
            " [5.29947117e-01 2.39715878e-01 6.82920167e-04 9.02213177e-01\n",
            "  3.48916985e-01 4.67435792e-01 6.33037076e-01 6.26674741e-01\n",
            "  4.68052059e-01 4.67484523e-01 5.30082556e-01 4.78478937e-01\n",
            "  3.52755669e-01 4.12802983e-01 2.93160691e-01 3.69482724e-01\n",
            "  4.63861642e-01 4.42943101e-01 4.12165775e-01 2.60436681e-01\n",
            "  0.00000000e+00 1.81818182e-01]\n",
            " [5.29947117e-01 2.39715878e-01 1.36584033e-04 8.96413126e-01\n",
            "  3.53621484e-01 4.47795632e-01 6.41329813e-01 6.35038983e-01\n",
            "  4.39478335e-01 4.66263418e-01 4.69264121e-01 4.74717272e-01\n",
            "  2.52139961e-01 2.71597265e-01 2.47177955e-01 1.98522069e-01\n",
            "  3.08595767e-01 3.03599704e-01 2.68315508e-01 2.17467249e-01\n",
            "  0.00000000e+00 1.81818182e-01]\n",
            " [5.29947117e-01 2.39715878e-01 0.00000000e+00 9.00839481e-01\n",
            "  4.07331177e-01 5.12017580e-01 6.82310067e-01 6.76784498e-01\n",
            "  5.32778105e-01 4.99602431e-01 6.06580745e-01 5.21786309e-01\n",
            "  2.49286680e-01 2.88750777e-01 2.35391766e-01 2.39664470e-01\n",
            "  3.33376355e-01 3.62609522e-01 2.69919786e-01 3.13013100e-01\n",
            "  0.00000000e+00 2.72727273e-01]\n",
            " [5.29947117e-01 2.39715878e-01 8.19504200e-04 9.00585093e-01\n",
            "  4.17818289e-01 4.95261640e-01 6.94135584e-01 6.88782076e-01\n",
            "  5.11809758e-01 5.08093372e-01 5.42317515e-01 5.22871404e-01\n",
            "  2.66106022e-01 3.03915475e-01 2.45019920e-01 2.52646295e-01\n",
            "  3.02787816e-01 3.20384250e-01 2.64973262e-01 2.49781659e-01\n",
            "  0.00000000e+00 2.72727273e-01]\n",
            " [5.29947117e-01 2.39715878e-01 1.05886772e-01 8.84151615e-01\n",
            "  4.20954621e-01 4.98173328e-01 6.93986836e-01 6.88592839e-01\n",
            "  4.53269777e-01 5.47935480e-01 3.29274811e-01 5.17807625e-01\n",
            "  2.49436852e-01 3.47669360e-01 1.61022576e-01 4.23806671e-01\n",
            "  3.06917914e-01 3.62081706e-01 2.16978610e-01 3.81135371e-01\n",
            "  0.00000000e+00 2.72727273e-01]\n",
            " [5.29947117e-01 2.39715878e-01 1.57071638e-03 9.02365810e-01\n",
            "  3.92335588e-01 5.00343359e-01 6.72864527e-01 6.67171297e-01\n",
            "  4.97670184e-01 4.98892486e-01 5.30141949e-01 5.24221745e-01\n",
            "  3.02447815e-01 3.34120572e-01 2.47841965e-01 2.97183942e-01\n",
            "  3.51961797e-01 3.53742215e-01 3.29010695e-01 2.21659389e-01\n",
            "  0.00000000e+00 2.72727273e-01]\n",
            " [5.29947117e-01 2.39715878e-01 1.36584033e-04 8.98651743e-01\n",
            "  3.94491816e-01 5.16961956e-01 6.72157971e-01 6.66490046e-01\n",
            "  5.35107921e-01 5.07213040e-01 5.95771218e-01 5.40859878e-01\n",
            "  3.35185463e-01 3.77625855e-01 2.98306773e-01 3.06770521e-01\n",
            "  3.90165204e-01 3.80555262e-01 3.56016043e-01 2.30218341e-01\n",
            "  0.00000000e+00 3.63636364e-01]\n",
            " [5.29947117e-01 2.39715878e-01 4.78044117e-02 8.90918341e-01\n",
            "  4.44281094e-01 5.17264112e-01 7.11762300e-01 7.06797366e-01\n",
            "  5.01579990e-01 5.39245755e-01 4.54297084e-01 5.43247088e-01\n",
            "  3.41642889e-01 3.93412057e-01 2.87018592e-01 3.45915718e-01\n",
            "  3.76742385e-01 3.52264330e-01 3.48529412e-01 1.93711790e-01\n",
            "  0.00000000e+00 3.63636364e-01]\n",
            " [5.29947117e-01 2.39715878e-01 3.89264495e-02 8.93513101e-01\n",
            "  3.65774772e-01 4.88449389e-01 6.46907887e-01 6.40905306e-01\n",
            "  4.65481228e-01 5.05168399e-01 4.45566312e-01 5.16336717e-01\n",
            "  3.26325274e-01 4.06090740e-01 2.70086321e-01 3.86458957e-01\n",
            "  3.83970057e-01 3.83933284e-01 3.59625668e-01 2.31441048e-01\n",
            "  0.00000000e+00 3.63636364e-01]\n",
            " [5.29947117e-01 2.39715878e-01 1.70730042e-04 8.88069194e-01\n",
            "  5.40331275e-01 6.54910040e-01 7.77769514e-01 7.73900537e-01\n",
            "  7.00310642e-01 6.22082126e-01 7.21743779e-01 6.60630320e-01\n",
            "  2.20303349e-01 2.64512119e-01 1.79614874e-01 2.67825045e-01\n",
            "  2.50774393e-01 2.84176079e-01 2.01069519e-01 2.73537118e-01\n",
            "  0.00000000e+00 3.63636364e-01]\n",
            " [5.29947117e-01 2.39715878e-01 3.41460083e-05 8.80946324e-01\n",
            "  4.53102029e-01 5.84590029e-01 7.14997583e-01 7.10090076e-01\n",
            "  6.13518290e-01 5.75339354e-01 6.27130724e-01 6.13947096e-01\n",
            "  4.25138910e-01 4.56929770e-01 3.97244356e-01 3.15558218e-01\n",
            "  4.24496644e-01 4.14968859e-01 4.23395722e-01 1.99126638e-01\n",
            "  0.00000000e+00 3.63636364e-01]\n",
            " [5.29947117e-01 2.39715878e-01 6.82920167e-05 8.90663953e-01\n",
            "  3.88905224e-01 5.77750309e-01 6.66356774e-01 6.60812959e-01\n",
            "  6.21766376e-01 5.48645425e-01 7.01193799e-01 6.09076222e-01\n",
            "  3.56660159e-01 4.21131137e-01 3.05444887e-01 3.67884961e-01\n",
            "  3.74032008e-01 3.62503959e-01 3.47058824e-01 2.12227074e-01\n",
            "  0.00000000e+00 4.54545455e-01]\n",
            " [5.29947117e-01 2.39715878e-01 1.90193266e-02 8.87509540e-01\n",
            "  4.55748309e-01 5.97527812e-01 7.18865048e-01 7.14026190e-01\n",
            "  6.17133523e-01 5.79144658e-01 6.27308903e-01 6.23761183e-01\n",
            "  4.08920258e-01 4.57054071e-01 3.80644090e-01 3.35729978e-01\n",
            "  4.28884874e-01 4.10746332e-01 4.13368984e-01 2.05240175e-01\n",
            "  0.00000000e+00 4.54545455e-01]\n",
            " [5.29947117e-01 2.39715878e-01 3.41460083e-05 8.69346222e-01\n",
            "  5.03087327e-01 6.95289109e-01 7.52593805e-01 7.48277950e-01\n",
            "  7.66563119e-01 6.41108650e-01 8.29066936e-01 7.16163102e-01\n",
            "  3.05000751e-01 3.55251709e-01 2.23273572e-01 3.60894747e-01\n",
            "  2.90526588e-01 3.39702312e-01 2.14304813e-01 3.47772926e-01\n",
            "  0.00000000e+00 4.54545455e-01]\n",
            " [5.29947117e-01 2.39715878e-01 6.82920167e-05 8.80997202e-01\n",
            "  4.65451338e-01 6.58151353e-01 7.27046224e-01 7.22276890e-01\n",
            "  7.25938621e-01 6.11631737e-01 8.00617687e-01 6.87564804e-01\n",
            "  3.58912750e-01 4.07085146e-01 3.29349270e-01 3.17355702e-01\n",
            "  3.30665978e-01 3.28301488e-01 3.10160428e-01 2.03318777e-01\n",
            "  0.00000000e+00 4.54545455e-01]\n",
            " [5.29947117e-01 2.39715878e-01 1.02438025e-04 8.82930552e-01\n",
            "  4.34382044e-01 5.99011125e-01 7.04362054e-01 6.99303611e-01\n",
            "  6.31514113e-01 5.97404441e-01 6.20953852e-01 6.38687275e-01\n",
            "  4.22285628e-01 4.66128030e-01 3.79814077e-01 3.51308169e-01\n",
            "  3.93391843e-01 3.84777790e-01 3.58957219e-01 2.33711790e-01\n",
            "  0.00000000e+00 5.45454545e-01]\n",
            " [5.29947117e-01 2.39715878e-01 1.02438025e-04 8.85423556e-01\n",
            "  4.29481525e-01 6.02719407e-01 7.01163958e-01 6.96010900e-01\n",
            "  6.34861550e-01 5.83177145e-01 6.58133872e-01 6.40085843e-01\n",
            "  3.86544526e-01 4.22249845e-01 3.51593625e-01 3.14359896e-01\n",
            "  3.71063500e-01 3.50364193e-01 3.71390374e-01 1.60174672e-01\n",
            "  0.00000000e+00 5.45454545e-01]\n",
            " [5.29947117e-01 2.39715878e-01 2.04876050e-04 8.97685067e-01\n",
            "  4.50651769e-01 6.15327565e-01 7.17266000e-01 7.12512300e-01\n",
            "  6.57490225e-01 5.97546430e-01 6.78208707e-01 6.53516915e-01\n",
            "  3.77834510e-01 4.17899316e-01 3.46945551e-01 3.13760735e-01\n",
            "  3.57124419e-01 3.46458355e-01 3.55080214e-01 1.75371179e-01\n",
            "  0.00000000e+00 5.45454545e-01]\n",
            " [5.29947117e-01 2.39715878e-01 3.41460083e-04 8.87255151e-01\n",
            "  4.20268548e-01 6.48866914e-01 6.89524376e-01 6.84353947e-01\n",
            "  7.24412190e-01 5.93229965e-01 8.35659559e-01 6.80692532e-01\n",
            "  3.51253942e-01 3.86948415e-01 3.19223108e-01 2.96984222e-01\n",
            "  3.31440372e-01 3.18589676e-01 2.79411765e-01 2.27947598e-01\n",
            "  0.00000000e+00 5.45454545e-01]]\n",
            "\n",
            " Target\n",
            "\n",
            "[[0.]\n",
            " [0.]\n",
            " [0.]\n",
            " [0.]\n",
            " [0.]\n",
            " [0.]\n",
            " [0.]\n",
            " [0.]\n",
            " [0.]\n",
            " [0.]\n",
            " [0.]\n",
            " [0.]]\n"
          ]
        }
      ]
    },
    {
      "cell_type": "code",
      "metadata": {
        "id": "U5XscHpjLC9n"
      },
      "source": [
        "batch_size = 128\n",
        "buffer_size = 256\n",
        "\n",
        "train_data = tf.data.Dataset.from_tensor_slices((x_train, y_train))\n",
        "train_data = train_data.cache().shuffle(buffer_size).batch(batch_size).repeat()\n",
        "\n",
        "val_data = tf.data.Dataset.from_tensor_slices((x_vali, y_vali))\n",
        "val_data = val_data.batch(batch_size).repeat()"
      ],
      "execution_count": 21,
      "outputs": []
    },
    {
      "cell_type": "code",
      "source": [],
      "metadata": {
        "id": "i-cWA8JVdbQw"
      },
      "execution_count": 21,
      "outputs": []
    },
    {
      "cell_type": "code",
      "metadata": {
        "id": "bo4cY_RoLc5V"
      },
      "source": [
        "# lstm_model = tf.keras.models.Sequential([\n",
        "#  tf.keras.layers.Bidirectional(tf.keras.layers.LSTM(100, return_sequences=True),\n",
        "#                               input_shape=x_train.shape[-2:]),\n",
        "#    tf.keras.layers.Dense(20, activation='tanh'),\n",
        "#    tf.keras.layers.Bidirectional(tf.keras.layers.LSTM(50)),\n",
        "#    tf.keras.layers.Dense(20, activation='tanh'),\n",
        "#    tf.keras.layers.Dense(20, activation='softmax'),\n",
        "#    tf.keras.layers.Dropout(0.2),\n",
        "#    tf.keras.layers.Dense(units=step_out),\n",
        "# ])\n",
        "# lstm_model.compile(optimizer='adam', loss='mse')\n"
      ],
      "execution_count": 22,
      "outputs": []
    },
    {
      "cell_type": "code",
      "metadata": {
        "id": "-ecmAOaoNJlh"
      },
      "source": [
        "lstm_model = tf.keras.models.Sequential()\n",
        "lstm_model.add(tf.keras.layers.LSTM(150,input_shape=x_train.shape[-2:],return_sequences=True))\n",
        "lstm_model.add(tf.keras.layers.Dropout(0.1)),\n",
        "lstm_model.add(tf.keras.layers.LSTM(units=75,return_sequences=False)),\n",
        "lstm_model.add(tf.keras.layers.Dropout(0.1)),\n",
        "lstm_model.add(tf.keras.layers.Dense(units=step_out)),\n",
        "lstm_model.compile(optimizer='adam', loss='mae')"
      ],
      "execution_count": 23,
      "outputs": []
    },
    {
      "cell_type": "code",
      "metadata": {
        "id": "GcDef1iHR5OA",
        "colab": {
          "base_uri": "https://localhost:8080/"
        },
        "outputId": "9c0d053b-a5ad-422f-a301-90294131a27c"
      },
      "source": [
        "lstm_model.summary()"
      ],
      "execution_count": 24,
      "outputs": [
        {
          "output_type": "stream",
          "name": "stdout",
          "text": [
            "Model: \"sequential\"\n",
            "_________________________________________________________________\n",
            " Layer (type)                Output Shape              Param #   \n",
            "=================================================================\n",
            " lstm (LSTM)                 (None, 30, 150)           103800    \n",
            "                                                                 \n",
            " dropout (Dropout)           (None, 30, 150)           0         \n",
            "                                                                 \n",
            " lstm_1 (LSTM)               (None, 75)                67800     \n",
            "                                                                 \n",
            " dropout_1 (Dropout)         (None, 75)                0         \n",
            "                                                                 \n",
            " dense (Dense)               (None, 12)                912       \n",
            "                                                                 \n",
            "=================================================================\n",
            "Total params: 172512 (673.88 KB)\n",
            "Trainable params: 172512 (673.88 KB)\n",
            "Non-trainable params: 0 (0.00 Byte)\n",
            "_________________________________________________________________\n"
          ]
        }
      ]
    },
    {
      "cell_type": "code",
      "metadata": {
        "id": "FL_28s1QNzEP"
      },
      "source": [
        "model_path = '/content/drive/My Drive/time_series/LSTM_Multivariate.h5'\n",
        "early_stopings = tf.keras.callbacks.EarlyStopping(monitor='val_loss', min_delta=0, patience=10, verbose=1, mode='min')\n",
        "checkpoint =  tf.keras.callbacks.ModelCheckpoint(model_path, monitor='val_loss', save_best_only=True, mode='min', verbose=0)\n",
        "callbacks=[early_stopings,checkpoint]"
      ],
      "execution_count": 25,
      "outputs": []
    },
    {
      "cell_type": "code",
      "metadata": {
        "id": "sn5ZE9aUNRuU"
      },
      "source": [],
      "execution_count": 25,
      "outputs": []
    },
    {
      "cell_type": "code",
      "metadata": {
        "id": "daUW6l6wO0RA",
        "colab": {
          "base_uri": "https://localhost:8080/"
        },
        "outputId": "b45aab92-17a6-4b0e-8f78-a50009fda2c3"
      },
      "source": [
        "history = lstm_model.fit(train_data,epochs=150,steps_per_epoch=50,validation_data=val_data,validation_steps=150,verbose=1,callbacks=callbacks)"
      ],
      "execution_count": 26,
      "outputs": [
        {
          "output_type": "stream",
          "name": "stdout",
          "text": [
            "Epoch 1/150\n",
            "48/50 [===========================>..] - ETA: 0s - loss: 0.1470"
          ]
        },
        {
          "output_type": "stream",
          "name": "stderr",
          "text": [
            "/usr/local/lib/python3.10/dist-packages/keras/src/engine/training.py:3103: UserWarning: You are saving your model as an HDF5 file via `model.save()`. This file format is considered legacy. We recommend using instead the native Keras format, e.g. `model.save('my_model.keras')`.\n",
            "  saving_api.save_model(\n"
          ]
        },
        {
          "output_type": "stream",
          "name": "stdout",
          "text": [
            "\b\b\b\b\b\b\b\b\b\b\b\b\b\b\b\b\b\b\b\b\b\b\b\b\b\b\b\b\b\b\b\b\b\b\b\b\b\b\b\b\b\b\b\b\b\b\b\b\b\b\b\b\b\b\b\b\b\b\b\b\b\b\b\r50/50 [==============================] - 8s 51ms/step - loss: 0.1458 - val_loss: 0.1338\n",
            "Epoch 2/150\n",
            "50/50 [==============================] - 1s 18ms/step - loss: 0.1028 - val_loss: 0.1034\n",
            "Epoch 3/150\n",
            "50/50 [==============================] - 1s 20ms/step - loss: 0.0934 - val_loss: 0.0782\n",
            "Epoch 4/150\n",
            "50/50 [==============================] - 1s 23ms/step - loss: 0.0904 - val_loss: 0.0906\n",
            "Epoch 5/150\n",
            "50/50 [==============================] - 2s 36ms/step - loss: 0.0814 - val_loss: 0.0695\n",
            "Epoch 6/150\n",
            "50/50 [==============================] - 1s 18ms/step - loss: 0.0796 - val_loss: 0.0776\n",
            "Epoch 7/150\n",
            "50/50 [==============================] - 1s 17ms/step - loss: 0.0813 - val_loss: 0.0781\n",
            "Epoch 8/150\n",
            "50/50 [==============================] - 1s 16ms/step - loss: 0.0742 - val_loss: 0.0705\n",
            "Epoch 9/150\n",
            "50/50 [==============================] - 1s 21ms/step - loss: 0.0735 - val_loss: 0.0639\n",
            "Epoch 10/150\n",
            "50/50 [==============================] - 1s 23ms/step - loss: 0.0773 - val_loss: 0.0865\n",
            "Epoch 11/150\n",
            "50/50 [==============================] - 1s 24ms/step - loss: 0.0722 - val_loss: 0.0624\n",
            "Epoch 12/150\n",
            "50/50 [==============================] - 1s 17ms/step - loss: 0.0705 - val_loss: 0.0712\n",
            "Epoch 13/150\n",
            "50/50 [==============================] - 1s 17ms/step - loss: 0.0705 - val_loss: 0.0631\n",
            "Epoch 14/150\n",
            "50/50 [==============================] - 1s 17ms/step - loss: 0.0722 - val_loss: 0.0722\n",
            "Epoch 15/150\n",
            "50/50 [==============================] - 1s 17ms/step - loss: 0.0668 - val_loss: 0.0579\n",
            "Epoch 16/150\n",
            "50/50 [==============================] - 1s 21ms/step - loss: 0.0718 - val_loss: 0.0645\n",
            "Epoch 17/150\n",
            "50/50 [==============================] - 1s 22ms/step - loss: 0.0706 - val_loss: 0.0582\n",
            "Epoch 18/150\n",
            "50/50 [==============================] - 1s 22ms/step - loss: 0.0658 - val_loss: 0.0590\n",
            "Epoch 19/150\n",
            "50/50 [==============================] - 1s 17ms/step - loss: 0.0671 - val_loss: 0.0637\n",
            "Epoch 20/150\n",
            "50/50 [==============================] - 1s 16ms/step - loss: 0.0690 - val_loss: 0.0753\n",
            "Epoch 21/150\n",
            "50/50 [==============================] - 1s 16ms/step - loss: 0.0650 - val_loss: 0.0651\n",
            "Epoch 22/150\n",
            "50/50 [==============================] - 1s 18ms/step - loss: 0.0656 - val_loss: 0.0574\n",
            "Epoch 23/150\n",
            "50/50 [==============================] - 1s 18ms/step - loss: 0.0665 - val_loss: 0.0558\n",
            "Epoch 24/150\n",
            "50/50 [==============================] - 1s 17ms/step - loss: 0.0668 - val_loss: 0.0678\n",
            "Epoch 25/150\n",
            "50/50 [==============================] - 1s 17ms/step - loss: 0.0654 - val_loss: 0.0554\n",
            "Epoch 26/150\n",
            "50/50 [==============================] - 1s 16ms/step - loss: 0.0624 - val_loss: 0.0554\n",
            "Epoch 27/150\n",
            "50/50 [==============================] - 1s 16ms/step - loss: 0.0665 - val_loss: 0.0721\n",
            "Epoch 28/150\n",
            "50/50 [==============================] - 1s 17ms/step - loss: 0.0625 - val_loss: 0.0557\n",
            "Epoch 29/150\n",
            "50/50 [==============================] - 1s 18ms/step - loss: 0.0636 - val_loss: 0.0482\n",
            "Epoch 30/150\n",
            "50/50 [==============================] - 1s 19ms/step - loss: 0.0690 - val_loss: 0.0675\n",
            "Epoch 31/150\n",
            "50/50 [==============================] - 1s 21ms/step - loss: 0.0605 - val_loss: 0.0507\n",
            "Epoch 32/150\n",
            "50/50 [==============================] - 2s 35ms/step - loss: 0.0625 - val_loss: 0.0514\n",
            "Epoch 33/150\n",
            "50/50 [==============================] - 1s 22ms/step - loss: 0.0645 - val_loss: 0.0661\n",
            "Epoch 34/150\n",
            "50/50 [==============================] - 2s 34ms/step - loss: 0.0622 - val_loss: 0.0594\n",
            "Epoch 35/150\n",
            "50/50 [==============================] - 1s 25ms/step - loss: 0.0628 - val_loss: 0.0463\n",
            "Epoch 36/150\n",
            "50/50 [==============================] - 1s 17ms/step - loss: 0.0635 - val_loss: 0.0513\n",
            "Epoch 37/150\n",
            "50/50 [==============================] - 1s 17ms/step - loss: 0.0656 - val_loss: 0.0569\n",
            "Epoch 38/150\n",
            "50/50 [==============================] - 1s 17ms/step - loss: 0.0596 - val_loss: 0.0515\n",
            "Epoch 39/150\n",
            "50/50 [==============================] - 1s 17ms/step - loss: 0.0600 - val_loss: 0.0831\n",
            "Epoch 40/150\n",
            "50/50 [==============================] - 1s 20ms/step - loss: 0.0632 - val_loss: 0.0568\n",
            "Epoch 41/150\n",
            "50/50 [==============================] - 1s 17ms/step - loss: 0.0591 - val_loss: 0.0756\n",
            "Epoch 42/150\n",
            "50/50 [==============================] - 1s 20ms/step - loss: 0.0612 - val_loss: 0.0495\n",
            "Epoch 43/150\n",
            "50/50 [==============================] - 1s 22ms/step - loss: 0.0658 - val_loss: 0.0707\n",
            "Epoch 44/150\n",
            "50/50 [==============================] - 1s 22ms/step - loss: 0.0592 - val_loss: 0.0576\n",
            "Epoch 45/150\n",
            "50/50 [==============================] - 1s 18ms/step - loss: 0.0598 - val_loss: 0.0608\n",
            "Epoch 45: early stopping\n"
          ]
        }
      ]
    },
    {
      "cell_type": "code",
      "metadata": {
        "id": "E0UxNEpMU-qP",
        "colab": {
          "base_uri": "https://localhost:8080/",
          "height": 795
        },
        "outputId": "1635156e-7c84-45e2-af93-f196d0f14401"
      },
      "source": [
        "plt.figure(figsize=(16,9))\n",
        "plt.plot(history.history['loss'])\n",
        "plt.plot(history.history['val_loss'])\n",
        "plt.title('Model loss')\n",
        "plt.ylabel('loss')\n",
        "plt.xlabel('epoch')\n",
        "plt.legend(['train loss', 'validation loss'])\n",
        "plt.show()"
      ],
      "execution_count": 27,
      "outputs": [
        {
          "output_type": "display_data",
          "data": {
            "text/plain": [
              "<Figure size 1600x900 with 1 Axes>"
            ],
            "image/png": "[encoded data removed]"
          },
          "metadata": {}
        }
      ]
    },
    {
      "cell_type": "code",
      "source": [
        "y_test_pred = lstm_model.predict(x_test)\n",
        "y_test_pred_Inverse = Y_scaler_test.inverse_transform(y_test_pred)"
      ],
      "metadata": {
        "id": "dieOS1gtACZl",
        "colab": {
          "base_uri": "https://localhost:8080/"
        },
        "outputId": "b626eab5-2f07-425a-e9c3-10cba2ecce49"
      },
      "execution_count": 28,
      "outputs": [
        {
          "output_type": "stream",
          "name": "stdout",
          "text": [
            "323/323 [==============================] - 2s 3ms/step\n"
          ]
        }
      ]
    },
    {
      "cell_type": "code",
      "source": [
        "y_test_pred_Inverse_ordinal = np.round(y_test_pred_Inverse).astype(int)"
      ],
      "metadata": {
        "id": "PXnu6p6yBunb"
      },
      "execution_count": 29,
      "outputs": []
    },
    {
      "cell_type": "code",
      "source": [
        "y_test_reshaped = np.squeeze(y_test, axis=-1)"
      ],
      "metadata": {
        "id": "9YOMP6wqDtx7"
      },
      "execution_count": 30,
      "outputs": []
    },
    {
      "cell_type": "code",
      "source": [
        "y_test_Inverse = Y_scaler_test.inverse_transform(y_test_reshaped)\n",
        "y_test_Inverse_ordinal = np.round(y_test_Inverse).astype(int)"
      ],
      "metadata": {
        "id": "bnW2ulBKBaPs"
      },
      "execution_count": 31,
      "outputs": []
    },
    {
      "cell_type": "code",
      "source": [
        "threshold = 2.5\n",
        "y_test_Inverse_binary = np.where(y_test_Inverse >= threshold, 1, 0)\n",
        "y_test_pred_Inverse_binary = np.where(y_test_pred_Inverse >= threshold, 1, 0)"
      ],
      "metadata": {
        "id": "TPW2R-gu7kcl"
      },
      "execution_count": 32,
      "outputs": []
    },
    {
      "cell_type": "code",
      "source": [
        "timeseries_evaluation_metrics_func(y_test_Inverse,y_test_pred_Inverse)"
      ],
      "metadata": {
        "colab": {
          "base_uri": "https://localhost:8080/"
        },
        "id": "NG4-pVPVAgLy",
        "outputId": "82a90317-9f16-4769-cc21-60c78ae951c0"
      },
      "execution_count": 33,
      "outputs": [
        {
          "output_type": "stream",
          "name": "stdout",
          "text": [
            "Evaluation metric results:-\n",
            "MSE is : 0.3218095016341057\n",
            "MAE is : 0.334138356320219\n",
            "RMSE is : 0.5672825589017396\n",
            "R2 is : 0.70174887983605\n",
            "\n"
          ]
        }
      ]
    },
    {
      "cell_type": "code",
      "source": [
        "timeseries_evaluation_metrics_binary(y_test_Inverse_binary,y_test_pred_Inverse_binary)"
      ],
      "metadata": {
        "colab": {
          "base_uri": "https://localhost:8080/"
        },
        "id": "1aWAH6oE7N1t",
        "outputId": "4aae2732-7b18-41bd-a244-f5dfd5bafc1a"
      },
      "execution_count": 34,
      "outputs": [
        {
          "output_type": "stream",
          "name": "stdout",
          "text": [
            "Evaluation metric results:-\n",
            "Accuracy: 0.9643791166214646\n",
            "Precision: 0.9317504649916124\n",
            "Recall: 0.8719764657647288\n",
            "F1-score: 0.8989643559625953\n",
            "\n"
          ]
        }
      ]
    },
    {
      "cell_type": "code",
      "metadata": {
        "id": "S7s-ib2GWuJ8",
        "colab": {
          "base_uri": "https://localhost:8080/"
        },
        "outputId": "5f7e87d0-4af5-4a0c-fed1-26e742798da8"
      },
      "source": [
        "# Compute classification report\n",
        "classification_metrics = classification_report(y_test_Inverse_binary.flatten(),y_test_pred_Inverse_binary.flatten())\n",
        "#classification_metrics = classification_report(y_test_Inverse_ordinal.flatten(),y_test_pred_Inverse_ordinal.flatten())\n",
        "# Print classification report\n",
        "print(classification_metrics)"
      ],
      "execution_count": 35,
      "outputs": [
        {
          "output_type": "stream",
          "name": "stdout",
          "text": [
            "              precision    recall  f1-score   support\n",
            "\n",
            "           0       0.97      0.99      0.98    110778\n",
            "           1       0.89      0.75      0.82     13110\n",
            "\n",
            "    accuracy                           0.96    123888\n",
            "   macro avg       0.93      0.87      0.90    123888\n",
            "weighted avg       0.96      0.96      0.96    123888\n",
            "\n"
          ]
        }
      ]
    },
    {
      "cell_type": "code",
      "source": [
        "from sklearn.metrics import confusion_matrix\n",
        "\n",
        "# Compute confusion matrix\n",
        "conf_matrix = confusion_matrix(y_test_Inverse_binary.flatten(), y_test_pred_Inverse_binary.flatten())\n",
        "\n",
        "# Print confusion matrix\n",
        "print(\"Confusion Matrix:\")\n",
        "print(conf_matrix)\n",
        "# Plot confusion matrix\n",
        "plt.figure(figsize=(8, 6))\n",
        "sns.heatmap(conf_matrix, annot=True, fmt=\"d\", cmap=\"Blues\", cbar=False,\n",
        "            xticklabels=[\"Negative\", \"Positive\"], yticklabels=[\"Negative\", \"Positive\"])\n",
        "plt.title(\"Confusion Matrix\")\n",
        "plt.xlabel(\"Predicted Class\")\n",
        "plt.ylabel(\"Actual Class\")\n",
        "plt.show()"
      ],
      "metadata": {
        "colab": {
          "base_uri": "https://localhost:8080/",
          "height": 616
        },
        "id": "BnlfF80GHaeh",
        "outputId": "49f0f037-fb0e-4e24-8763-54dec2b80805"
      },
      "execution_count": 36,
      "outputs": [
        {
          "output_type": "stream",
          "name": "stdout",
          "text": [
            "Confusion Matrix:\n",
            "[[109580   1198]\n",
            " [  3215   9895]]\n"
          ]
        },
        {
          "output_type": "display_data",
          "data": {
            "text/plain": [
              "<Figure size 800x600 with 1 Axes>"
            ],
            "image/png": "[encoded data removed]"
          },
          "metadata": {}
        }
      ]
    },
    {
      "cell_type": "code",
      "source": [
        "plt.hist(y_test_Inverse)\n",
        "plt.title('Distribution of Actual Test Drought Scores')"
      ],
      "metadata": {
        "colab": {
          "base_uri": "https://localhost:8080/",
          "height": 469
        },
        "id": "hzTz8oQhPl8Y",
        "outputId": "8792d0a2-bc8e-4d56-b8a4-918783a023e3"
      },
      "execution_count": 37,
      "outputs": [
        {
          "output_type": "execute_result",
          "data": {
            "text/plain": [
              "Text(0.5, 1.0, 'Distribution of Actual Test Drought Scores')"
            ]
          },
          "metadata": {},
          "execution_count": 37
        },
        {
          "output_type": "display_data",
          "data": {
            "text/plain": [
              "<Figure size 640x480 with 1 Axes>"
            ],
            "image/png": "[encoded data removed]"
          },
          "metadata": {}
        }
      ]
    },
    {
      "cell_type": "code",
      "source": [
        "plt.hist(y_test_pred_Inverse)\n",
        "plt.title('Distribution of Predicted Test Drought Scores')"
      ],
      "metadata": {
        "colab": {
          "base_uri": "https://localhost:8080/",
          "height": 469
        },
        "id": "RAnrsPYkPx9D",
        "outputId": "1e6976cd-4c81-4b15-9f88-32ba5b33c031"
      },
      "execution_count": 38,
      "outputs": [
        {
          "output_type": "execute_result",
          "data": {
            "text/plain": [
              "Text(0.5, 1.0, 'Distribution of Predicted Test Drought Scores')"
            ]
          },
          "metadata": {},
          "execution_count": 38
        },
        {
          "output_type": "display_data",
          "data": {
            "text/plain": [
              "<Figure size 640x480 with 1 Axes>"
            ],
            "image/png": "[encoded data removed]"
          },
          "metadata": {}
        }
      ]
    }
  ]
}