{
 "cells": [
  {
   "cell_type": "markdown",
   "metadata": {
    "colab_type": "text",
    "id": "view-in-github"
   },
   "source": [
    "<a href=\"https://colab.research.google.com/github/davidsherman96/mids_capstone_spring24_chang_li_sherman/blob/main/MONTH_multiple_county_CA_drought_random_forest_multivariate.ipynb\" target=\"_parent\"><img src=\"https://colab.research.google.com/assets/colab-badge.svg\" alt=\"Open In Colab\"/></a>"
   ]
  },
  {
   "cell_type": "code",
   "execution_count": 3,
   "metadata": {
    "id": "oeCE85RZaBN0"
   },
   "outputs": [],
   "source": [
    "import pandas as pd\n",
    "import numpy as np\n",
    "import matplotlib.pyplot as plt\n",
    "import seaborn as sns\n",
    "import plotly.express as px\n",
    "import datetime\n",
    "from sklearn import metrics\n",
    "from sklearn.metrics import accuracy_score, precision_score, recall_score, f1_score\n",
    "from sklearn.metrics import classification_report\n",
    "from sklearn.metrics import confusion_matrix\n",
    "from sklearn.preprocessing import LabelEncoder,MinMaxScaler, StandardScaler\n",
    "import tensorflow as tf\n",
    "from xgboost import XGBRegressor\n",
    "from sklearn.ensemble import RandomForestRegressor"
   ]
  },
  {
   "cell_type": "code",
   "execution_count": 4,
   "metadata": {
    "id": "4dmgFLz8_ySQ"
   },
   "outputs": [],
   "source": [
    "# Set random seed for TensorFlow\n",
    "tf.random.set_seed(123)\n",
    "\n",
    "# Set random seed for Python\n",
    "np.random.seed(123)"
   ]
  },
  {
   "cell_type": "code",
   "execution_count": 5,
   "metadata": {
    "id": "VHbe-92aulGr"
   },
   "outputs": [],
   "source": [
    "tf.keras.utils.set_random_seed(1)\n",
    "\n",
    "tf.config.experimental.enable_op_determinism()"
   ]
  },
  {
   "cell_type": "code",
   "execution_count": 6,
   "metadata": {
    "colab": {
     "base_uri": "https://localhost:8080/"
    },
    "id": "XfUWkEhXh31i",
    "outputId": "e048bbf9-a630-4d47-828e-3fdca48c1a1d"
   },
   "outputs": [
    {
     "name": "stdout",
     "output_type": "stream",
     "text": [
      "Mounted at /content/drive\n"
     ]
    }
   ],
   "source": [
    "from google.colab import drive\n",
    "drive.mount('/content/drive')"
   ]
  },
  {
   "cell_type": "code",
   "execution_count": 7,
   "metadata": {
    "id": "_1Ua7mbsbUOr"
   },
   "outputs": [],
   "source": [
    "data_all_county = pd.read_csv('/content/drive/MyDrive/CA_data_lat_log_weekly.csv')"
   ]
  },
  {
   "cell_type": "code",
   "execution_count": 8,
   "metadata": {
    "id": "rchOWMfwyp5A"
   },
   "outputs": [],
   "source": [
    "data_all_county['date'] = pd.to_datetime(data_all_county['date'])\n",
    "data_all_county['month'] = data_all_county['date'].dt.month"
   ]
  },
  {
   "cell_type": "markdown",
   "metadata": {
    "id": "JkZqApXYXb-9"
   },
   "source": [
    "Define helper functions"
   ]
  },
  {
   "cell_type": "code",
   "execution_count": 9,
   "metadata": {
    "id": "fIDCIpwSXXKt"
   },
   "outputs": [],
   "source": [
    "def ts_multi_data_prep(dataset, target, start, end, window, step_out):\n",
    "    X = []\n",
    "    y = []\n",
    "    start = start + window\n",
    "    if end is None:\n",
    "        end = len(dataset) - step_out\n",
    "        #end = len(dataset)\n",
    "    for i in range(start, end):\n",
    "        indices = range(i-window, i)\n",
    "        X.append(dataset[indices])\n",
    "\n",
    "        indicey = range(i, i+step_out) #revise the window definition\n",
    "        y.append(target[indicey])\n",
    "    return np.array(X), np.array(y)"
   ]
  },
  {
   "cell_type": "code",
   "execution_count": 10,
   "metadata": {
    "id": "vp6wtluEXfZb"
   },
   "outputs": [],
   "source": [
    "def timeseries_evaluation_metrics_func(y_true, y_pred):\n",
    "    def mean_absolute_percentage_error(y_true, y_pred):\n",
    "        y_true, y_pred = np.array(y_true), np.array(y_pred)\n",
    "        return np.mean(np.abs((y_true - y_pred) / y_true)) * 100\n",
    "\n",
    "    print('Evaluation metric results:-')\n",
    "    mse = metrics.mean_squared_error(y_true.flatten(), y_pred.flatten())\n",
    "    mae = metrics.mean_absolute_error(y_true.flatten(), y_pred.flatten())\n",
    "    rmse = np.sqrt(mse)\n",
    "    r2 = metrics.r2_score(y_true.flatten(), y_pred.flatten())\n",
    "    print(f'MSE is : {mse}')\n",
    "    print(f'MAE is : {mae}')\n",
    "    print(f'RMSE is : {rmse}')\n",
    "    #print(f'MAPE is : {mape}')\n",
    "    print(f'R2 is : {r2}\\n')"
   ]
  },
  {
   "cell_type": "code",
   "execution_count": 11,
   "metadata": {
    "id": "nHk_Sjmc7msB"
   },
   "outputs": [],
   "source": [
    "def timeseries_evaluation_metrics_binary(y_true, y_pred):\n",
    "    print('Evaluation metric results:-')\n",
    "    accuracy = accuracy_score(y_true.flatten(), y_pred.flatten())\n",
    "    precision = precision_score(y_true.flatten(), y_pred.flatten(), average='macro')\n",
    "    recall = recall_score(y_true.flatten(), y_pred.flatten(), average='macro')\n",
    "    f1 = f1_score(y_true.flatten(), y_pred.flatten(), average='macro')\n",
    "\n",
    "    print(f'Accuracy: {accuracy}')\n",
    "    print(f'Precision: {precision}')\n",
    "    print(f'Recall: {recall}')\n",
    "    print(f'F1-score: {f1}\\n')"
   ]
  },
  {
   "cell_type": "code",
   "execution_count": 12,
   "metadata": {
    "id": "BJyFdGZFeeVi"
   },
   "outputs": [],
   "source": [
    "hist_window = 30\n",
    "step_out = 12\n",
    "x_train_c, y_train_c, x_vali_c, y_vali_c, x_test_c, y_test_c = [], [], [], [], [], []\n",
    "unique_fips = data_all_county['fips'].unique()\n",
    "unique_fips_count = data_all_county['fips'].nunique()\n",
    "\n",
    "for fips in unique_fips:\n",
    "    # Extract dataframe for the current FIPS value\n",
    "    data_county = data_all_county[data_all_county['fips'] == fips]\n",
    "\n",
    "    X_data = data_county[['lat','lon','PRECTOT', 'PS', 'QV2M', 'T2M', 'T2MDEW', 'T2MWET',\n",
    "       'T2M_MAX', 'T2M_MIN', 'T2M_RANGE', 'TS', 'WS10M', 'WS10M_MAX',\n",
    "       'WS10M_MIN', 'WS10M_RANGE', 'WS50M', 'WS50M_MAX', 'WS50M_MIN',\n",
    "       'WS50M_RANGE', 'score', 'month']]\n",
    " \n",
    "    Y_data = data_county[['score']]\n",
    "    \n",
    "    #train_val_test split 70%-10%-20%\n",
    "    n = len(X_data)\n",
    "    x_train_county = X_data[0:int(n*0.7)]\n",
    "    y_train_county = Y_data[0:int(n*0.7)]\n",
    "    x_vali_county = X_data[int(n*0.7):int(n*0.8)]\n",
    "    y_vali_county = Y_data[int(n*0.7):int(n*0.8)]\n",
    "    x_test_county = X_data[int(n*0.8):]\n",
    "    y_test_county = Y_data[int(n*0.8):]\n",
    "\n",
    "\n",
    "    if fips == 6001:\n",
    "        x_train_c, y_train_c, x_vali_c, y_vali_c, x_test_c, y_test_c = x_train_county, y_train_county, x_vali_county, y_vali_county, x_test_county, y_test_county\n",
    "\n",
    "    else:\n",
    "        x_train_c = np.concatenate((x_train_c, x_train_county), axis=0)\n",
    "        y_train_c = np.concatenate((y_train_c, y_train_county), axis=0)\n",
    "        x_vali_c = np.concatenate((x_vali_c, x_vali_county), axis=0)\n",
    "        y_vali_c = np.concatenate((y_vali_c, y_vali_county), axis=0)\n",
    "        x_test_c = np.concatenate((x_test_c, x_test_county), axis=0)\n",
    "        y_test_c = np.concatenate((y_test_c, y_test_county), axis=0)"
   ]
  },
  {
   "cell_type": "code",
   "execution_count": 13,
   "metadata": {
    "id": "MjYfAZXoYPE7"
   },
   "outputs": [],
   "source": [
    "X_scaler_train = MinMaxScaler()\n",
    "Y_scaler_train = MinMaxScaler()\n",
    "X_scaler_test = MinMaxScaler()\n",
    "Y_scaler_test = MinMaxScaler()\n",
    "X_scaler_vali = MinMaxScaler()\n",
    "Y_scaler_vali = MinMaxScaler()\n",
    "x_train_data = X_scaler_train.fit_transform(x_train_c)\n",
    "y_train_data = Y_scaler_train.fit_transform(y_train_c)\n",
    "x_vali_data = X_scaler_vali.fit_transform(x_vali_c)\n",
    "y_vali_data = Y_scaler_vali.fit_transform(y_vali_c)\n",
    "x_test_data = X_scaler_test.fit_transform(x_test_c)\n",
    "y_test_data = Y_scaler_test.fit_transform(y_test_c)"
   ]
  },
  {
   "cell_type": "code",
   "execution_count": 14,
   "metadata": {
    "colab": {
     "base_uri": "https://localhost:8080/"
    },
    "id": "G3k9VE_AYtbb",
    "outputId": "4d35e1e5-e854-4498-8dbe-fdba408e6e00"
   },
   "outputs": [
    {
     "data": {
      "text/plain": [
       "(44486, 22)"
      ]
     },
     "execution_count": 14,
     "metadata": {},
     "output_type": "execute_result"
    }
   ],
   "source": [
    "x_train_data.shape"
   ]
  },
  {
   "cell_type": "code",
   "execution_count": 15,
   "metadata": {
    "id": "swPddKW7dyDg"
   },
   "outputs": [],
   "source": [
    "def transform_county_data(x_data_array, y_data_array):\n",
    "    # Lists to store x_train_c and y_train_c arrays\n",
    "    x_c_list = []\n",
    "    y_c_list = []\n",
    "    # Divide the arrays into 'unique_fips_count' number of subarrays\n",
    "    x_subarrays = np.array_split(x_data_array, unique_fips_count, axis=0)\n",
    "    y_subarrays = np.array_split(y_data_array, unique_fips_count, axis=0)\n",
    "\n",
    "    # Combine x_subarrays and y_subarrays into tuples\n",
    "    data_tuples = [(x_subarray, y_subarray) for x_subarray, y_subarray in zip(x_subarrays, y_subarrays)]\n",
    "\n",
    "    # Print or use the data tuples as needed\n",
    "    for idx, data_tuple in enumerate(data_tuples):\n",
    "        x_window_c, y_window_c = ts_multi_data_prep(data_tuple[0],data_tuple[1], 0, None, hist_window, step_out)\n",
    "        # Append x_window_c and y_window_c arrays to lists\n",
    "        x_c_list.append(x_window_c)\n",
    "        y_c_list.append(y_window_c)\n",
    "\n",
    "    # Stack arrays in lists to create x_train_c and y_train_c\n",
    "    x_all_county = np.vstack(x_c_list)\n",
    "    y_all_county = np.vstack(y_c_list)\n",
    "\n",
    "    return x_all_county, y_all_county"
   ]
  },
  {
   "cell_type": "code",
   "execution_count": 16,
   "metadata": {
    "id": "NOygAYEWhEHl"
   },
   "outputs": [],
   "source": [
    "x_train, y_train = transform_county_data(x_train_data, y_train_data)\n",
    "x_vali, y_vali = transform_county_data(x_vali_data, y_vali_data)\n",
    "x_test, y_test = transform_county_data(x_test_data, y_test_data)"
   ]
  },
  {
   "cell_type": "code",
   "execution_count": 19,
   "metadata": {
    "id": "i-cWA8JVdbQw"
   },
   "outputs": [],
   "source": [
    "# Convert all the 3D arrays to 2D for Random Forest\n",
    "train_len = len(x_train)\n",
    "num_features = X_data.shape[1]\n",
    "vali_len = len(x_vali)\n",
    "test_len = len(x_test)\n",
    "\n",
    "# Reshape the labels into a simple 2D array\n",
    "y_train = y_train.reshape(train_len, step_out)\n",
    "y_vali = y_vali.reshape(vali_len, step_out)\n",
    "y_test = y_test.reshape(test_len, step_out)\n",
    "\n",
    "# Reshape the x data into a 2D array of (num windows, window size x features size)\n",
    "x_train = x_train.reshape(train_len, hist_window * num_features)\n",
    "x_vali = x_vali.reshape(vali_len, hist_window * num_features)\n",
    "x_test = x_test.reshape(test_len, hist_window * num_features)"
   ]
  },
  {
   "cell_type": "markdown",
   "metadata": {
    "id": "Qnwy7t1IFca9"
   },
   "source": [
    "# Model"
   ]
  },
  {
   "cell_type": "code",
   "execution_count": 21,
   "metadata": {
    "id": "veU5JaH9Fca9"
   },
   "outputs": [],
   "source": [
    "# Define RandomForestRegressor parameters\n",
    "n_estimators = 300\n",
    "max_depth = 4 \n",
    "random_state = 42 "
   ]
  },
  {
   "cell_type": "code",
   "execution_count": 22,
   "metadata": {
    "id": "DiVGcAvuj6JA"
   },
   "outputs": [],
   "source": [
    "def random_forest_forecast(x_train, y_train, x_test):\n",
    "    # fit the model\n",
    "    model = RandomForestRegressor(n_estimators=n_estimators, max_depth=max_depth, random_state=random_state)\n",
    "    model.fit(x_train, y_train)\n",
    "\n",
    "    feature_imp = model.feature_importances_\n",
    "\n",
    "    # predict\n",
    "    yhat = model.predict(x_test)\n",
    "    return yhat, feature_imp"
   ]
  },
  {
   "cell_type": "code",
   "execution_count": 23,
   "metadata": {
    "id": "j-WOsHMjkNt4"
   },
   "outputs": [],
   "source": [
    "y_vali_pred, vali_feature_imp = random_forest_forecast(x_train, y_train, x_vali)"
   ]
  },
  {
   "cell_type": "code",
   "execution_count": 24,
   "metadata": {
    "id": "818czQ7glWE4"
   },
   "outputs": [],
   "source": [
    "y_test_pred, feature_imp = random_forest_forecast(x_train, y_train, x_test)"
   ]
  },
  {
   "cell_type": "markdown",
   "metadata": {
    "id": "7afF1_qrFca-"
   },
   "source": [
    "# Model Evaluation"
   ]
  },
  {
   "cell_type": "markdown",
   "metadata": {
    "id": "Zw_m_JNOFca-"
   },
   "source": [
    "## Validation"
   ]
  },
  {
   "cell_type": "code",
   "execution_count": 57,
   "metadata": {
    "id": "3q6vftT0Fca-"
   },
   "outputs": [],
   "source": [
    "# Apply inverse transform\n",
    "y_vali_pred_Inverse = Y_scaler_vali.inverse_transform(y_vali_pred)\n",
    "y_vali_pred_Inverse_ordinal = np.round(y_vali_pred_Inverse).astype(int)\n",
    "y_vali_Inverse = Y_scaler_vali.inverse_transform(y_vali)\n",
    "y_vali_Inverse_ordinal = np.round(y_vali_Inverse).astype(int)"
   ]
  },
  {
   "cell_type": "code",
   "execution_count": 58,
   "metadata": {
    "colab": {
     "base_uri": "https://localhost:8080/"
    },
    "id": "dIwng2wgFca-",
    "outputId": "bfe119ef-0260-400f-dd4d-b675c1fee7f1"
   },
   "outputs": [
    {
     "name": "stdout",
     "output_type": "stream",
     "text": [
      "Evaluation metric results:-\n",
      "MSE is : 0.24369590494404686\n",
      "MAE is : 0.3197751672122448\n",
      "RMSE is : 0.49365565422067925\n",
      "R2 is : 0.8355279401922858\n",
      "\n"
     ]
    }
   ],
   "source": [
    "timeseries_evaluation_metrics_func(y_vali_Inverse,y_vali_pred_Inverse)"
   ]
  },
  {
   "cell_type": "code",
   "execution_count": 59,
   "metadata": {
    "colab": {
     "base_uri": "https://localhost:8080/"
    },
    "id": "jas6R9ylFca-",
    "outputId": "43d8a975-408d-4491-bbc0-57bfcb06b1c7"
   },
   "outputs": [
    {
     "name": "stdout",
     "output_type": "stream",
     "text": [
      "Evaluation metric results:-\n",
      "MSE is : 0.38085434894493053\n",
      "MAE is : 0.318793961228341\n",
      "RMSE is : 0.617133979736111\n",
      "R2 is : 0.763382435159917\n",
      "\n"
     ]
    }
   ],
   "source": [
    "timeseries_evaluation_metrics_func(y_vali_Inverse_ordinal,y_vali_pred_Inverse_ordinal)"
   ]
  },
  {
   "cell_type": "code",
   "execution_count": 60,
   "metadata": {
    "colab": {
     "base_uri": "https://localhost:8080/",
     "height": 468
    },
    "id": "oukJ5iXkFca-",
    "outputId": "0b3f7d55-51b3-4332-a253-573ce4728c2b"
   },
   "outputs": [
    {
     "data": {
      "text/plain": [
       "Text(0.5, 1.0, 'Distribution of Actual Validation Drought Scores')"
      ]
     },
     "execution_count": 60,
     "metadata": {},
     "output_type": "execute_result"
    },
    {
     "data": {
      "image/png": "[encoded data removed]",
      "text/plain": [
       "<Figure size 640x480 with 1 Axes>"
      ]
     },
     "metadata": {},
     "output_type": "display_data"
    }
   ],
   "source": [
    "plt.hist(y_vali_Inverse)\n",
    "plt.title('Distribution of Actual Validation Drought Scores')"
   ]
  },
  {
   "cell_type": "code",
   "execution_count": 61,
   "metadata": {
    "colab": {
     "base_uri": "https://localhost:8080/",
     "height": 468
    },
    "id": "AlKQ5j7GFca-",
    "outputId": "022de115-e2d1-43eb-ba92-8fe15bb6f433"
   },
   "outputs": [
    {
     "data": {
      "text/plain": [
       "Text(0.5, 1.0, 'Distribution of Predicted Validation Drought Scores')"
      ]
     },
     "execution_count": 61,
     "metadata": {},
     "output_type": "execute_result"
    },
    {
     "data": {
      "image/png": "[encoded data removed]",
      "text/plain": [
       "<Figure size 640x480 with 1 Axes>"
      ]
     },
     "metadata": {},
     "output_type": "display_data"
    }
   ],
   "source": [
    "plt.hist(y_vali_pred_Inverse)\n",
    "plt.title('Distribution of Predicted Validation Drought Scores')"
   ]
  },
  {
   "cell_type": "markdown",
   "metadata": {
    "id": "YKg68CB0Fca-"
   },
   "source": [
    "## Test"
   ]
  },
  {
   "cell_type": "code",
   "execution_count": 62,
   "metadata": {
    "id": "9YOMP6wqDtx7"
   },
   "outputs": [],
   "source": [
    "# Apply inverse transform\n",
    "y_test_pred_Inverse = Y_scaler_test.inverse_transform(y_test_pred)\n",
    "y_test_pred_Inverse_ordinal = np.round(y_test_pred_Inverse).astype(int)\n",
    "y_test_Inverse = Y_scaler_test.inverse_transform(y_test)\n",
    "y_test_Inverse_ordinal = np.round(y_test_Inverse).astype(int)"
   ]
  },
  {
   "cell_type": "code",
   "execution_count": 63,
   "metadata": {
    "colab": {
     "base_uri": "https://localhost:8080/"
    },
    "id": "EZrpgKKBFca-",
    "outputId": "88a1fa5d-12b6-4df4-b57f-5db236564411"
   },
   "outputs": [
    {
     "name": "stdout",
     "output_type": "stream",
     "text": [
      "Evaluation metric results:-\n",
      "MSE is : 0.3150855507718481\n",
      "MAE is : 0.36728775528048724\n",
      "RMSE is : 0.5613248175271143\n",
      "R2 is : 0.7079805972540019\n",
      "\n"
     ]
    }
   ],
   "source": [
    "timeseries_evaluation_metrics_func(y_test_Inverse,y_test_pred_Inverse)"
   ]
  },
  {
   "cell_type": "code",
   "execution_count": 64,
   "metadata": {
    "colab": {
     "base_uri": "https://localhost:8080/"
    },
    "id": "TYZa9TIiFca-",
    "outputId": "9645fd2c-d15c-45b6-a09a-f4813aa6f20b"
   },
   "outputs": [
    {
     "name": "stdout",
     "output_type": "stream",
     "text": [
      "Evaluation metric results:-\n",
      "MSE is : 0.42335012269146327\n",
      "MAE is : 0.3342212320805889\n",
      "RMSE is : 0.6506536119099495\n",
      "R2 is : 0.6316776616977531\n",
      "\n"
     ]
    }
   ],
   "source": [
    "timeseries_evaluation_metrics_func(y_test_Inverse_ordinal,y_test_pred_Inverse_ordinal)"
   ]
  },
  {
   "cell_type": "code",
   "execution_count": 65,
   "metadata": {
    "colab": {
     "base_uri": "https://localhost:8080/",
     "height": 468
    },
    "id": "1TZul4jrFca-",
    "outputId": "3bec4958-bf29-4024-f59f-1d5ceb02d47a"
   },
   "outputs": [
    {
     "data": {
      "text/plain": [
       "Text(0.5, 1.0, 'Distribution of Actual Test Drought Scores')"
      ]
     },
     "execution_count": 65,
     "metadata": {},
     "output_type": "execute_result"
    },
    {
     "data": {
      "image/png": "[encoded data removed]",
      "text/plain": [
       "<Figure size 640x480 with 1 Axes>"
      ]
     },
     "metadata": {},
     "output_type": "display_data"
    }
   ],
   "source": [
    "plt.hist(y_test_Inverse)\n",
    "plt.title('Distribution of Actual Test Drought Scores')"
   ]
  },
  {
   "cell_type": "code",
   "execution_count": 66,
   "metadata": {
    "colab": {
     "base_uri": "https://localhost:8080/",
     "height": 468
    },
    "id": "lwOMZaYrFca-",
    "outputId": "9a75d114-78f6-4fd0-db30-3b8e7232c130"
   },
   "outputs": [
    {
     "data": {
      "text/plain": [
       "Text(0.5, 1.0, 'Distribution of Predicted Test Drought Scores')"
      ]
     },
     "execution_count": 66,
     "metadata": {},
     "output_type": "execute_result"
    },
    {
     "data": {
      "image/png": "[encoded data removed]",
      "text/plain": [
       "<Figure size 640x480 with 1 Axes>"
      ]
     },
     "metadata": {},
     "output_type": "display_data"
    }
   ],
   "source": [
    "plt.hist(y_test_pred_Inverse)\n",
    "plt.title('Distribution of Predicted Test Drought Scores')"
   ]
  },
  {
   "cell_type": "markdown",
   "metadata": {
    "id": "9ALTIWwa7fgF"
   },
   "source": [
    "## Binary Classification Evaluation"
   ]
  },
  {
   "cell_type": "markdown",
   "metadata": {
    "id": "e819Iqn67jVm"
   },
   "source": [
    "### Using 2.5 as \"Severe\" Drought Classification:"
   ]
  },
  {
   "cell_type": "code",
   "execution_count": 67,
   "metadata": {
    "id": "TPW2R-gu7kcl"
   },
   "outputs": [],
   "source": [
    "threshold = 2.5\n",
    "y_test_Inverse_binary = np.where(y_test_Inverse >= threshold, 1, 0)\n",
    "y_test_pred_Inverse_binary = np.where(y_test_pred_Inverse >= threshold, 1, 0)"
   ]
  },
  {
   "cell_type": "code",
   "execution_count": 68,
   "metadata": {
    "colab": {
     "base_uri": "https://localhost:8080/"
    },
    "id": "1aWAH6oE7N1t",
    "outputId": "9bb04f57-d851-4948-f097-eb72731485aa"
   },
   "outputs": [
    {
     "name": "stdout",
     "output_type": "stream",
     "text": [
      "Evaluation metric results:-\n",
      "Accuracy: 0.9551449696500065\n",
      "Precision: 0.936767854820753\n",
      "Recall: 0.8139876491598241\n",
      "F1-score: 0.8625528951740955\n",
      "\n"
     ]
    }
   ],
   "source": [
    "timeseries_evaluation_metrics_binary(y_test_Inverse_binary,y_test_pred_Inverse_binary)"
   ]
  },
  {
   "cell_type": "code",
   "execution_count": 69,
   "metadata": {
    "colab": {
     "base_uri": "https://localhost:8080/"
    },
    "id": "S7s-ib2GWuJ8",
    "outputId": "7bf06d76-329c-4e48-950e-ecc130fdbdc1"
   },
   "outputs": [
    {
     "name": "stdout",
     "output_type": "stream",
     "text": [
      "              precision    recall  f1-score   support\n",
      "\n",
      "           0       0.96      0.99      0.98    110778\n",
      "           1       0.92      0.63      0.75     13110\n",
      "\n",
      "    accuracy                           0.96    123888\n",
      "   macro avg       0.94      0.81      0.86    123888\n",
      "weighted avg       0.95      0.96      0.95    123888\n",
      "\n"
     ]
    }
   ],
   "source": [
    "# Compute classification report\n",
    "classification_metrics = classification_report(y_test_Inverse_binary.flatten(),y_test_pred_Inverse_binary.flatten())\n",
    "\n",
    "# Print classification report\n",
    "print(classification_metrics)"
   ]
  },
  {
   "cell_type": "code",
   "execution_count": 70,
   "metadata": {
    "colab": {
     "base_uri": "https://localhost:8080/",
     "height": 612
    },
    "id": "7lHhiBck66wa",
    "outputId": "1e77d087-174a-4563-a933-87ffff97c14d"
   },
   "outputs": [
    {
     "name": "stdout",
     "output_type": "stream",
     "text": [
      "Confusion Matrix:\n",
      "[[110007    771]\n",
      " [  4786   8324]]\n"
     ]
    },
    {
     "data": {
      "image/png": "[encoded data removed]",
      "text/plain": [
       "<Figure size 800x600 with 1 Axes>"
      ]
     },
     "metadata": {},
     "output_type": "display_data"
    }
   ],
   "source": [
    "# Compute confusion matrix\n",
    "conf_matrix = confusion_matrix(y_test_Inverse_binary.flatten(), y_test_pred_Inverse_binary.flatten())\n",
    "\n",
    "# Print confusion matrix\n",
    "print(\"Confusion Matrix:\")\n",
    "print(conf_matrix)\n",
    "# Plot confusion matrix\n",
    "plt.figure(figsize=(8, 6))\n",
    "sns.heatmap(conf_matrix, annot=True, fmt=\"d\", cmap=\"Blues\", cbar=False,\n",
    "            xticklabels=[\"Negative\", \"Positive\"], yticklabels=[\"Negative\", \"Positive\"])\n",
    "plt.title(\"Confusion Matrix\")\n",
    "plt.xlabel(\"Predicted Class\")\n",
    "plt.ylabel(\"Actual Class\")\n",
    "plt.show()"
   ]
  },
  {
   "cell_type": "markdown",
   "metadata": {
    "id": "B5z-H9_r778k"
   },
   "source": [
    "### Using 1.5 as \"Moderate\" Score\n",
    "\n",
    "A score of 2 is considered Moderate drought. A score of 1.5 would be rounded up to 2."
   ]
  },
  {
   "cell_type": "code",
   "execution_count": 71,
   "metadata": {
    "id": "NxacEGnh8Kr7"
   },
   "outputs": [],
   "source": [
    "threshold = 1.5\n",
    "y_test_Inverse_binary = np.where(y_test_Inverse >= threshold, 1, 0)\n",
    "y_test_pred_Inverse_binary = np.where(y_test_pred_Inverse >= threshold, 1, 0)"
   ]
  },
  {
   "cell_type": "code",
   "execution_count": 72,
   "metadata": {
    "colab": {
     "base_uri": "https://localhost:8080/"
    },
    "id": "fgE0IdEK8Qos",
    "outputId": "9909ab75-2023-4604-825a-3d35c85615db"
   },
   "outputs": [
    {
     "name": "stdout",
     "output_type": "stream",
     "text": [
      "Evaluation metric results:-\n",
      "Accuracy: 0.8950503680743898\n",
      "Precision: 0.8780765997760276\n",
      "Recall: 0.847285856131318\n",
      "F1-score: 0.8608397221396078\n",
      "\n"
     ]
    }
   ],
   "source": [
    "timeseries_evaluation_metrics_binary(y_test_Inverse_binary,y_test_pred_Inverse_binary)"
   ]
  },
  {
   "cell_type": "code",
   "execution_count": 73,
   "metadata": {
    "colab": {
     "base_uri": "https://localhost:8080/"
    },
    "id": "Ca7VAzTd8Son",
    "outputId": "b13cfdf9-b043-488e-c135-35ba510de610"
   },
   "outputs": [
    {
     "name": "stdout",
     "output_type": "stream",
     "text": [
      "              precision    recall  f1-score   support\n",
      "\n",
      "           0       0.91      0.95      0.93     90660\n",
      "           1       0.85      0.74      0.79     33228\n",
      "\n",
      "    accuracy                           0.90    123888\n",
      "   macro avg       0.88      0.85      0.86    123888\n",
      "weighted avg       0.89      0.90      0.89    123888\n",
      "\n"
     ]
    }
   ],
   "source": [
    "# Compute classification report\n",
    "classification_metrics = classification_report(y_test_Inverse_binary.flatten(),y_test_pred_Inverse_binary.flatten())\n",
    "#classification_metrics = classification_report(y_test_Inverse_ordinal.flatten(),y_test_pred_Inverse_ordinal.flatten())\n",
    "# Print classification report\n",
    "print(classification_metrics)"
   ]
  },
  {
   "cell_type": "code",
   "execution_count": 74,
   "metadata": {
    "colab": {
     "base_uri": "https://localhost:8080/",
     "height": 612
    },
    "id": "qT9EcrB_8VEx",
    "outputId": "ef0d2804-887a-4ebf-b857-b8a91672f506"
   },
   "outputs": [
    {
     "name": "stdout",
     "output_type": "stream",
     "text": [
      "Confusion Matrix:\n",
      "[[86156  4504]\n",
      " [ 8498 24730]]\n"
     ]
    },
    {
     "data": {
      "image/png": "[encoded data removed]",
      "text/plain": [
       "<Figure size 800x600 with 1 Axes>"
      ]
     },
     "metadata": {},
     "output_type": "display_data"
    }
   ],
   "source": [
    "# Compute confusion matrix\n",
    "conf_matrix = confusion_matrix(y_test_Inverse_binary.flatten(), y_test_pred_Inverse_binary.flatten())\n",
    "\n",
    "# Print confusion matrix\n",
    "print(\"Confusion Matrix:\")\n",
    "print(conf_matrix)\n",
    "\n",
    "# Plot confusion matrix\n",
    "plt.figure(figsize=(8, 6))\n",
    "sns.heatmap(conf_matrix, annot=True, fmt=\"d\", cmap=\"Blues\", cbar=False,\n",
    "            xticklabels=[\"Negative\", \"Positive\"], yticklabels=[\"Negative\", \"Positive\"])\n",
    "plt.title(\"Confusion Matrix\")\n",
    "plt.xlabel(\"Predicted Class\")\n",
    "plt.ylabel(\"Actual Class\")\n",
    "plt.show()"
   ]
  },
  {
   "cell_type": "markdown",
   "metadata": {
    "id": "jQ8wqjEj8rk0"
   },
   "source": [
    "### Using 0.5 as \"Any Drought\" Score\n",
    "\n",
    "A score of 1 is considered abnormally dry. A score of 0.5 would be rounded up to 1:\n"
   ]
  },
  {
   "cell_type": "code",
   "execution_count": 75,
   "metadata": {
    "id": "t6gCqVgK82X0"
   },
   "outputs": [],
   "source": [
    "threshold = 0.5\n",
    "y_test_Inverse_binary = np.where(y_test_Inverse >= threshold, 1, 0)\n",
    "y_test_pred_Inverse_binary = np.where(y_test_pred_Inverse >= threshold, 1, 0)"
   ]
  },
  {
   "cell_type": "code",
   "execution_count": 76,
   "metadata": {
    "colab": {
     "base_uri": "https://localhost:8080/"
    },
    "id": "pOR-sCGR87M3",
    "outputId": "502cbb10-736b-422b-873b-701ce8a3ab01"
   },
   "outputs": [
    {
     "name": "stdout",
     "output_type": "stream",
     "text": [
      "Evaluation metric results:-\n",
      "Accuracy: 0.8294911532997546\n",
      "Precision: 0.8300740801524112\n",
      "Recall: 0.8291603460820083\n",
      "F1-score: 0.8292858766676825\n",
      "\n"
     ]
    }
   ],
   "source": [
    "timeseries_evaluation_metrics_binary(y_test_Inverse_binary,y_test_pred_Inverse_binary)"
   ]
  },
  {
   "cell_type": "code",
   "execution_count": 77,
   "metadata": {
    "colab": {
     "base_uri": "https://localhost:8080/"
    },
    "id": "qVP6r2PS88um",
    "outputId": "004a8186-a49a-4557-c9a4-58a562920f72"
   },
   "outputs": [
    {
     "name": "stdout",
     "output_type": "stream",
     "text": [
      "              precision    recall  f1-score   support\n",
      "\n",
      "           0       0.82      0.85      0.84     62856\n",
      "           1       0.84      0.81      0.82     61032\n",
      "\n",
      "    accuracy                           0.83    123888\n",
      "   macro avg       0.83      0.83      0.83    123888\n",
      "weighted avg       0.83      0.83      0.83    123888\n",
      "\n"
     ]
    }
   ],
   "source": [
    "# Compute classification report\n",
    "classification_metrics = classification_report(y_test_Inverse_binary.flatten(),y_test_pred_Inverse_binary.flatten())\n",
    "\n",
    "# Print classification report\n",
    "print(classification_metrics)"
   ]
  },
  {
   "cell_type": "code",
   "execution_count": 78,
   "metadata": {
    "colab": {
     "base_uri": "https://localhost:8080/",
     "height": 612
    },
    "id": "NWlxz0Ut89-h",
    "outputId": "7d57d054-ad01-4927-b12f-2bca32d19da4"
   },
   "outputs": [
    {
     "name": "stdout",
     "output_type": "stream",
     "text": [
      "Confusion Matrix:\n",
      "[[53530  9326]\n",
      " [11798 49234]]\n"
     ]
    },
    {
     "data": {
      "image/png": "[encoded data removed]",
      "text/plain": [
       "<Figure size 800x600 with 1 Axes>"
      ]
     },
     "metadata": {},
     "output_type": "display_data"
    }
   ],
   "source": [
    "# Compute confusion matrix\n",
    "conf_matrix = confusion_matrix(y_test_Inverse_binary.flatten(), y_test_pred_Inverse_binary.flatten())\n",
    "\n",
    "# Print confusion matrix\n",
    "print(\"Confusion Matrix:\")\n",
    "print(conf_matrix)\n",
    "# Plot confusion matrix\n",
    "plt.figure(figsize=(8, 6))\n",
    "sns.heatmap(conf_matrix, annot=True, fmt=\"d\", cmap=\"Blues\", cbar=False,\n",
    "            xticklabels=[\"Negative\", \"Positive\"], yticklabels=[\"Negative\", \"Positive\"])\n",
    "plt.title(\"Confusion Matrix\")\n",
    "plt.xlabel(\"Predicted Class\")\n",
    "plt.ylabel(\"Actual Class\")\n",
    "plt.show()"
   ]
  },
  {
   "cell_type": "markdown",
   "metadata": {
    "id": "ChFNFIu59Qy9"
   },
   "source": [
    "### Using Extreme Drought as Threshold - 3.5\n",
    "\n",
    "Extreme Drought is a score of 4. Scores at 3.5 or higher will round up to 4."
   ]
  },
  {
   "cell_type": "code",
   "execution_count": 79,
   "metadata": {
    "id": "ohruWfz99PN3"
   },
   "outputs": [],
   "source": [
    "threshold = 3.5\n",
    "y_test_Inverse_binary = np.where(y_test_Inverse >= threshold, 1, 0)\n",
    "y_test_pred_Inverse_binary = np.where(y_test_pred_Inverse >= threshold, 1, 0)"
   ]
  },
  {
   "cell_type": "code",
   "execution_count": 80,
   "metadata": {
    "colab": {
     "base_uri": "https://localhost:8080/"
    },
    "id": "-DFdKjQo9N20",
    "outputId": "22896e3a-e28b-408b-cfe9-a3b154631763"
   },
   "outputs": [
    {
     "name": "stdout",
     "output_type": "stream",
     "text": [
      "Evaluation metric results:-\n",
      "Accuracy: 0.9860761332816738\n",
      "Precision: 0.7703552411553543\n",
      "Recall: 0.5319686359839537\n",
      "F1-score: 0.554410422377643\n",
      "\n"
     ]
    }
   ],
   "source": [
    "timeseries_evaluation_metrics_binary(y_test_Inverse_binary,y_test_pred_Inverse_binary)"
   ]
  },
  {
   "cell_type": "code",
   "execution_count": 81,
   "metadata": {
    "colab": {
     "base_uri": "https://localhost:8080/"
    },
    "id": "WIjfR-ud9-Bt",
    "outputId": "846a6a5f-807a-43a7-d412-a689182b5cd5"
   },
   "outputs": [
    {
     "name": "stdout",
     "output_type": "stream",
     "text": [
      "              precision    recall  f1-score   support\n",
      "\n",
      "           0       0.99      1.00      0.99    122141\n",
      "           1       0.55      0.06      0.12      1747\n",
      "\n",
      "    accuracy                           0.99    123888\n",
      "   macro avg       0.77      0.53      0.55    123888\n",
      "weighted avg       0.98      0.99      0.98    123888\n",
      "\n"
     ]
    }
   ],
   "source": [
    "# Compute classification report\n",
    "classification_metrics = classification_report(y_test_Inverse_binary.flatten(),y_test_pred_Inverse_binary.flatten())\n",
    "\n",
    "# Print classification report\n",
    "print(classification_metrics)"
   ]
  },
  {
   "cell_type": "code",
   "execution_count": 82,
   "metadata": {
    "colab": {
     "base_uri": "https://localhost:8080/",
     "height": 612
    },
    "id": "Ud2wlRSX9_OR",
    "outputId": "8c6494a5-0121-4016-efa2-93cff19c2c8f"
   },
   "outputs": [
    {
     "name": "stdout",
     "output_type": "stream",
     "text": [
      "Confusion Matrix:\n",
      "[[122050     91]\n",
      " [  1634    113]]\n"
     ]
    },
    {
     "data": {
      "image/png": "[encoded data removed]",
      "text/plain": [
       "<Figure size 800x600 with 1 Axes>"
      ]
     },
     "metadata": {},
     "output_type": "display_data"
    }
   ],
   "source": [
    "# Compute confusion matrix\n",
    "conf_matrix = confusion_matrix(y_test_Inverse_binary.flatten(), y_test_pred_Inverse_binary.flatten())\n",
    "\n",
    "# Print confusion matrix\n",
    "print(\"Confusion Matrix:\")\n",
    "print(conf_matrix)\n",
    "# Plot confusion matrix\n",
    "plt.figure(figsize=(8, 6))\n",
    "sns.heatmap(conf_matrix, annot=True, fmt=\"d\", cmap=\"Blues\", cbar=False,\n",
    "            xticklabels=[\"Negative\", \"Positive\"], yticklabels=[\"Negative\", \"Positive\"])\n",
    "plt.title(\"Confusion Matrix\")\n",
    "plt.xlabel(\"Predicted Class\")\n",
    "plt.ylabel(\"Actual Class\")\n",
    "plt.show()"
   ]
  },
  {
   "cell_type": "markdown",
   "metadata": {
    "id": "kAcJkkagZX7H"
   },
   "source": [
    "# Feature Importance"
   ]
  },
  {
   "cell_type": "code",
   "execution_count": 83,
   "metadata": {
    "colab": {
     "base_uri": "https://localhost:8080/"
    },
    "id": "1wlafNQHZcGA",
    "outputId": "d14492e9-868c-452f-8941-dd10bbb118d8",
    "scrolled": true
   },
   "outputs": [
    {
     "data": {
      "text/plain": [
       "array([0.00000000e+00, 0.00000000e+00, 0.00000000e+00, 0.00000000e+00,\n",
       "       0.00000000e+00, 0.00000000e+00, 0.00000000e+00, 0.00000000e+00,\n",
       "       0.00000000e+00, 0.00000000e+00, 0.00000000e+00, 0.00000000e+00,\n",
       "       0.00000000e+00, 0.00000000e+00, 0.00000000e+00, 0.00000000e+00,\n",
       "       0.00000000e+00, 0.00000000e+00, 0.00000000e+00, 0.00000000e+00,\n",
       "       1.42332097e-04, 0.00000000e+00, 0.00000000e+00, 0.00000000e+00,\n",
       "       0.00000000e+00, 0.00000000e+00, 0.00000000e+00, 0.00000000e+00,\n",
       "       0.00000000e+00, 0.00000000e+00, 0.00000000e+00, 0.00000000e+00,\n",
       "       0.00000000e+00, 0.00000000e+00, 0.00000000e+00, 0.00000000e+00,\n",
       "       0.00000000e+00, 0.00000000e+00, 0.00000000e+00, 0.00000000e+00,\n",
       "       0.00000000e+00, 0.00000000e+00, 1.27441739e-05, 0.00000000e+00,\n",
       "       0.00000000e+00, 0.00000000e+00, 0.00000000e+00, 0.00000000e+00,\n",
       "       0.00000000e+00, 0.00000000e+00, 0.00000000e+00, 0.00000000e+00,\n",
       "       0.00000000e+00, 0.00000000e+00, 0.00000000e+00, 0.00000000e+00,\n",
       "       0.00000000e+00, 0.00000000e+00, 0.00000000e+00, 0.00000000e+00,\n",
       "       0.00000000e+00, 0.00000000e+00, 0.00000000e+00, 0.00000000e+00,\n",
       "       0.00000000e+00, 0.00000000e+00, 0.00000000e+00, 0.00000000e+00,\n",
       "       0.00000000e+00, 0.00000000e+00, 0.00000000e+00, 0.00000000e+00,\n",
       "       0.00000000e+00, 0.00000000e+00, 0.00000000e+00, 0.00000000e+00,\n",
       "       0.00000000e+00, 0.00000000e+00, 0.00000000e+00, 0.00000000e+00,\n",
       "       0.00000000e+00, 0.00000000e+00, 0.00000000e+00, 0.00000000e+00,\n",
       "       0.00000000e+00, 0.00000000e+00, 0.00000000e+00, 0.00000000e+00,\n",
       "       0.00000000e+00, 0.00000000e+00, 0.00000000e+00, 0.00000000e+00,\n",
       "       0.00000000e+00, 0.00000000e+00, 0.00000000e+00, 0.00000000e+00,\n",
       "       0.00000000e+00, 0.00000000e+00, 0.00000000e+00, 0.00000000e+00,\n",
       "       0.00000000e+00, 0.00000000e+00, 0.00000000e+00, 0.00000000e+00,\n",
       "       0.00000000e+00, 0.00000000e+00, 0.00000000e+00, 0.00000000e+00,\n",
       "       0.00000000e+00, 0.00000000e+00, 0.00000000e+00, 0.00000000e+00,\n",
       "       0.00000000e+00, 0.00000000e+00, 0.00000000e+00, 0.00000000e+00,\n",
       "       0.00000000e+00, 0.00000000e+00, 0.00000000e+00, 0.00000000e+00,\n",
       "       0.00000000e+00, 0.00000000e+00, 0.00000000e+00, 0.00000000e+00,\n",
       "       0.00000000e+00, 0.00000000e+00, 0.00000000e+00, 0.00000000e+00,\n",
       "       0.00000000e+00, 0.00000000e+00, 0.00000000e+00, 0.00000000e+00,\n",
       "       0.00000000e+00, 0.00000000e+00, 0.00000000e+00, 0.00000000e+00,\n",
       "       0.00000000e+00, 0.00000000e+00, 0.00000000e+00, 0.00000000e+00,\n",
       "       0.00000000e+00, 0.00000000e+00, 0.00000000e+00, 0.00000000e+00,\n",
       "       0.00000000e+00, 0.00000000e+00, 0.00000000e+00, 0.00000000e+00,\n",
       "       0.00000000e+00, 0.00000000e+00, 0.00000000e+00, 0.00000000e+00,\n",
       "       5.80555932e-06, 0.00000000e+00, 0.00000000e+00, 0.00000000e+00,\n",
       "       0.00000000e+00, 0.00000000e+00, 0.00000000e+00, 0.00000000e+00,\n",
       "       0.00000000e+00, 0.00000000e+00, 0.00000000e+00, 0.00000000e+00,\n",
       "       0.00000000e+00, 0.00000000e+00, 0.00000000e+00, 0.00000000e+00,\n",
       "       0.00000000e+00, 0.00000000e+00, 0.00000000e+00, 0.00000000e+00,\n",
       "       0.00000000e+00, 0.00000000e+00, 7.74187031e-05, 3.03557045e-05,\n",
       "       0.00000000e+00, 0.00000000e+00, 0.00000000e+00, 0.00000000e+00,\n",
       "       0.00000000e+00, 0.00000000e+00, 0.00000000e+00, 0.00000000e+00,\n",
       "       0.00000000e+00, 0.00000000e+00, 0.00000000e+00, 0.00000000e+00,\n",
       "       0.00000000e+00, 0.00000000e+00, 0.00000000e+00, 0.00000000e+00,\n",
       "       0.00000000e+00, 0.00000000e+00, 0.00000000e+00, 0.00000000e+00,\n",
       "       7.42143273e-05, 6.36242861e-05, 0.00000000e+00, 0.00000000e+00,\n",
       "       0.00000000e+00, 0.00000000e+00, 0.00000000e+00, 0.00000000e+00,\n",
       "       0.00000000e+00, 0.00000000e+00, 0.00000000e+00, 0.00000000e+00,\n",
       "       0.00000000e+00, 0.00000000e+00, 0.00000000e+00, 0.00000000e+00,\n",
       "       0.00000000e+00, 0.00000000e+00, 0.00000000e+00, 0.00000000e+00,\n",
       "       0.00000000e+00, 0.00000000e+00, 1.91972843e-05, 2.57077789e-04,\n",
       "       0.00000000e+00, 0.00000000e+00, 0.00000000e+00, 0.00000000e+00,\n",
       "       0.00000000e+00, 0.00000000e+00, 0.00000000e+00, 0.00000000e+00,\n",
       "       0.00000000e+00, 0.00000000e+00, 0.00000000e+00, 0.00000000e+00,\n",
       "       0.00000000e+00, 0.00000000e+00, 0.00000000e+00, 0.00000000e+00,\n",
       "       0.00000000e+00, 0.00000000e+00, 0.00000000e+00, 0.00000000e+00,\n",
       "       0.00000000e+00, 8.92389617e-04, 0.00000000e+00, 0.00000000e+00,\n",
       "       0.00000000e+00, 0.00000000e+00, 0.00000000e+00, 0.00000000e+00,\n",
       "       0.00000000e+00, 0.00000000e+00, 0.00000000e+00, 0.00000000e+00,\n",
       "       0.00000000e+00, 0.00000000e+00, 0.00000000e+00, 0.00000000e+00,\n",
       "       0.00000000e+00, 0.00000000e+00, 0.00000000e+00, 0.00000000e+00,\n",
       "       0.00000000e+00, 0.00000000e+00, 0.00000000e+00, 3.37158910e-04,\n",
       "       0.00000000e+00, 0.00000000e+00, 0.00000000e+00, 0.00000000e+00,\n",
       "       0.00000000e+00, 0.00000000e+00, 0.00000000e+00, 0.00000000e+00,\n",
       "       0.00000000e+00, 0.00000000e+00, 0.00000000e+00, 0.00000000e+00,\n",
       "       0.00000000e+00, 0.00000000e+00, 0.00000000e+00, 0.00000000e+00,\n",
       "       0.00000000e+00, 0.00000000e+00, 0.00000000e+00, 0.00000000e+00,\n",
       "       0.00000000e+00, 2.81357389e-05, 0.00000000e+00, 0.00000000e+00,\n",
       "       0.00000000e+00, 0.00000000e+00, 0.00000000e+00, 0.00000000e+00,\n",
       "       0.00000000e+00, 0.00000000e+00, 0.00000000e+00, 0.00000000e+00,\n",
       "       0.00000000e+00, 0.00000000e+00, 0.00000000e+00, 0.00000000e+00,\n",
       "       0.00000000e+00, 0.00000000e+00, 0.00000000e+00, 0.00000000e+00,\n",
       "       0.00000000e+00, 0.00000000e+00, 1.18191639e-06, 1.65752554e-05,\n",
       "       0.00000000e+00, 0.00000000e+00, 0.00000000e+00, 0.00000000e+00,\n",
       "       0.00000000e+00, 0.00000000e+00, 0.00000000e+00, 0.00000000e+00,\n",
       "       0.00000000e+00, 0.00000000e+00, 0.00000000e+00, 0.00000000e+00,\n",
       "       0.00000000e+00, 0.00000000e+00, 0.00000000e+00, 0.00000000e+00,\n",
       "       0.00000000e+00, 0.00000000e+00, 0.00000000e+00, 0.00000000e+00,\n",
       "       7.51729645e-05, 3.45962476e-05, 0.00000000e+00, 0.00000000e+00,\n",
       "       0.00000000e+00, 0.00000000e+00, 0.00000000e+00, 0.00000000e+00,\n",
       "       0.00000000e+00, 0.00000000e+00, 0.00000000e+00, 0.00000000e+00,\n",
       "       0.00000000e+00, 0.00000000e+00, 0.00000000e+00, 0.00000000e+00,\n",
       "       0.00000000e+00, 0.00000000e+00, 0.00000000e+00, 0.00000000e+00,\n",
       "       0.00000000e+00, 0.00000000e+00, 5.23827671e-05, 0.00000000e+00,\n",
       "       0.00000000e+00, 0.00000000e+00, 0.00000000e+00, 0.00000000e+00,\n",
       "       0.00000000e+00, 0.00000000e+00, 0.00000000e+00, 0.00000000e+00,\n",
       "       0.00000000e+00, 0.00000000e+00, 0.00000000e+00, 0.00000000e+00,\n",
       "       0.00000000e+00, 0.00000000e+00, 0.00000000e+00, 0.00000000e+00,\n",
       "       0.00000000e+00, 0.00000000e+00, 0.00000000e+00, 0.00000000e+00,\n",
       "       8.05953437e-06, 2.47145998e-05, 0.00000000e+00, 0.00000000e+00,\n",
       "       0.00000000e+00, 0.00000000e+00, 0.00000000e+00, 0.00000000e+00,\n",
       "       0.00000000e+00, 0.00000000e+00, 1.43983284e-06, 0.00000000e+00,\n",
       "       0.00000000e+00, 1.53037503e-06, 0.00000000e+00, 0.00000000e+00,\n",
       "       0.00000000e+00, 0.00000000e+00, 0.00000000e+00, 0.00000000e+00,\n",
       "       0.00000000e+00, 0.00000000e+00, 2.11263260e-05, 9.39968827e-06,\n",
       "       0.00000000e+00, 0.00000000e+00, 0.00000000e+00, 0.00000000e+00,\n",
       "       0.00000000e+00, 1.33656052e-06, 0.00000000e+00, 0.00000000e+00,\n",
       "       1.32015558e-06, 0.00000000e+00, 0.00000000e+00, 0.00000000e+00,\n",
       "       0.00000000e+00, 0.00000000e+00, 0.00000000e+00, 0.00000000e+00,\n",
       "       0.00000000e+00, 0.00000000e+00, 9.84822464e-07, 0.00000000e+00,\n",
       "       1.86523671e-06, 0.00000000e+00, 0.00000000e+00, 0.00000000e+00,\n",
       "       0.00000000e+00, 1.46394067e-06, 0.00000000e+00, 0.00000000e+00,\n",
       "       0.00000000e+00, 0.00000000e+00, 0.00000000e+00, 0.00000000e+00,\n",
       "       0.00000000e+00, 0.00000000e+00, 0.00000000e+00, 0.00000000e+00,\n",
       "       0.00000000e+00, 0.00000000e+00, 0.00000000e+00, 0.00000000e+00,\n",
       "       0.00000000e+00, 0.00000000e+00, 2.33495478e-05, 0.00000000e+00,\n",
       "       0.00000000e+00, 0.00000000e+00, 0.00000000e+00, 1.83650162e-06,\n",
       "       0.00000000e+00, 0.00000000e+00, 0.00000000e+00, 0.00000000e+00,\n",
       "       0.00000000e+00, 0.00000000e+00, 0.00000000e+00, 0.00000000e+00,\n",
       "       0.00000000e+00, 0.00000000e+00, 0.00000000e+00, 0.00000000e+00,\n",
       "       0.00000000e+00, 0.00000000e+00, 0.00000000e+00, 0.00000000e+00,\n",
       "       0.00000000e+00, 0.00000000e+00, 0.00000000e+00, 0.00000000e+00,\n",
       "       0.00000000e+00, 1.11140748e-06, 0.00000000e+00, 0.00000000e+00,\n",
       "       0.00000000e+00, 0.00000000e+00, 0.00000000e+00, 0.00000000e+00,\n",
       "       0.00000000e+00, 0.00000000e+00, 0.00000000e+00, 0.00000000e+00,\n",
       "       0.00000000e+00, 0.00000000e+00, 0.00000000e+00, 0.00000000e+00,\n",
       "       0.00000000e+00, 0.00000000e+00, 0.00000000e+00, 1.89250572e-04,\n",
       "       0.00000000e+00, 0.00000000e+00, 0.00000000e+00, 0.00000000e+00,\n",
       "       0.00000000e+00, 0.00000000e+00, 0.00000000e+00, 0.00000000e+00,\n",
       "       0.00000000e+00, 0.00000000e+00, 0.00000000e+00, 0.00000000e+00,\n",
       "       0.00000000e+00, 0.00000000e+00, 0.00000000e+00, 0.00000000e+00,\n",
       "       0.00000000e+00, 0.00000000e+00, 0.00000000e+00, 0.00000000e+00,\n",
       "       1.16290659e-06, 1.16114397e-03, 0.00000000e+00, 0.00000000e+00,\n",
       "       0.00000000e+00, 0.00000000e+00, 0.00000000e+00, 0.00000000e+00,\n",
       "       0.00000000e+00, 0.00000000e+00, 0.00000000e+00, 0.00000000e+00,\n",
       "       0.00000000e+00, 0.00000000e+00, 0.00000000e+00, 0.00000000e+00,\n",
       "       0.00000000e+00, 0.00000000e+00, 0.00000000e+00, 0.00000000e+00,\n",
       "       0.00000000e+00, 0.00000000e+00, 3.92269557e-06, 4.36984804e-03,\n",
       "       0.00000000e+00, 0.00000000e+00, 0.00000000e+00, 0.00000000e+00,\n",
       "       0.00000000e+00, 0.00000000e+00, 0.00000000e+00, 0.00000000e+00,\n",
       "       0.00000000e+00, 0.00000000e+00, 0.00000000e+00, 0.00000000e+00,\n",
       "       0.00000000e+00, 0.00000000e+00, 0.00000000e+00, 0.00000000e+00,\n",
       "       0.00000000e+00, 0.00000000e+00, 0.00000000e+00, 0.00000000e+00,\n",
       "       1.66361124e-06, 5.96439887e-03, 0.00000000e+00, 0.00000000e+00,\n",
       "       0.00000000e+00, 0.00000000e+00, 0.00000000e+00, 0.00000000e+00,\n",
       "       0.00000000e+00, 0.00000000e+00, 0.00000000e+00, 0.00000000e+00,\n",
       "       0.00000000e+00, 0.00000000e+00, 0.00000000e+00, 0.00000000e+00,\n",
       "       2.79010646e-06, 0.00000000e+00, 0.00000000e+00, 0.00000000e+00,\n",
       "       0.00000000e+00, 0.00000000e+00, 0.00000000e+00, 1.25830380e-02,\n",
       "       0.00000000e+00, 0.00000000e+00, 0.00000000e+00, 0.00000000e+00,\n",
       "       0.00000000e+00, 0.00000000e+00, 0.00000000e+00, 0.00000000e+00,\n",
       "       0.00000000e+00, 0.00000000e+00, 0.00000000e+00, 0.00000000e+00,\n",
       "       0.00000000e+00, 0.00000000e+00, 0.00000000e+00, 0.00000000e+00,\n",
       "       0.00000000e+00, 0.00000000e+00, 0.00000000e+00, 0.00000000e+00,\n",
       "       0.00000000e+00, 5.01279049e-04, 0.00000000e+00, 0.00000000e+00,\n",
       "       0.00000000e+00, 0.00000000e+00, 0.00000000e+00, 0.00000000e+00,\n",
       "       0.00000000e+00, 0.00000000e+00, 0.00000000e+00, 0.00000000e+00,\n",
       "       0.00000000e+00, 0.00000000e+00, 0.00000000e+00, 0.00000000e+00,\n",
       "       0.00000000e+00, 0.00000000e+00, 0.00000000e+00, 0.00000000e+00,\n",
       "       0.00000000e+00, 0.00000000e+00, 0.00000000e+00, 0.00000000e+00,\n",
       "       0.00000000e+00, 0.00000000e+00, 5.89728653e-05, 0.00000000e+00,\n",
       "       0.00000000e+00, 0.00000000e+00, 0.00000000e+00, 0.00000000e+00,\n",
       "       0.00000000e+00, 0.00000000e+00, 0.00000000e+00, 0.00000000e+00,\n",
       "       0.00000000e+00, 0.00000000e+00, 0.00000000e+00, 0.00000000e+00,\n",
       "       0.00000000e+00, 0.00000000e+00, 0.00000000e+00, 0.00000000e+00,\n",
       "       0.00000000e+00, 0.00000000e+00, 0.00000000e+00, 0.00000000e+00,\n",
       "       1.73634397e-03, 0.00000000e+00, 2.62127080e-03, 0.00000000e+00,\n",
       "       0.00000000e+00, 1.06233997e-06, 0.00000000e+00, 0.00000000e+00,\n",
       "       0.00000000e+00, 0.00000000e+00, 0.00000000e+00, 0.00000000e+00,\n",
       "       0.00000000e+00, 0.00000000e+00, 0.00000000e+00, 0.00000000e+00,\n",
       "       0.00000000e+00, 0.00000000e+00, 9.68583950e-01, 0.00000000e+00])"
      ]
     },
     "execution_count": 83,
     "metadata": {},
     "output_type": "execute_result"
    }
   ],
   "source": [
    "feature_imp"
   ]
  },
  {
   "cell_type": "code",
   "execution_count": 84,
   "metadata": {
    "colab": {
     "base_uri": "https://localhost:8080/"
    },
    "id": "_A8XUNHxZgyi",
    "outputId": "e7b18d25-1e9d-41e4-aaf6-26e10e9eac96"
   },
   "outputs": [
    {
     "data": {
      "text/plain": [
       "(660,)"
      ]
     },
     "execution_count": 84,
     "metadata": {},
     "output_type": "execute_result"
    }
   ],
   "source": [
    "feature_imp.shape"
   ]
  },
  {
   "cell_type": "code",
   "execution_count": 86,
   "metadata": {
    "colab": {
     "base_uri": "https://localhost:8080/"
    },
    "id": "2dsL_ERJdyey",
    "outputId": "19775488-0ccd-42bc-e06a-866134843afe"
   },
   "outputs": [
    {
     "data": {
      "text/plain": [
       "30.0"
      ]
     },
     "execution_count": 86,
     "metadata": {},
     "output_type": "execute_result"
    }
   ],
   "source": [
    "feature_imp.shape[0] / num_features"
   ]
  },
  {
   "cell_type": "code",
   "execution_count": 87,
   "metadata": {
    "id": "EiPBjNfxZhiO"
   },
   "outputs": [],
   "source": [
    "def get_features_sum(num_windows, num_features, features_ar):\n",
    "    features_ar = np.reshape(features_ar, [num_windows, num_features])\n",
    "\n",
    "    feature_df = pd.DataFrame(data = features_ar,\n",
    "                      columns = ['lat','lon','PRECTOT', 'PS', 'QV2M', 'T2M', 'T2MDEW', 'T2MWET',\n",
    "       'T2M_MAX', 'T2M_MIN', 'T2M_RANGE', 'TS', 'WS10M', 'WS10M_MAX',\n",
    "       'WS10M_MIN', 'WS10M_RANGE', 'WS50M', 'WS50M_MAX', 'WS50M_MIN',\n",
    "       'WS50M_RANGE', 'score', 'month'])\n",
    "\n",
    "    print(feature_df.sum())\n",
    "    # print(feature_df.sum().apply(lambda x: format(x, '.20f')))"
   ]
  },
  {
   "cell_type": "code",
   "execution_count": 88,
   "metadata": {
    "colab": {
     "base_uri": "https://localhost:8080/"
    },
    "id": "YXO4JH44Zjri",
    "outputId": "fc4f4276-8947-42bb-a8e2-a6cf232997ce"
   },
   "outputs": [
    {
     "name": "stdout",
     "output_type": "stream",
     "text": [
      "lat            0.000000e+00\n",
      "lon            0.000000e+00\n",
      "PRECTOT        1.795317e-03\n",
      "PS             4.411850e-06\n",
      "QV2M           2.621271e-03\n",
      "T2M            1.336561e-06\n",
      "T2MDEW         0.000000e+00\n",
      "T2MWET         1.062340e-06\n",
      "T2M_MAX        2.759988e-06\n",
      "T2M_MIN        0.000000e+00\n",
      "T2M_RANGE      0.000000e+00\n",
      "TS             1.530375e-06\n",
      "WS10M          0.000000e+00\n",
      "WS10M_MAX      0.000000e+00\n",
      "WS10M_MIN      2.790106e-06\n",
      "WS10M_RANGE    0.000000e+00\n",
      "WS50M          0.000000e+00\n",
      "WS50M_MAX      0.000000e+00\n",
      "WS50M_MIN      9.848225e-07\n",
      "WS50M_RANGE    0.000000e+00\n",
      "score          9.691055e-01\n",
      "month          2.646299e-02\n",
      "dtype: float64\n"
     ]
    }
   ],
   "source": [
    "get_features_sum(int(feature_imp.shape[0] / num_features), num_features, feature_imp)"
   ]
  }
 ],
 "metadata": {
  "accelerator": "GPU",
  "colab": {
   "gpuType": "T4",
   "include_colab_link": true,
   "provenance": []
  },
  "kernelspec": {
   "display_name": "Python 3 (ipykernel)",
   "language": "python",
   "name": "python3"
  },
  "language_info": {
   "codemirror_mode": {
    "name": "ipython",
    "version": 3
   },
   "file_extension": ".py",
   "mimetype": "text/x-python",
   "name": "python",
   "nbconvert_exporter": "python",
   "pygments_lexer": "ipython3",
   "version": "3.10.6"
  }
 },
 "nbformat": 4,
 "nbformat_minor": 4
}
